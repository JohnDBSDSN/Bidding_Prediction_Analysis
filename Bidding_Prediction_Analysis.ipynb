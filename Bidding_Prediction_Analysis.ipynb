{
  "nbformat": 4,
  "nbformat_minor": 0,
  "metadata": {
    "colab": {
      "provenance": []
    },
    "kernelspec": {
      "name": "python3",
      "display_name": "Python 3"
    },
    "language_info": {
      "name": "python"
    }
  },
  "cells": [
    {
      "cell_type": "markdown",
      "source": [
        "\n",
        "Emerton is a global high-end strategy consulting group specialities in Strategy consulting, Digital transformation, Business transformation, Innovation & Data analytics\n",
        "\n",
        "Analyse and predict the win/bidding possibilities of deals/project for an IT consulting company and see how the possibility of bidding is impacted by other agents. It also will enable the company to manage the effort required to win the deal to meet the growth targets. To recommend top 5 Head-Bid managers"
      ],
      "metadata": {
        "id": "M0QdKc3Xujie"
      }
    },
    {
      "cell_type": "code",
      "source": [],
      "metadata": {
        "id": "dwDLaYXxsEcg"
      },
      "execution_count": 76,
      "outputs": []
    },
    {
      "cell_type": "code",
      "source": [],
      "metadata": {
        "id": "k_JVfbrpsEhq"
      },
      "execution_count": 76,
      "outputs": []
    },
    {
      "cell_type": "code",
      "execution_count": 76,
      "metadata": {
        "id": "8W2Na3HFudPF"
      },
      "outputs": [],
      "source": []
    },
    {
      "cell_type": "code",
      "source": [
        "from google.colab import drive\n",
        "drive.mount('/content/drive')"
      ],
      "metadata": {
        "colab": {
          "base_uri": "https://localhost:8080/",
          "height": 0
        },
        "id": "X2ELAseKFlYE",
        "outputId": "ab0741c8-182c-41f1-a14a-a81f3523915e"
      },
      "execution_count": 77,
      "outputs": [
        {
          "output_type": "stream",
          "name": "stdout",
          "text": [
            "Drive already mounted at /content/drive; to attempt to forcibly remount, call drive.mount(\"/content/drive\", force_remount=True).\n"
          ]
        }
      ]
    },
    {
      "cell_type": "code",
      "source": [
        "cd /content/drive/MyDrive/Colab_Notebooks/Learnbay_Interviews/WIN_Predcition_Finance"
      ],
      "metadata": {
        "colab": {
          "base_uri": "https://localhost:8080/",
          "height": 0
        },
        "id": "Bl4Hs5xoueW2",
        "outputId": "b5a1da8b-3091-4d7c-c911-9c7a4f2625df"
      },
      "execution_count": 78,
      "outputs": [
        {
          "output_type": "stream",
          "name": "stdout",
          "text": [
            "/content/drive/MyDrive/Colab_Notebooks/Learnbay_Interviews/WIN_Predcition_Finance\n"
          ]
        }
      ]
    },
    {
      "cell_type": "code",
      "source": [
        "ls"
      ],
      "metadata": {
        "colab": {
          "base_uri": "https://localhost:8080/",
          "height": 0
        },
        "id": "SkQTVGYPueZn",
        "outputId": "ea25e226-2b3b-4439-f65f-6bf41e632601"
      },
      "execution_count": 79,
      "outputs": [
        {
          "output_type": "stream",
          "name": "stdout",
          "text": [
            "Project_Win_Prediction_Analytics.pdf  WIN_Prediction_Finance.ipynb\n",
            "Win_Prediction_Data.xlsx\n"
          ]
        }
      ]
    },
    {
      "cell_type": "code",
      "source": [
        "# Importing the basic packages\n",
        "\n",
        "import numpy as np\n",
        "import pandas as pd\n",
        "import matplotlib.pyplot as plt\n",
        "import seaborn as sns\n",
        "import sklearn\n",
        "import warnings\n",
        "warnings.filterwarnings('ignore')\n",
        "import os\n",
        "\n",
        "import tensorflow as tf #tensor flow is the backend\n",
        "from tensorflow import keras # keras is the frontend or wrapper; Keras is best for DS.. In Tensorflow if its\n",
        "                             # 100 lines of code, In Keras it will be 5 lines of code."
      ],
      "metadata": {
        "id": "GF9lelSzuecG"
      },
      "execution_count": 80,
      "outputs": []
    },
    {
      "cell_type": "code",
      "source": [
        " #importing the dataset\n",
        "\n",
        " my_data = pd.read_excel('Win_Prediction_Data.xlsx')\n",
        " my_data"
      ],
      "metadata": {
        "colab": {
          "base_uri": "https://localhost:8080/",
          "height": 424
        },
        "id": "AXBqJgBoueex",
        "outputId": "2f0cb55a-6fce-4dd2-c7d9-7b47b14f0e09"
      },
      "execution_count": 81,
      "outputs": [
        {
          "output_type": "execute_result",
          "data": {
            "text/plain": [
              "      Client Category Solution Type  Deal Date     Sector Location  \\\n",
              "0             Telecom    Solution 7 2012-03-27  Sector 24       L5   \n",
              "1             Telecom    Solution 7 2012-09-25  Sector 24       L5   \n",
              "2            Internal   Solution 59 2011-08-01  Sector 20   Others   \n",
              "3            Internal   Solution 59 2011-04-28  Sector 20   Others   \n",
              "4            Internal   Solution 32 2011-06-03  Sector 20   Others   \n",
              "...               ...           ...        ...        ...      ...   \n",
              "10056       Power ind    Solution 9 2019-03-18   Sector 9       L5   \n",
              "10057        Internal    Solution 6 2019-03-04  Sector 20   Others   \n",
              "10058       Power ind    Solution 9 2019-02-28   Sector 9       L5   \n",
              "10059       Power ind   Solution 62 2019-01-27   Sector 9       L5   \n",
              "10060          Others    Solution 9 2019-05-30  Sector 12      L10   \n",
              "\n",
              "               VP Name     Manager Name   Deal Cost Deal Status Code  \n",
              "0          Ekta Zutshi  Gopa Trilochana   150000.00              Won  \n",
              "1          Ekta Zutshi  Gopa Trilochana   744705.88              Won  \n",
              "2          Ekta Zutshi   Russell Dahlen    60000.00             Lost  \n",
              "3          Ekta Zutshi   Russell Dahlen    60000.00             Lost  \n",
              "4          Ekta Zutshi   Russell Dahlen    80882.35             Lost  \n",
              "...                ...              ...         ...              ...  \n",
              "10056  Rudraksh Sharma  Rudraksh Sharma   588235.29             Lost  \n",
              "10057  Rudraksh Sharma   Sharavan Singh   777058.82              Won  \n",
              "10058  Rudraksh Sharma  Rudraksh Sharma   588235.29             Lost  \n",
              "10059      Man Suddeth  Cleotilde Biron  3042058.82              Won  \n",
              "10060  Son Mcconnaughy       Tarun Garg   147058.82             Lost  \n",
              "\n",
              "[10061 rows x 9 columns]"
            ],
            "text/html": [
              "\n",
              "  <div id=\"df-14def281-301f-4731-bee1-530c095a8af3\">\n",
              "    <div class=\"colab-df-container\">\n",
              "      <div>\n",
              "<style scoped>\n",
              "    .dataframe tbody tr th:only-of-type {\n",
              "        vertical-align: middle;\n",
              "    }\n",
              "\n",
              "    .dataframe tbody tr th {\n",
              "        vertical-align: top;\n",
              "    }\n",
              "\n",
              "    .dataframe thead th {\n",
              "        text-align: right;\n",
              "    }\n",
              "</style>\n",
              "<table border=\"1\" class=\"dataframe\">\n",
              "  <thead>\n",
              "    <tr style=\"text-align: right;\">\n",
              "      <th></th>\n",
              "      <th>Client Category</th>\n",
              "      <th>Solution Type</th>\n",
              "      <th>Deal Date</th>\n",
              "      <th>Sector</th>\n",
              "      <th>Location</th>\n",
              "      <th>VP Name</th>\n",
              "      <th>Manager Name</th>\n",
              "      <th>Deal Cost</th>\n",
              "      <th>Deal Status Code</th>\n",
              "    </tr>\n",
              "  </thead>\n",
              "  <tbody>\n",
              "    <tr>\n",
              "      <th>0</th>\n",
              "      <td>Telecom</td>\n",
              "      <td>Solution 7</td>\n",
              "      <td>2012-03-27</td>\n",
              "      <td>Sector 24</td>\n",
              "      <td>L5</td>\n",
              "      <td>Ekta Zutshi</td>\n",
              "      <td>Gopa Trilochana</td>\n",
              "      <td>150000.00</td>\n",
              "      <td>Won</td>\n",
              "    </tr>\n",
              "    <tr>\n",
              "      <th>1</th>\n",
              "      <td>Telecom</td>\n",
              "      <td>Solution 7</td>\n",
              "      <td>2012-09-25</td>\n",
              "      <td>Sector 24</td>\n",
              "      <td>L5</td>\n",
              "      <td>Ekta Zutshi</td>\n",
              "      <td>Gopa Trilochana</td>\n",
              "      <td>744705.88</td>\n",
              "      <td>Won</td>\n",
              "    </tr>\n",
              "    <tr>\n",
              "      <th>2</th>\n",
              "      <td>Internal</td>\n",
              "      <td>Solution 59</td>\n",
              "      <td>2011-08-01</td>\n",
              "      <td>Sector 20</td>\n",
              "      <td>Others</td>\n",
              "      <td>Ekta Zutshi</td>\n",
              "      <td>Russell Dahlen</td>\n",
              "      <td>60000.00</td>\n",
              "      <td>Lost</td>\n",
              "    </tr>\n",
              "    <tr>\n",
              "      <th>3</th>\n",
              "      <td>Internal</td>\n",
              "      <td>Solution 59</td>\n",
              "      <td>2011-04-28</td>\n",
              "      <td>Sector 20</td>\n",
              "      <td>Others</td>\n",
              "      <td>Ekta Zutshi</td>\n",
              "      <td>Russell Dahlen</td>\n",
              "      <td>60000.00</td>\n",
              "      <td>Lost</td>\n",
              "    </tr>\n",
              "    <tr>\n",
              "      <th>4</th>\n",
              "      <td>Internal</td>\n",
              "      <td>Solution 32</td>\n",
              "      <td>2011-06-03</td>\n",
              "      <td>Sector 20</td>\n",
              "      <td>Others</td>\n",
              "      <td>Ekta Zutshi</td>\n",
              "      <td>Russell Dahlen</td>\n",
              "      <td>80882.35</td>\n",
              "      <td>Lost</td>\n",
              "    </tr>\n",
              "    <tr>\n",
              "      <th>...</th>\n",
              "      <td>...</td>\n",
              "      <td>...</td>\n",
              "      <td>...</td>\n",
              "      <td>...</td>\n",
              "      <td>...</td>\n",
              "      <td>...</td>\n",
              "      <td>...</td>\n",
              "      <td>...</td>\n",
              "      <td>...</td>\n",
              "    </tr>\n",
              "    <tr>\n",
              "      <th>10056</th>\n",
              "      <td>Power ind</td>\n",
              "      <td>Solution 9</td>\n",
              "      <td>2019-03-18</td>\n",
              "      <td>Sector 9</td>\n",
              "      <td>L5</td>\n",
              "      <td>Rudraksh Sharma</td>\n",
              "      <td>Rudraksh Sharma</td>\n",
              "      <td>588235.29</td>\n",
              "      <td>Lost</td>\n",
              "    </tr>\n",
              "    <tr>\n",
              "      <th>10057</th>\n",
              "      <td>Internal</td>\n",
              "      <td>Solution 6</td>\n",
              "      <td>2019-03-04</td>\n",
              "      <td>Sector 20</td>\n",
              "      <td>Others</td>\n",
              "      <td>Rudraksh Sharma</td>\n",
              "      <td>Sharavan Singh</td>\n",
              "      <td>777058.82</td>\n",
              "      <td>Won</td>\n",
              "    </tr>\n",
              "    <tr>\n",
              "      <th>10058</th>\n",
              "      <td>Power ind</td>\n",
              "      <td>Solution 9</td>\n",
              "      <td>2019-02-28</td>\n",
              "      <td>Sector 9</td>\n",
              "      <td>L5</td>\n",
              "      <td>Rudraksh Sharma</td>\n",
              "      <td>Rudraksh Sharma</td>\n",
              "      <td>588235.29</td>\n",
              "      <td>Lost</td>\n",
              "    </tr>\n",
              "    <tr>\n",
              "      <th>10059</th>\n",
              "      <td>Power ind</td>\n",
              "      <td>Solution 62</td>\n",
              "      <td>2019-01-27</td>\n",
              "      <td>Sector 9</td>\n",
              "      <td>L5</td>\n",
              "      <td>Man Suddeth</td>\n",
              "      <td>Cleotilde Biron</td>\n",
              "      <td>3042058.82</td>\n",
              "      <td>Won</td>\n",
              "    </tr>\n",
              "    <tr>\n",
              "      <th>10060</th>\n",
              "      <td>Others</td>\n",
              "      <td>Solution 9</td>\n",
              "      <td>2019-05-30</td>\n",
              "      <td>Sector 12</td>\n",
              "      <td>L10</td>\n",
              "      <td>Son Mcconnaughy</td>\n",
              "      <td>Tarun Garg</td>\n",
              "      <td>147058.82</td>\n",
              "      <td>Lost</td>\n",
              "    </tr>\n",
              "  </tbody>\n",
              "</table>\n",
              "<p>10061 rows × 9 columns</p>\n",
              "</div>\n",
              "      <button class=\"colab-df-convert\" onclick=\"convertToInteractive('df-14def281-301f-4731-bee1-530c095a8af3')\"\n",
              "              title=\"Convert this dataframe to an interactive table.\"\n",
              "              style=\"display:none;\">\n",
              "        \n",
              "  <svg xmlns=\"http://www.w3.org/2000/svg\" height=\"24px\"viewBox=\"0 0 24 24\"\n",
              "       width=\"24px\">\n",
              "    <path d=\"M0 0h24v24H0V0z\" fill=\"none\"/>\n",
              "    <path d=\"M18.56 5.44l.94 2.06.94-2.06 2.06-.94-2.06-.94-.94-2.06-.94 2.06-2.06.94zm-11 1L8.5 8.5l.94-2.06 2.06-.94-2.06-.94L8.5 2.5l-.94 2.06-2.06.94zm10 10l.94 2.06.94-2.06 2.06-.94-2.06-.94-.94-2.06-.94 2.06-2.06.94z\"/><path d=\"M17.41 7.96l-1.37-1.37c-.4-.4-.92-.59-1.43-.59-.52 0-1.04.2-1.43.59L10.3 9.45l-7.72 7.72c-.78.78-.78 2.05 0 2.83L4 21.41c.39.39.9.59 1.41.59.51 0 1.02-.2 1.41-.59l7.78-7.78 2.81-2.81c.8-.78.8-2.07 0-2.86zM5.41 20L4 18.59l7.72-7.72 1.47 1.35L5.41 20z\"/>\n",
              "  </svg>\n",
              "      </button>\n",
              "      \n",
              "  <style>\n",
              "    .colab-df-container {\n",
              "      display:flex;\n",
              "      flex-wrap:wrap;\n",
              "      gap: 12px;\n",
              "    }\n",
              "\n",
              "    .colab-df-convert {\n",
              "      background-color: #E8F0FE;\n",
              "      border: none;\n",
              "      border-radius: 50%;\n",
              "      cursor: pointer;\n",
              "      display: none;\n",
              "      fill: #1967D2;\n",
              "      height: 32px;\n",
              "      padding: 0 0 0 0;\n",
              "      width: 32px;\n",
              "    }\n",
              "\n",
              "    .colab-df-convert:hover {\n",
              "      background-color: #E2EBFA;\n",
              "      box-shadow: 0px 1px 2px rgba(60, 64, 67, 0.3), 0px 1px 3px 1px rgba(60, 64, 67, 0.15);\n",
              "      fill: #174EA6;\n",
              "    }\n",
              "\n",
              "    [theme=dark] .colab-df-convert {\n",
              "      background-color: #3B4455;\n",
              "      fill: #D2E3FC;\n",
              "    }\n",
              "\n",
              "    [theme=dark] .colab-df-convert:hover {\n",
              "      background-color: #434B5C;\n",
              "      box-shadow: 0px 1px 3px 1px rgba(0, 0, 0, 0.15);\n",
              "      filter: drop-shadow(0px 1px 2px rgba(0, 0, 0, 0.3));\n",
              "      fill: #FFFFFF;\n",
              "    }\n",
              "  </style>\n",
              "\n",
              "      <script>\n",
              "        const buttonEl =\n",
              "          document.querySelector('#df-14def281-301f-4731-bee1-530c095a8af3 button.colab-df-convert');\n",
              "        buttonEl.style.display =\n",
              "          google.colab.kernel.accessAllowed ? 'block' : 'none';\n",
              "\n",
              "        async function convertToInteractive(key) {\n",
              "          const element = document.querySelector('#df-14def281-301f-4731-bee1-530c095a8af3');\n",
              "          const dataTable =\n",
              "            await google.colab.kernel.invokeFunction('convertToInteractive',\n",
              "                                                     [key], {});\n",
              "          if (!dataTable) return;\n",
              "\n",
              "          const docLinkHtml = 'Like what you see? Visit the ' +\n",
              "            '<a target=\"_blank\" href=https://colab.research.google.com/notebooks/data_table.ipynb>data table notebook</a>'\n",
              "            + ' to learn more about interactive tables.';\n",
              "          element.innerHTML = '';\n",
              "          dataTable['output_type'] = 'display_data';\n",
              "          await google.colab.output.renderOutput(dataTable, element);\n",
              "          const docLink = document.createElement('div');\n",
              "          docLink.innerHTML = docLinkHtml;\n",
              "          element.appendChild(docLink);\n",
              "        }\n",
              "      </script>\n",
              "    </div>\n",
              "  </div>\n",
              "  "
            ]
          },
          "metadata": {},
          "execution_count": 81
        }
      ]
    },
    {
      "cell_type": "code",
      "source": [
        "newdata = my_data.copy()\n",
        "newdata"
      ],
      "metadata": {
        "colab": {
          "base_uri": "https://localhost:8080/",
          "height": 424
        },
        "id": "RYLRpF1buehC",
        "outputId": "0e3ae549-4fa7-4e2f-93a5-8d29976a3ac3"
      },
      "execution_count": 82,
      "outputs": [
        {
          "output_type": "execute_result",
          "data": {
            "text/plain": [
              "      Client Category Solution Type  Deal Date     Sector Location  \\\n",
              "0             Telecom    Solution 7 2012-03-27  Sector 24       L5   \n",
              "1             Telecom    Solution 7 2012-09-25  Sector 24       L5   \n",
              "2            Internal   Solution 59 2011-08-01  Sector 20   Others   \n",
              "3            Internal   Solution 59 2011-04-28  Sector 20   Others   \n",
              "4            Internal   Solution 32 2011-06-03  Sector 20   Others   \n",
              "...               ...           ...        ...        ...      ...   \n",
              "10056       Power ind    Solution 9 2019-03-18   Sector 9       L5   \n",
              "10057        Internal    Solution 6 2019-03-04  Sector 20   Others   \n",
              "10058       Power ind    Solution 9 2019-02-28   Sector 9       L5   \n",
              "10059       Power ind   Solution 62 2019-01-27   Sector 9       L5   \n",
              "10060          Others    Solution 9 2019-05-30  Sector 12      L10   \n",
              "\n",
              "               VP Name     Manager Name   Deal Cost Deal Status Code  \n",
              "0          Ekta Zutshi  Gopa Trilochana   150000.00              Won  \n",
              "1          Ekta Zutshi  Gopa Trilochana   744705.88              Won  \n",
              "2          Ekta Zutshi   Russell Dahlen    60000.00             Lost  \n",
              "3          Ekta Zutshi   Russell Dahlen    60000.00             Lost  \n",
              "4          Ekta Zutshi   Russell Dahlen    80882.35             Lost  \n",
              "...                ...              ...         ...              ...  \n",
              "10056  Rudraksh Sharma  Rudraksh Sharma   588235.29             Lost  \n",
              "10057  Rudraksh Sharma   Sharavan Singh   777058.82              Won  \n",
              "10058  Rudraksh Sharma  Rudraksh Sharma   588235.29             Lost  \n",
              "10059      Man Suddeth  Cleotilde Biron  3042058.82              Won  \n",
              "10060  Son Mcconnaughy       Tarun Garg   147058.82             Lost  \n",
              "\n",
              "[10061 rows x 9 columns]"
            ],
            "text/html": [
              "\n",
              "  <div id=\"df-b4ecd406-0266-45c0-866f-7997e94d9050\">\n",
              "    <div class=\"colab-df-container\">\n",
              "      <div>\n",
              "<style scoped>\n",
              "    .dataframe tbody tr th:only-of-type {\n",
              "        vertical-align: middle;\n",
              "    }\n",
              "\n",
              "    .dataframe tbody tr th {\n",
              "        vertical-align: top;\n",
              "    }\n",
              "\n",
              "    .dataframe thead th {\n",
              "        text-align: right;\n",
              "    }\n",
              "</style>\n",
              "<table border=\"1\" class=\"dataframe\">\n",
              "  <thead>\n",
              "    <tr style=\"text-align: right;\">\n",
              "      <th></th>\n",
              "      <th>Client Category</th>\n",
              "      <th>Solution Type</th>\n",
              "      <th>Deal Date</th>\n",
              "      <th>Sector</th>\n",
              "      <th>Location</th>\n",
              "      <th>VP Name</th>\n",
              "      <th>Manager Name</th>\n",
              "      <th>Deal Cost</th>\n",
              "      <th>Deal Status Code</th>\n",
              "    </tr>\n",
              "  </thead>\n",
              "  <tbody>\n",
              "    <tr>\n",
              "      <th>0</th>\n",
              "      <td>Telecom</td>\n",
              "      <td>Solution 7</td>\n",
              "      <td>2012-03-27</td>\n",
              "      <td>Sector 24</td>\n",
              "      <td>L5</td>\n",
              "      <td>Ekta Zutshi</td>\n",
              "      <td>Gopa Trilochana</td>\n",
              "      <td>150000.00</td>\n",
              "      <td>Won</td>\n",
              "    </tr>\n",
              "    <tr>\n",
              "      <th>1</th>\n",
              "      <td>Telecom</td>\n",
              "      <td>Solution 7</td>\n",
              "      <td>2012-09-25</td>\n",
              "      <td>Sector 24</td>\n",
              "      <td>L5</td>\n",
              "      <td>Ekta Zutshi</td>\n",
              "      <td>Gopa Trilochana</td>\n",
              "      <td>744705.88</td>\n",
              "      <td>Won</td>\n",
              "    </tr>\n",
              "    <tr>\n",
              "      <th>2</th>\n",
              "      <td>Internal</td>\n",
              "      <td>Solution 59</td>\n",
              "      <td>2011-08-01</td>\n",
              "      <td>Sector 20</td>\n",
              "      <td>Others</td>\n",
              "      <td>Ekta Zutshi</td>\n",
              "      <td>Russell Dahlen</td>\n",
              "      <td>60000.00</td>\n",
              "      <td>Lost</td>\n",
              "    </tr>\n",
              "    <tr>\n",
              "      <th>3</th>\n",
              "      <td>Internal</td>\n",
              "      <td>Solution 59</td>\n",
              "      <td>2011-04-28</td>\n",
              "      <td>Sector 20</td>\n",
              "      <td>Others</td>\n",
              "      <td>Ekta Zutshi</td>\n",
              "      <td>Russell Dahlen</td>\n",
              "      <td>60000.00</td>\n",
              "      <td>Lost</td>\n",
              "    </tr>\n",
              "    <tr>\n",
              "      <th>4</th>\n",
              "      <td>Internal</td>\n",
              "      <td>Solution 32</td>\n",
              "      <td>2011-06-03</td>\n",
              "      <td>Sector 20</td>\n",
              "      <td>Others</td>\n",
              "      <td>Ekta Zutshi</td>\n",
              "      <td>Russell Dahlen</td>\n",
              "      <td>80882.35</td>\n",
              "      <td>Lost</td>\n",
              "    </tr>\n",
              "    <tr>\n",
              "      <th>...</th>\n",
              "      <td>...</td>\n",
              "      <td>...</td>\n",
              "      <td>...</td>\n",
              "      <td>...</td>\n",
              "      <td>...</td>\n",
              "      <td>...</td>\n",
              "      <td>...</td>\n",
              "      <td>...</td>\n",
              "      <td>...</td>\n",
              "    </tr>\n",
              "    <tr>\n",
              "      <th>10056</th>\n",
              "      <td>Power ind</td>\n",
              "      <td>Solution 9</td>\n",
              "      <td>2019-03-18</td>\n",
              "      <td>Sector 9</td>\n",
              "      <td>L5</td>\n",
              "      <td>Rudraksh Sharma</td>\n",
              "      <td>Rudraksh Sharma</td>\n",
              "      <td>588235.29</td>\n",
              "      <td>Lost</td>\n",
              "    </tr>\n",
              "    <tr>\n",
              "      <th>10057</th>\n",
              "      <td>Internal</td>\n",
              "      <td>Solution 6</td>\n",
              "      <td>2019-03-04</td>\n",
              "      <td>Sector 20</td>\n",
              "      <td>Others</td>\n",
              "      <td>Rudraksh Sharma</td>\n",
              "      <td>Sharavan Singh</td>\n",
              "      <td>777058.82</td>\n",
              "      <td>Won</td>\n",
              "    </tr>\n",
              "    <tr>\n",
              "      <th>10058</th>\n",
              "      <td>Power ind</td>\n",
              "      <td>Solution 9</td>\n",
              "      <td>2019-02-28</td>\n",
              "      <td>Sector 9</td>\n",
              "      <td>L5</td>\n",
              "      <td>Rudraksh Sharma</td>\n",
              "      <td>Rudraksh Sharma</td>\n",
              "      <td>588235.29</td>\n",
              "      <td>Lost</td>\n",
              "    </tr>\n",
              "    <tr>\n",
              "      <th>10059</th>\n",
              "      <td>Power ind</td>\n",
              "      <td>Solution 62</td>\n",
              "      <td>2019-01-27</td>\n",
              "      <td>Sector 9</td>\n",
              "      <td>L5</td>\n",
              "      <td>Man Suddeth</td>\n",
              "      <td>Cleotilde Biron</td>\n",
              "      <td>3042058.82</td>\n",
              "      <td>Won</td>\n",
              "    </tr>\n",
              "    <tr>\n",
              "      <th>10060</th>\n",
              "      <td>Others</td>\n",
              "      <td>Solution 9</td>\n",
              "      <td>2019-05-30</td>\n",
              "      <td>Sector 12</td>\n",
              "      <td>L10</td>\n",
              "      <td>Son Mcconnaughy</td>\n",
              "      <td>Tarun Garg</td>\n",
              "      <td>147058.82</td>\n",
              "      <td>Lost</td>\n",
              "    </tr>\n",
              "  </tbody>\n",
              "</table>\n",
              "<p>10061 rows × 9 columns</p>\n",
              "</div>\n",
              "      <button class=\"colab-df-convert\" onclick=\"convertToInteractive('df-b4ecd406-0266-45c0-866f-7997e94d9050')\"\n",
              "              title=\"Convert this dataframe to an interactive table.\"\n",
              "              style=\"display:none;\">\n",
              "        \n",
              "  <svg xmlns=\"http://www.w3.org/2000/svg\" height=\"24px\"viewBox=\"0 0 24 24\"\n",
              "       width=\"24px\">\n",
              "    <path d=\"M0 0h24v24H0V0z\" fill=\"none\"/>\n",
              "    <path d=\"M18.56 5.44l.94 2.06.94-2.06 2.06-.94-2.06-.94-.94-2.06-.94 2.06-2.06.94zm-11 1L8.5 8.5l.94-2.06 2.06-.94-2.06-.94L8.5 2.5l-.94 2.06-2.06.94zm10 10l.94 2.06.94-2.06 2.06-.94-2.06-.94-.94-2.06-.94 2.06-2.06.94z\"/><path d=\"M17.41 7.96l-1.37-1.37c-.4-.4-.92-.59-1.43-.59-.52 0-1.04.2-1.43.59L10.3 9.45l-7.72 7.72c-.78.78-.78 2.05 0 2.83L4 21.41c.39.39.9.59 1.41.59.51 0 1.02-.2 1.41-.59l7.78-7.78 2.81-2.81c.8-.78.8-2.07 0-2.86zM5.41 20L4 18.59l7.72-7.72 1.47 1.35L5.41 20z\"/>\n",
              "  </svg>\n",
              "      </button>\n",
              "      \n",
              "  <style>\n",
              "    .colab-df-container {\n",
              "      display:flex;\n",
              "      flex-wrap:wrap;\n",
              "      gap: 12px;\n",
              "    }\n",
              "\n",
              "    .colab-df-convert {\n",
              "      background-color: #E8F0FE;\n",
              "      border: none;\n",
              "      border-radius: 50%;\n",
              "      cursor: pointer;\n",
              "      display: none;\n",
              "      fill: #1967D2;\n",
              "      height: 32px;\n",
              "      padding: 0 0 0 0;\n",
              "      width: 32px;\n",
              "    }\n",
              "\n",
              "    .colab-df-convert:hover {\n",
              "      background-color: #E2EBFA;\n",
              "      box-shadow: 0px 1px 2px rgba(60, 64, 67, 0.3), 0px 1px 3px 1px rgba(60, 64, 67, 0.15);\n",
              "      fill: #174EA6;\n",
              "    }\n",
              "\n",
              "    [theme=dark] .colab-df-convert {\n",
              "      background-color: #3B4455;\n",
              "      fill: #D2E3FC;\n",
              "    }\n",
              "\n",
              "    [theme=dark] .colab-df-convert:hover {\n",
              "      background-color: #434B5C;\n",
              "      box-shadow: 0px 1px 3px 1px rgba(0, 0, 0, 0.15);\n",
              "      filter: drop-shadow(0px 1px 2px rgba(0, 0, 0, 0.3));\n",
              "      fill: #FFFFFF;\n",
              "    }\n",
              "  </style>\n",
              "\n",
              "      <script>\n",
              "        const buttonEl =\n",
              "          document.querySelector('#df-b4ecd406-0266-45c0-866f-7997e94d9050 button.colab-df-convert');\n",
              "        buttonEl.style.display =\n",
              "          google.colab.kernel.accessAllowed ? 'block' : 'none';\n",
              "\n",
              "        async function convertToInteractive(key) {\n",
              "          const element = document.querySelector('#df-b4ecd406-0266-45c0-866f-7997e94d9050');\n",
              "          const dataTable =\n",
              "            await google.colab.kernel.invokeFunction('convertToInteractive',\n",
              "                                                     [key], {});\n",
              "          if (!dataTable) return;\n",
              "\n",
              "          const docLinkHtml = 'Like what you see? Visit the ' +\n",
              "            '<a target=\"_blank\" href=https://colab.research.google.com/notebooks/data_table.ipynb>data table notebook</a>'\n",
              "            + ' to learn more about interactive tables.';\n",
              "          element.innerHTML = '';\n",
              "          dataTable['output_type'] = 'display_data';\n",
              "          await google.colab.output.renderOutput(dataTable, element);\n",
              "          const docLink = document.createElement('div');\n",
              "          docLink.innerHTML = docLinkHtml;\n",
              "          element.appendChild(docLink);\n",
              "        }\n",
              "      </script>\n",
              "    </div>\n",
              "  </div>\n",
              "  "
            ]
          },
          "metadata": {},
          "execution_count": 82
        }
      ]
    },
    {
      "cell_type": "code",
      "source": [
        "#Missing data\n",
        "\n",
        "newdata.isnull().sum()"
      ],
      "metadata": {
        "colab": {
          "base_uri": "https://localhost:8080/",
          "height": 0
        },
        "id": "x9Gdql19uelT",
        "outputId": "71001821-0224-4560-a55b-bad1fc2f5f1e"
      },
      "execution_count": 83,
      "outputs": [
        {
          "output_type": "execute_result",
          "data": {
            "text/plain": [
              "Client Category     79\n",
              "Solution Type        0\n",
              "Deal Date            0\n",
              "Sector               0\n",
              "Location             0\n",
              "VP Name              0\n",
              "Manager Name         0\n",
              "Deal Cost            0\n",
              "Deal Status Code     0\n",
              "dtype: int64"
            ]
          },
          "metadata": {},
          "execution_count": 83
        }
      ]
    },
    {
      "cell_type": "code",
      "source": [
        "newdata.isnull().sum()/len(newdata) * 100 # Missing percentage is .78%"
      ],
      "metadata": {
        "colab": {
          "base_uri": "https://localhost:8080/",
          "height": 0
        },
        "id": "-PZMq8cDuep1",
        "outputId": "0f839a3e-5b52-4ac3-f1f7-593967adb468"
      },
      "execution_count": 84,
      "outputs": [
        {
          "output_type": "execute_result",
          "data": {
            "text/plain": [
              "Client Category     0.78521\n",
              "Solution Type       0.00000\n",
              "Deal Date           0.00000\n",
              "Sector              0.00000\n",
              "Location            0.00000\n",
              "VP Name             0.00000\n",
              "Manager Name        0.00000\n",
              "Deal Cost           0.00000\n",
              "Deal Status Code    0.00000\n",
              "dtype: float64"
            ]
          },
          "metadata": {},
          "execution_count": 84
        }
      ]
    },
    {
      "cell_type": "code",
      "source": [
        "sns.heatmap(newdata.isnull(), yticklabels = False, cbar=True, cmap='cool')\n",
        "plt.show()"
      ],
      "metadata": {
        "colab": {
          "base_uri": "https://localhost:8080/",
          "height": 542
        },
        "id": "p6gUAhuvWiXH",
        "outputId": "bbb14afc-bbbb-4262-bbad-5d3ee924599d"
      },
      "execution_count": 85,
      "outputs": [
        {
          "output_type": "display_data",
          "data": {
            "text/plain": [
              "<Figure size 640x480 with 2 Axes>"
            ],
            "image/png": "[encoded data removed]"
          },
          "metadata": {}
        }
      ]
    },
    {
      "cell_type": "code",
      "source": [
        "  newdata.info()\n",
        "\n",
        "  # Most of the datatypes are object. "
      ],
      "metadata": {
        "colab": {
          "base_uri": "https://localhost:8080/",
          "height": 0
        },
        "id": "zzsj9DUFuesm",
        "outputId": "81d9da14-48b3-49d7-e558-f21c71136aa0"
      },
      "execution_count": 86,
      "outputs": [
        {
          "output_type": "stream",
          "name": "stdout",
          "text": [
            "<class 'pandas.core.frame.DataFrame'>\n",
            "RangeIndex: 10061 entries, 0 to 10060\n",
            "Data columns (total 9 columns):\n",
            " #   Column            Non-Null Count  Dtype         \n",
            "---  ------            --------------  -----         \n",
            " 0   Client Category   9982 non-null   object        \n",
            " 1   Solution Type     10061 non-null  object        \n",
            " 2   Deal Date         10061 non-null  datetime64[ns]\n",
            " 3   Sector            10061 non-null  object        \n",
            " 4   Location          10061 non-null  object        \n",
            " 5   VP Name           10061 non-null  object        \n",
            " 6   Manager Name      10061 non-null  object        \n",
            " 7   Deal Cost         10061 non-null  float64       \n",
            " 8   Deal Status Code  10061 non-null  object        \n",
            "dtypes: datetime64[ns](1), float64(1), object(7)\n",
            "memory usage: 707.5+ KB\n"
          ]
        }
      ]
    },
    {
      "cell_type": "code",
      "source": [
        "# Handling Missing Values\n",
        "\n",
        "Client_Category = newdata['Client Category'].value_counts()  \n",
        "\n",
        "# Maximum values are from Client Category of 1763"
      ],
      "metadata": {
        "id": "UgUi1Na_uexi"
      },
      "execution_count": 87,
      "outputs": []
    },
    {
      "cell_type": "code",
      "source": [
        "  #Imputinig the 'Client Category' field missing values with 'Others' class (as the others class has more valaues).\n",
        "\n",
        "newdata['Client Category'] = newdata['Client Category'].fillna('Others')"
      ],
      "metadata": {
        "id": "JUsb0HRWue0F"
      },
      "execution_count": 88,
      "outputs": []
    },
    {
      "cell_type": "code",
      "source": [
        "sns.heatmap(newdata.isnull(), yticklabels = False, cbar=True, cmap='cool')\n",
        "plt.show()"
      ],
      "metadata": {
        "id": "9P6jfM0Lue2w",
        "colab": {
          "base_uri": "https://localhost:8080/",
          "height": 542
        },
        "outputId": "01ca2273-8a8f-4b9e-8a9f-e0a3b2a96b35"
      },
      "execution_count": 89,
      "outputs": [
        {
          "output_type": "display_data",
          "data": {
            "text/plain": [
              "<Figure size 640x480 with 2 Axes>"
            ],
            "image/png": "[encoded data removed]"
          },
          "metadata": {}
        }
      ]
    },
    {
      "cell_type": "code",
      "source": [
        "# Describe the Object data type\n",
        "\n",
        "sumcat = newdata.describe(include='O')\n",
        "sumcat"
      ],
      "metadata": {
        "id": "kis7AfmHue5a",
        "colab": {
          "base_uri": "https://localhost:8080/",
          "height": 175
        },
        "outputId": "fee3d4a2-a653-41d5-b34d-4dda4fa914dd"
      },
      "execution_count": 90,
      "outputs": [
        {
          "output_type": "execute_result",
          "data": {
            "text/plain": [
              "       Client Category Solution Type     Sector Location         VP Name  \\\n",
              "count            10061         10061      10061    10061           10061   \n",
              "unique              41            67         25       13              43   \n",
              "top             Others   Solution 32  Sector 23      L10  Mervin Harwood   \n",
              "freq              1842          1439       2693     3360            1166   \n",
              "\n",
              "       Manager Name Deal Status Code  \n",
              "count         10061            10061  \n",
              "unique          278                2  \n",
              "top     Molly Eakes             Lost  \n",
              "freq            323             6306  "
            ],
            "text/html": [
              "\n",
              "  <div id=\"df-342e6bb6-aeb2-4700-88a5-060151b3b887\">\n",
              "    <div class=\"colab-df-container\">\n",
              "      <div>\n",
              "<style scoped>\n",
              "    .dataframe tbody tr th:only-of-type {\n",
              "        vertical-align: middle;\n",
              "    }\n",
              "\n",
              "    .dataframe tbody tr th {\n",
              "        vertical-align: top;\n",
              "    }\n",
              "\n",
              "    .dataframe thead th {\n",
              "        text-align: right;\n",
              "    }\n",
              "</style>\n",
              "<table border=\"1\" class=\"dataframe\">\n",
              "  <thead>\n",
              "    <tr style=\"text-align: right;\">\n",
              "      <th></th>\n",
              "      <th>Client Category</th>\n",
              "      <th>Solution Type</th>\n",
              "      <th>Sector</th>\n",
              "      <th>Location</th>\n",
              "      <th>VP Name</th>\n",
              "      <th>Manager Name</th>\n",
              "      <th>Deal Status Code</th>\n",
              "    </tr>\n",
              "  </thead>\n",
              "  <tbody>\n",
              "    <tr>\n",
              "      <th>count</th>\n",
              "      <td>10061</td>\n",
              "      <td>10061</td>\n",
              "      <td>10061</td>\n",
              "      <td>10061</td>\n",
              "      <td>10061</td>\n",
              "      <td>10061</td>\n",
              "      <td>10061</td>\n",
              "    </tr>\n",
              "    <tr>\n",
              "      <th>unique</th>\n",
              "      <td>41</td>\n",
              "      <td>67</td>\n",
              "      <td>25</td>\n",
              "      <td>13</td>\n",
              "      <td>43</td>\n",
              "      <td>278</td>\n",
              "      <td>2</td>\n",
              "    </tr>\n",
              "    <tr>\n",
              "      <th>top</th>\n",
              "      <td>Others</td>\n",
              "      <td>Solution 32</td>\n",
              "      <td>Sector 23</td>\n",
              "      <td>L10</td>\n",
              "      <td>Mervin Harwood</td>\n",
              "      <td>Molly Eakes</td>\n",
              "      <td>Lost</td>\n",
              "    </tr>\n",
              "    <tr>\n",
              "      <th>freq</th>\n",
              "      <td>1842</td>\n",
              "      <td>1439</td>\n",
              "      <td>2693</td>\n",
              "      <td>3360</td>\n",
              "      <td>1166</td>\n",
              "      <td>323</td>\n",
              "      <td>6306</td>\n",
              "    </tr>\n",
              "  </tbody>\n",
              "</table>\n",
              "</div>\n",
              "      <button class=\"colab-df-convert\" onclick=\"convertToInteractive('df-342e6bb6-aeb2-4700-88a5-060151b3b887')\"\n",
              "              title=\"Convert this dataframe to an interactive table.\"\n",
              "              style=\"display:none;\">\n",
              "        \n",
              "  <svg xmlns=\"http://www.w3.org/2000/svg\" height=\"24px\"viewBox=\"0 0 24 24\"\n",
              "       width=\"24px\">\n",
              "    <path d=\"M0 0h24v24H0V0z\" fill=\"none\"/>\n",
              "    <path d=\"M18.56 5.44l.94 2.06.94-2.06 2.06-.94-2.06-.94-.94-2.06-.94 2.06-2.06.94zm-11 1L8.5 8.5l.94-2.06 2.06-.94-2.06-.94L8.5 2.5l-.94 2.06-2.06.94zm10 10l.94 2.06.94-2.06 2.06-.94-2.06-.94-.94-2.06-.94 2.06-2.06.94z\"/><path d=\"M17.41 7.96l-1.37-1.37c-.4-.4-.92-.59-1.43-.59-.52 0-1.04.2-1.43.59L10.3 9.45l-7.72 7.72c-.78.78-.78 2.05 0 2.83L4 21.41c.39.39.9.59 1.41.59.51 0 1.02-.2 1.41-.59l7.78-7.78 2.81-2.81c.8-.78.8-2.07 0-2.86zM5.41 20L4 18.59l7.72-7.72 1.47 1.35L5.41 20z\"/>\n",
              "  </svg>\n",
              "      </button>\n",
              "      \n",
              "  <style>\n",
              "    .colab-df-container {\n",
              "      display:flex;\n",
              "      flex-wrap:wrap;\n",
              "      gap: 12px;\n",
              "    }\n",
              "\n",
              "    .colab-df-convert {\n",
              "      background-color: #E8F0FE;\n",
              "      border: none;\n",
              "      border-radius: 50%;\n",
              "      cursor: pointer;\n",
              "      display: none;\n",
              "      fill: #1967D2;\n",
              "      height: 32px;\n",
              "      padding: 0 0 0 0;\n",
              "      width: 32px;\n",
              "    }\n",
              "\n",
              "    .colab-df-convert:hover {\n",
              "      background-color: #E2EBFA;\n",
              "      box-shadow: 0px 1px 2px rgba(60, 64, 67, 0.3), 0px 1px 3px 1px rgba(60, 64, 67, 0.15);\n",
              "      fill: #174EA6;\n",
              "    }\n",
              "\n",
              "    [theme=dark] .colab-df-convert {\n",
              "      background-color: #3B4455;\n",
              "      fill: #D2E3FC;\n",
              "    }\n",
              "\n",
              "    [theme=dark] .colab-df-convert:hover {\n",
              "      background-color: #434B5C;\n",
              "      box-shadow: 0px 1px 3px 1px rgba(0, 0, 0, 0.15);\n",
              "      filter: drop-shadow(0px 1px 2px rgba(0, 0, 0, 0.3));\n",
              "      fill: #FFFFFF;\n",
              "    }\n",
              "  </style>\n",
              "\n",
              "      <script>\n",
              "        const buttonEl =\n",
              "          document.querySelector('#df-342e6bb6-aeb2-4700-88a5-060151b3b887 button.colab-df-convert');\n",
              "        buttonEl.style.display =\n",
              "          google.colab.kernel.accessAllowed ? 'block' : 'none';\n",
              "\n",
              "        async function convertToInteractive(key) {\n",
              "          const element = document.querySelector('#df-342e6bb6-aeb2-4700-88a5-060151b3b887');\n",
              "          const dataTable =\n",
              "            await google.colab.kernel.invokeFunction('convertToInteractive',\n",
              "                                                     [key], {});\n",
              "          if (!dataTable) return;\n",
              "\n",
              "          const docLinkHtml = 'Like what you see? Visit the ' +\n",
              "            '<a target=\"_blank\" href=https://colab.research.google.com/notebooks/data_table.ipynb>data table notebook</a>'\n",
              "            + ' to learn more about interactive tables.';\n",
              "          element.innerHTML = '';\n",
              "          dataTable['output_type'] = 'display_data';\n",
              "          await google.colab.output.renderOutput(dataTable, element);\n",
              "          const docLink = document.createElement('div');\n",
              "          docLink.innerHTML = docLinkHtml;\n",
              "          element.appendChild(docLink);\n",
              "        }\n",
              "      </script>\n",
              "    </div>\n",
              "  </div>\n",
              "  "
            ]
          },
          "metadata": {},
          "execution_count": 90
        }
      ]
    },
    {
      "cell_type": "code",
      "source": [
        "newdata['Deal Status Code'].value_counts() \n",
        "\n",
        "# Balanced dataset = (2 * Minority > Majority) \n",
        "#                  = 2 * 3755 > 6306\n",
        "#                  = 7510 > 6306  ( So its a Balanced dataset; so we need not to handle the imbalance dataset)\n",
        "\n"
      ],
      "metadata": {
        "id": "-m3cHf1Cue8D",
        "colab": {
          "base_uri": "https://localhost:8080/",
          "height": 0
        },
        "outputId": "d1eaab90-62d6-43df-c66c-c275b542bfbd"
      },
      "execution_count": 91,
      "outputs": [
        {
          "output_type": "execute_result",
          "data": {
            "text/plain": [
              "Lost    6306\n",
              "Won     3755\n",
              "Name: Deal Status Code, dtype: int64"
            ]
          },
          "metadata": {},
          "execution_count": 91
        }
      ]
    },
    {
      "cell_type": "code",
      "source": [
        "  Client_Category_index = newdata[\"Client Category\"].value_counts()\n",
        "  Client_Category_index"
      ],
      "metadata": {
        "id": "j0w84WnOue-p",
        "colab": {
          "base_uri": "https://localhost:8080/",
          "height": 0
        },
        "outputId": "c4b37c5c-6b4c-40e7-ceb6-3fbbc5c3b2b2"
      },
      "execution_count": 92,
      "outputs": [
        {
          "output_type": "execute_result",
          "data": {
            "text/plain": [
              "Others                   1842\n",
              "Internal                 1454\n",
              "Services_based           1202\n",
              "Tech                      913\n",
              "Domestic Public Bank      419\n",
              "International Bank        376\n",
              "Consulting                352\n",
              "Finance                   339\n",
              "Telecom                   327\n",
              "Power ind                 264\n",
              "Domestic Private Bank     262\n",
              "Insurance                 247\n",
              "Consumer Good             185\n",
              "Automobiles               178\n",
              "Infrastructure            152\n",
              "Domestic Bank             134\n",
              "Retail_market             126\n",
              "Govt                      121\n",
              "Hospitality               119\n",
              "Manufacturing             117\n",
              "Pharma                    110\n",
              "Healthcare                 99\n",
              "Electronics                81\n",
              "Media_Journal              71\n",
              "Industries                 66\n",
              "Research Development       63\n",
              "Energy                     57\n",
              "Knowledge                  50\n",
              "Management                 43\n",
              "Govt Bank Special          41\n",
              "Payment                    40\n",
              "Energy                     37\n",
              "e-commerce                 32\n",
              "Airpline                   27\n",
              "Holding                    25\n",
              "International Org          25\n",
              "Logistics                  20\n",
              "Real Estate                19\n",
              "Share_market               14\n",
              "Tax_audit                   7\n",
              "Medical                     5\n",
              "Name: Client Category, dtype: int64"
            ]
          },
          "metadata": {},
          "execution_count": 92
        }
      ]
    },
    {
      "cell_type": "code",
      "source": [
        "Client_Category_index = newdata[\"Client Category\"].value_counts().index\n",
        "Client_Category_index"
      ],
      "metadata": {
        "id": "uPBEN6CTufBc",
        "colab": {
          "base_uri": "https://localhost:8080/",
          "height": 0
        },
        "outputId": "00da9fdc-eb56-4f34-ddab-3b9dec5bd7af"
      },
      "execution_count": 93,
      "outputs": [
        {
          "output_type": "execute_result",
          "data": {
            "text/plain": [
              "Index(['Others', 'Internal', 'Services_based', 'Tech', 'Domestic Public Bank',\n",
              "       'International Bank', 'Consulting', 'Finance', 'Telecom', 'Power ind',\n",
              "       'Domestic Private Bank', 'Insurance', 'Consumer Good', 'Automobiles',\n",
              "       'Infrastructure', 'Domestic Bank', 'Retail_market', 'Govt',\n",
              "       'Hospitality', 'Manufacturing', 'Pharma', 'Healthcare', 'Electronics',\n",
              "       'Media_Journal', 'Industries', 'Research Development', 'Energy',\n",
              "       'Knowledge', 'Management', 'Govt Bank Special', 'Payment', 'Energy ',\n",
              "       'e-commerce', 'Airpline', 'Holding', 'International Org', 'Logistics',\n",
              "       'Real Estate', 'Share_market', 'Tax_audit', 'Medical '],\n",
              "      dtype='object')"
            ]
          },
          "metadata": {},
          "execution_count": 93
        }
      ]
    },
    {
      "cell_type": "markdown",
      "source": [
        "8. Recommending top 5 and 10 combination of SBU Head-Bid Manager."
      ],
      "metadata": {
        "id": "RXq-FzSX1O5v"
      }
    },
    {
      "cell_type": "code",
      "source": [
        "plt.pie(Client_Category[:5], labels=Client_Category_index[:5], autopct = '%1.2f%%')\n",
        "plt.show()\n",
        "\n",
        "# Pie chart is good for 5 values. If its more than 5 , then it has to be go for Bar graph"
      ],
      "metadata": {
        "id": "wujfJGDhufvC",
        "colab": {
          "base_uri": "https://localhost:8080/",
          "height": 406
        },
        "outputId": "d910b7d9-13fa-4e80-bc68-f42a213368ac"
      },
      "execution_count": 94,
      "outputs": [
        {
          "output_type": "display_data",
          "data": {
            "text/plain": [
              "<Figure size 640x480 with 1 Axes>"
            ],
            "image/png": "[encoded data removed]"
          },
          "metadata": {}
        }
      ]
    },
    {
      "cell_type": "code",
      "source": [
        "# If its more than for 10 categories, them Bar Graph will be better.\n",
        "\n",
        "Client_Category[:10].plot(kind='barh').invert_yaxis()"
      ],
      "metadata": {
        "id": "DHii6vz5ufxX",
        "colab": {
          "base_uri": "https://localhost:8080/",
          "height": 430
        },
        "outputId": "5d80c49a-c78b-4d48-ecd7-212886f9e013"
      },
      "execution_count": 95,
      "outputs": [
        {
          "output_type": "display_data",
          "data": {
            "text/plain": [
              "<Figure size 640x480 with 1 Axes>"
            ],
            "image/png": "[encoded data removed]"
          },
          "metadata": {}
        }
      ]
    },
    {
      "cell_type": "markdown",
      "source": [
        "# Recommendation for top 5 and 10 Solution Type"
      ],
      "metadata": {
        "id": "weR_nTutJUDf"
      }
    },
    {
      "cell_type": "code",
      "source": [
        "Solution_Type = newdata['Solution Type'].value_counts() \n"
      ],
      "metadata": {
        "id": "0vfsUUdZuf0Q"
      },
      "execution_count": 96,
      "outputs": []
    },
    {
      "cell_type": "code",
      "source": [
        "Solution_Type_index = newdata['Solution Type'].value_counts().index\n",
        "Solution_Type_index"
      ],
      "metadata": {
        "colab": {
          "base_uri": "https://localhost:8080/",
          "height": 0
        },
        "id": "zpGVgnWC8L8Z",
        "outputId": "dd9c4a24-f641-4117-83cc-ff0737b8b56c"
      },
      "execution_count": 97,
      "outputs": [
        {
          "output_type": "execute_result",
          "data": {
            "text/plain": [
              "Index(['Solution 32', 'Solution 9', 'Solution 10', 'Solution 39',\n",
              "       'Solution 67', 'Solution 37', 'Solution 59', 'Solution 12',\n",
              "       'Solution 8', 'Solution 29', 'Solution 6', 'Solution 13', 'Solution 31',\n",
              "       'Solution 4', 'Solution 28', 'Solution 38', 'Solution 7', 'Solution 11',\n",
              "       'Solution 20', 'Solution 52', 'Solution 40', 'Solution 30',\n",
              "       'Solution 14', 'Solution 36', 'Solution 58', 'Solution 47',\n",
              "       'Solution 35', 'Solution 55', 'Solution 33', 'Solution 48',\n",
              "       'Solution 16', 'Solution 26', 'Solution 49', 'Solution 2',\n",
              "       'Solution 34', 'Solution 42', 'Solution 61', 'Solution 41',\n",
              "       'Solution 65', 'Solution 44', 'Solution 17', 'Solution 15',\n",
              "       'Solution 50', 'Solution 25', 'Solution 1', 'Solution 43',\n",
              "       'Solution 24', 'Solution 62', 'Solution 5', 'Solution 27',\n",
              "       'Solution 46', 'Solution 3', 'Solution 22', 'Solution 53',\n",
              "       'Solution 51', 'Solution 45', 'Solution 63', 'Solution 23',\n",
              "       'Solution 54', 'Solution 21', 'Solution 66', 'Solution 64',\n",
              "       'Solution 60', 'Solution 57', 'Solution 56', 'Solution 18',\n",
              "       'Solution 19'],\n",
              "      dtype='object')"
            ]
          },
          "metadata": {},
          "execution_count": 97
        }
      ]
    },
    {
      "cell_type": "code",
      "source": [
        "plt.pie(Solution_Type[:5], labels=Solution_Type_index[:5], autopct = '%1.2f%%')\n",
        "plt.show()"
      ],
      "metadata": {
        "colab": {
          "base_uri": "https://localhost:8080/",
          "height": 406
        },
        "id": "6N5hrvsY8L-5",
        "outputId": "c12a4343-ac42-465c-aa00-378be5b478b8"
      },
      "execution_count": 98,
      "outputs": [
        {
          "output_type": "display_data",
          "data": {
            "text/plain": [
              "<Figure size 640x480 with 1 Axes>"
            ],
            "image/png": "[encoded data removed]"
          },
          "metadata": {}
        }
      ]
    },
    {
      "cell_type": "code",
      "source": [
        "Solution_Type[:10].plot(kind='barh').invert_yaxis()"
      ],
      "metadata": {
        "colab": {
          "base_uri": "https://localhost:8080/",
          "height": 430
        },
        "id": "Jadj-dp58MBi",
        "outputId": "8f4edcac-5b42-4666-e07c-3e7219951cdb"
      },
      "execution_count": 99,
      "outputs": [
        {
          "output_type": "display_data",
          "data": {
            "text/plain": [
              "<Figure size 640x480 with 1 Axes>"
            ],
            "image/png": "[encoded data removed]"
          },
          "metadata": {}
        }
      ]
    },
    {
      "cell_type": "markdown",
      "source": [
        "# Recommendation for top 5 and 10 VP Name"
      ],
      "metadata": {
        "id": "99pRXefUJYab"
      }
    },
    {
      "cell_type": "code",
      "source": [
        "VP_Name = newdata['VP Name'].value_counts()"
      ],
      "metadata": {
        "id": "NWpQm-wa8MEB"
      },
      "execution_count": 100,
      "outputs": []
    },
    {
      "cell_type": "code",
      "source": [
        "VP_Name_index = newdata['VP Name'].value_counts().index\n",
        "VP_Name_index"
      ],
      "metadata": {
        "colab": {
          "base_uri": "https://localhost:8080/",
          "height": 0
        },
        "id": "SB2Z2v3d8MG6",
        "outputId": "0e97002b-84a8-4cc2-fb12-ee126ca7fab1"
      },
      "execution_count": 101,
      "outputs": [
        {
          "output_type": "execute_result",
          "data": {
            "text/plain": [
              "Index(['Mervin Harwood', 'Ankita Aggarwal', 'Sargar Deep Rao',\n",
              "       'Long Bergstrom', 'Mangesh K. Singh', 'Rosanna Maynez', 'Ekta Zutshi',\n",
              "       'Rahul Bajpai', 'neeraj kumar', 'Son Mcconnaughy', 'som dutt',\n",
              "       'Hardeep Suksma', 'Brendon Wycoff', 'Clinton Mani', 'Saurabh Singh',\n",
              "       'Jewell Tunstall', 'Rudraksh Sharma', 'Gopa Trilochana',\n",
              "       'Russell Dahlen', 'Molly Eakes', 'Alam Syed', 'Gaurav Sameria',\n",
              "       'Varsha Arora', 'Gayle Molter', 'Vidur Hukle', 'Earline Langton',\n",
              "       'Manpreet Singh', 'Mayank Mewar', 'Marcella Mo', 'Rahul Kocher',\n",
              "       'Man Suddeth', 'Jitendra Choudhary', 'Prashant Rawat', 'Lilli Storrs',\n",
              "       'Vikram Rawat', 'Kamelesh Srinivasan', 'Dennis Faux', 'Visvajeet Das',\n",
              "       'Waylon Mulder', 'P. Somya', 'Kirk Hofmeister', 'Sarthak Batra',\n",
              "       'md. afsar'],\n",
              "      dtype='object')"
            ]
          },
          "metadata": {},
          "execution_count": 101
        }
      ]
    },
    {
      "cell_type": "code",
      "source": [
        "plt.pie(VP_Name[:5], labels=VP_Name_index[:5], autopct = '%1.2f%%')\n",
        "plt.show()"
      ],
      "metadata": {
        "colab": {
          "base_uri": "https://localhost:8080/",
          "height": 406
        },
        "id": "C_eEv40y8MJN",
        "outputId": "c1303a1f-86f6-4dd4-8843-a7fb2ff19831"
      },
      "execution_count": 102,
      "outputs": [
        {
          "output_type": "display_data",
          "data": {
            "text/plain": [
              "<Figure size 640x480 with 1 Axes>"
            ],
            "image/png": "[encoded data removed]"
          },
          "metadata": {}
        }
      ]
    },
    {
      "cell_type": "code",
      "source": [
        "VP_Name[:10].plot(kind='barh').invert_yaxis()"
      ],
      "metadata": {
        "colab": {
          "base_uri": "https://localhost:8080/",
          "height": 430
        },
        "id": "JKwb4C648MK5",
        "outputId": "2e845095-5f9d-40bc-baef-18f773a808d3"
      },
      "execution_count": 103,
      "outputs": [
        {
          "output_type": "display_data",
          "data": {
            "text/plain": [
              "<Figure size 640x480 with 1 Axes>"
            ],
            "image/png": "[encoded data removed]"
          },
          "metadata": {}
        }
      ]
    },
    {
      "cell_type": "markdown",
      "source": [
        "# Recommendation for 5 and 10 Manager Name"
      ],
      "metadata": {
        "id": "pnfdi-foJfvS"
      }
    },
    {
      "cell_type": "code",
      "source": [
        "Manager_Name = newdata['Manager Name'].value_counts()"
      ],
      "metadata": {
        "id": "pqwR8dLp8MTO"
      },
      "execution_count": 104,
      "outputs": []
    },
    {
      "cell_type": "code",
      "source": [
        "Manager_Name_index = newdata['Manager Name'].value_counts()\n",
        "Manager_Name_index"
      ],
      "metadata": {
        "colab": {
          "base_uri": "https://localhost:8080/",
          "height": 0
        },
        "id": "7jyv4clv8MVw",
        "outputId": "5e5bfb9a-b6e5-4169-815f-c9c3cd50f2d1"
      },
      "execution_count": 105,
      "outputs": [
        {
          "output_type": "execute_result",
          "data": {
            "text/plain": [
              "Molly Eakes        323\n",
              "Rudraksh Sharma    270\n",
              "Desmond Krout      230\n",
              "Gayle Molter       186\n",
              "Manpreet Singh     181\n",
              "                  ... \n",
              "Anju Nanda           1\n",
              "Taran Singh          1\n",
              "pooran chand         1\n",
              "Rishab Bhatt         1\n",
              "Cleotilde Biron      1\n",
              "Name: Manager Name, Length: 278, dtype: int64"
            ]
          },
          "metadata": {},
          "execution_count": 105
        }
      ]
    },
    {
      "cell_type": "code",
      "source": [
        "plt.pie(Manager_Name[:5], labels=Manager_Name_index[:5], autopct = '%1.2f%%')\n",
        "plt.show()"
      ],
      "metadata": {
        "colab": {
          "base_uri": "https://localhost:8080/",
          "height": 406
        },
        "id": "xLW_gk1f8MYW",
        "outputId": "4d248060-b998-426b-f7ee-f37717569f46"
      },
      "execution_count": 106,
      "outputs": [
        {
          "output_type": "display_data",
          "data": {
            "text/plain": [
              "<Figure size 640x480 with 1 Axes>"
            ],
            "image/png": "[encoded data removed]"
          },
          "metadata": {}
        }
      ]
    },
    {
      "cell_type": "code",
      "source": [
        "Manager_Name[:10].plot(kind='barh').invert_yaxis()"
      ],
      "metadata": {
        "colab": {
          "base_uri": "https://localhost:8080/",
          "height": 430
        },
        "id": "vNZo2QB48Maz",
        "outputId": "2f9ce7b1-7b52-4d78-b957-8615805fb056"
      },
      "execution_count": 107,
      "outputs": [
        {
          "output_type": "display_data",
          "data": {
            "text/plain": [
              "<Figure size 640x480 with 1 Axes>"
            ],
            "image/png": "[encoded data removed]"
          },
          "metadata": {}
        }
      ]
    },
    {
      "cell_type": "markdown",
      "source": [
        "# Deal Status Code"
      ],
      "metadata": {
        "id": "bpsY0d48JjJe"
      }
    },
    {
      "cell_type": "code",
      "source": [
        "Deal_Status_code = newdata['Deal Status Code'].value_counts()  "
      ],
      "metadata": {
        "id": "PqEErYkG8MdR"
      },
      "execution_count": 108,
      "outputs": []
    },
    {
      "cell_type": "code",
      "source": [
        "Deal_Status_Code_index = newdata[\"Deal Status Code\"].value_counts().index\n",
        "Deal_Status_Code_index"
      ],
      "metadata": {
        "colab": {
          "base_uri": "https://localhost:8080/",
          "height": 0
        },
        "id": "KBOkuCqI8Mf4",
        "outputId": "94d78914-75fe-4f82-97d1-5afa8cfd740e"
      },
      "execution_count": 109,
      "outputs": [
        {
          "output_type": "execute_result",
          "data": {
            "text/plain": [
              "Index(['Lost', 'Won'], dtype='object')"
            ]
          },
          "metadata": {},
          "execution_count": 109
        }
      ]
    },
    {
      "cell_type": "code",
      "source": [
        "plt.pie(Deal_Status_code[:5], labels=Deal_Status_Code_index[:5], autopct = '%1.2f%%')\n",
        "plt.show()"
      ],
      "metadata": {
        "colab": {
          "base_uri": "https://localhost:8080/",
          "height": 406
        },
        "id": "MF36TO2kInRh",
        "outputId": "c5955590-dcb8-47db-df56-6b85b20f7dfd"
      },
      "execution_count": 110,
      "outputs": [
        {
          "output_type": "display_data",
          "data": {
            "text/plain": [
              "<Figure size 640x480 with 1 Axes>"
            ],
            "image/png": "[encoded data removed]"
          },
          "metadata": {}
        }
      ]
    },
    {
      "cell_type": "code",
      "source": [
        "Deal_Status_code[:10].plot(kind='barh')"
      ],
      "metadata": {
        "colab": {
          "base_uri": "https://localhost:8080/",
          "height": 447
        },
        "id": "I9NzTJtPInUK",
        "outputId": "c18a7747-8958-46b1-8bfe-6d350ecb7569"
      },
      "execution_count": 111,
      "outputs": [
        {
          "output_type": "execute_result",
          "data": {
            "text/plain": [
              "<Axes: >"
            ]
          },
          "metadata": {},
          "execution_count": 111
        },
        {
          "output_type": "display_data",
          "data": {
            "text/plain": [
              "<Figure size 640x480 with 1 Axes>"
            ],
            "image/png": "[encoded data removed]"
          },
          "metadata": {}
        }
      ]
    },
    {
      "cell_type": "markdown",
      "source": [
        "# Relationship between Independent Vs Dependent variables"
      ],
      "metadata": {
        "id": "wWBytvNofQFE"
      }
    },
    {
      "cell_type": "code",
      "source": [
        "newdata.columns\n",
        "\n",
        "# Mainly we need relationships between Client Category, Solution type, VP name, Manager name with Deal Status Code"
      ],
      "metadata": {
        "colab": {
          "base_uri": "https://localhost:8080/",
          "height": 0
        },
        "id": "t_sRHr2Xfsmd",
        "outputId": "bd8fa578-7988-42f7-d3aa-5878ed710764"
      },
      "execution_count": 112,
      "outputs": [
        {
          "output_type": "execute_result",
          "data": {
            "text/plain": [
              "Index(['Client Category', 'Solution Type', 'Deal Date', 'Sector', 'Location',\n",
              "       'VP Name', 'Manager Name', 'Deal Cost', 'Deal Status Code'],\n",
              "      dtype='object')"
            ]
          },
          "metadata": {},
          "execution_count": 112
        }
      ]
    },
    {
      "cell_type": "code",
      "source": [
        "newdata.head(2)"
      ],
      "metadata": {
        "id": "Av3OGURDInWR",
        "colab": {
          "base_uri": "https://localhost:8080/",
          "height": 112
        },
        "outputId": "a9d18c2d-1dec-4b32-fbd6-765f67dd117e"
      },
      "execution_count": 113,
      "outputs": [
        {
          "output_type": "execute_result",
          "data": {
            "text/plain": [
              "  Client Category Solution Type  Deal Date     Sector Location      VP Name  \\\n",
              "0         Telecom    Solution 7 2012-03-27  Sector 24       L5  Ekta Zutshi   \n",
              "1         Telecom    Solution 7 2012-09-25  Sector 24       L5  Ekta Zutshi   \n",
              "\n",
              "      Manager Name  Deal Cost Deal Status Code  \n",
              "0  Gopa Trilochana  150000.00              Won  \n",
              "1  Gopa Trilochana  744705.88              Won  "
            ],
            "text/html": [
              "\n",
              "  <div id=\"df-8b4b51a7-dfec-4027-afd6-9b5a672be292\">\n",
              "    <div class=\"colab-df-container\">\n",
              "      <div>\n",
              "<style scoped>\n",
              "    .dataframe tbody tr th:only-of-type {\n",
              "        vertical-align: middle;\n",
              "    }\n",
              "\n",
              "    .dataframe tbody tr th {\n",
              "        vertical-align: top;\n",
              "    }\n",
              "\n",
              "    .dataframe thead th {\n",
              "        text-align: right;\n",
              "    }\n",
              "</style>\n",
              "<table border=\"1\" class=\"dataframe\">\n",
              "  <thead>\n",
              "    <tr style=\"text-align: right;\">\n",
              "      <th></th>\n",
              "      <th>Client Category</th>\n",
              "      <th>Solution Type</th>\n",
              "      <th>Deal Date</th>\n",
              "      <th>Sector</th>\n",
              "      <th>Location</th>\n",
              "      <th>VP Name</th>\n",
              "      <th>Manager Name</th>\n",
              "      <th>Deal Cost</th>\n",
              "      <th>Deal Status Code</th>\n",
              "    </tr>\n",
              "  </thead>\n",
              "  <tbody>\n",
              "    <tr>\n",
              "      <th>0</th>\n",
              "      <td>Telecom</td>\n",
              "      <td>Solution 7</td>\n",
              "      <td>2012-03-27</td>\n",
              "      <td>Sector 24</td>\n",
              "      <td>L5</td>\n",
              "      <td>Ekta Zutshi</td>\n",
              "      <td>Gopa Trilochana</td>\n",
              "      <td>150000.00</td>\n",
              "      <td>Won</td>\n",
              "    </tr>\n",
              "    <tr>\n",
              "      <th>1</th>\n",
              "      <td>Telecom</td>\n",
              "      <td>Solution 7</td>\n",
              "      <td>2012-09-25</td>\n",
              "      <td>Sector 24</td>\n",
              "      <td>L5</td>\n",
              "      <td>Ekta Zutshi</td>\n",
              "      <td>Gopa Trilochana</td>\n",
              "      <td>744705.88</td>\n",
              "      <td>Won</td>\n",
              "    </tr>\n",
              "  </tbody>\n",
              "</table>\n",
              "</div>\n",
              "      <button class=\"colab-df-convert\" onclick=\"convertToInteractive('df-8b4b51a7-dfec-4027-afd6-9b5a672be292')\"\n",
              "              title=\"Convert this dataframe to an interactive table.\"\n",
              "              style=\"display:none;\">\n",
              "        \n",
              "  <svg xmlns=\"http://www.w3.org/2000/svg\" height=\"24px\"viewBox=\"0 0 24 24\"\n",
              "       width=\"24px\">\n",
              "    <path d=\"M0 0h24v24H0V0z\" fill=\"none\"/>\n",
              "    <path d=\"M18.56 5.44l.94 2.06.94-2.06 2.06-.94-2.06-.94-.94-2.06-.94 2.06-2.06.94zm-11 1L8.5 8.5l.94-2.06 2.06-.94-2.06-.94L8.5 2.5l-.94 2.06-2.06.94zm10 10l.94 2.06.94-2.06 2.06-.94-2.06-.94-.94-2.06-.94 2.06-2.06.94z\"/><path d=\"M17.41 7.96l-1.37-1.37c-.4-.4-.92-.59-1.43-.59-.52 0-1.04.2-1.43.59L10.3 9.45l-7.72 7.72c-.78.78-.78 2.05 0 2.83L4 21.41c.39.39.9.59 1.41.59.51 0 1.02-.2 1.41-.59l7.78-7.78 2.81-2.81c.8-.78.8-2.07 0-2.86zM5.41 20L4 18.59l7.72-7.72 1.47 1.35L5.41 20z\"/>\n",
              "  </svg>\n",
              "      </button>\n",
              "      \n",
              "  <style>\n",
              "    .colab-df-container {\n",
              "      display:flex;\n",
              "      flex-wrap:wrap;\n",
              "      gap: 12px;\n",
              "    }\n",
              "\n",
              "    .colab-df-convert {\n",
              "      background-color: #E8F0FE;\n",
              "      border: none;\n",
              "      border-radius: 50%;\n",
              "      cursor: pointer;\n",
              "      display: none;\n",
              "      fill: #1967D2;\n",
              "      height: 32px;\n",
              "      padding: 0 0 0 0;\n",
              "      width: 32px;\n",
              "    }\n",
              "\n",
              "    .colab-df-convert:hover {\n",
              "      background-color: #E2EBFA;\n",
              "      box-shadow: 0px 1px 2px rgba(60, 64, 67, 0.3), 0px 1px 3px 1px rgba(60, 64, 67, 0.15);\n",
              "      fill: #174EA6;\n",
              "    }\n",
              "\n",
              "    [theme=dark] .colab-df-convert {\n",
              "      background-color: #3B4455;\n",
              "      fill: #D2E3FC;\n",
              "    }\n",
              "\n",
              "    [theme=dark] .colab-df-convert:hover {\n",
              "      background-color: #434B5C;\n",
              "      box-shadow: 0px 1px 3px 1px rgba(0, 0, 0, 0.15);\n",
              "      filter: drop-shadow(0px 1px 2px rgba(0, 0, 0, 0.3));\n",
              "      fill: #FFFFFF;\n",
              "    }\n",
              "  </style>\n",
              "\n",
              "      <script>\n",
              "        const buttonEl =\n",
              "          document.querySelector('#df-8b4b51a7-dfec-4027-afd6-9b5a672be292 button.colab-df-convert');\n",
              "        buttonEl.style.display =\n",
              "          google.colab.kernel.accessAllowed ? 'block' : 'none';\n",
              "\n",
              "        async function convertToInteractive(key) {\n",
              "          const element = document.querySelector('#df-8b4b51a7-dfec-4027-afd6-9b5a672be292');\n",
              "          const dataTable =\n",
              "            await google.colab.kernel.invokeFunction('convertToInteractive',\n",
              "                                                     [key], {});\n",
              "          if (!dataTable) return;\n",
              "\n",
              "          const docLinkHtml = 'Like what you see? Visit the ' +\n",
              "            '<a target=\"_blank\" href=https://colab.research.google.com/notebooks/data_table.ipynb>data table notebook</a>'\n",
              "            + ' to learn more about interactive tables.';\n",
              "          element.innerHTML = '';\n",
              "          dataTable['output_type'] = 'display_data';\n",
              "          await google.colab.output.renderOutput(dataTable, element);\n",
              "          const docLink = document.createElement('div');\n",
              "          docLink.innerHTML = docLinkHtml;\n",
              "          element.appendChild(docLink);\n",
              "        }\n",
              "      </script>\n",
              "    </div>\n",
              "  </div>\n",
              "  "
            ]
          },
          "metadata": {},
          "execution_count": 113
        }
      ]
    },
    {
      "cell_type": "markdown",
      "source": [
        "Relationship between Client Category and Deal Status Code"
      ],
      "metadata": {
        "id": "C7Y6NHOZiAcz"
      }
    },
    {
      "cell_type": "code",
      "source": [
        "rel_client_cat = newdata[['Client Category', 'Deal Status Code']].groupby(['Client Category', 'Deal Status Code']).size().reset_index().rename(columns={0:'Deal Status Code'})\n"
      ],
      "metadata": {
        "id": "Mcp6IFdLInZs"
      },
      "execution_count": 114,
      "outputs": []
    },
    {
      "cell_type": "code",
      "source": [
        "rel_client_cat"
      ],
      "metadata": {
        "id": "-Buf5PR9IndP",
        "colab": {
          "base_uri": "https://localhost:8080/",
          "height": 424
        },
        "outputId": "b153ae8b-cfa3-4399-b54a-bf0bfaee069d"
      },
      "execution_count": 115,
      "outputs": [
        {
          "output_type": "execute_result",
          "data": {
            "text/plain": [
              "   Client Category  Deal Status Code  Deal Status Code\n",
              "0         Airpline              Lost                22\n",
              "1         Airpline               Won                 5\n",
              "2      Automobiles              Lost               112\n",
              "3      Automobiles               Won                66\n",
              "4       Consulting              Lost               182\n",
              "..             ...               ...               ...\n",
              "77            Tech               Won               313\n",
              "78         Telecom              Lost               192\n",
              "79         Telecom               Won               135\n",
              "80      e-commerce              Lost                20\n",
              "81      e-commerce               Won                12\n",
              "\n",
              "[82 rows x 3 columns]"
            ],
            "text/html": [
              "\n",
              "  <div id=\"df-7dec7c4f-dbe3-40a8-980f-e5868b0101f2\">\n",
              "    <div class=\"colab-df-container\">\n",
              "      <div>\n",
              "<style scoped>\n",
              "    .dataframe tbody tr th:only-of-type {\n",
              "        vertical-align: middle;\n",
              "    }\n",
              "\n",
              "    .dataframe tbody tr th {\n",
              "        vertical-align: top;\n",
              "    }\n",
              "\n",
              "    .dataframe thead th {\n",
              "        text-align: right;\n",
              "    }\n",
              "</style>\n",
              "<table border=\"1\" class=\"dataframe\">\n",
              "  <thead>\n",
              "    <tr style=\"text-align: right;\">\n",
              "      <th></th>\n",
              "      <th>Client Category</th>\n",
              "      <th>Deal Status Code</th>\n",
              "      <th>Deal Status Code</th>\n",
              "    </tr>\n",
              "  </thead>\n",
              "  <tbody>\n",
              "    <tr>\n",
              "      <th>0</th>\n",
              "      <td>Airpline</td>\n",
              "      <td>Lost</td>\n",
              "      <td>22</td>\n",
              "    </tr>\n",
              "    <tr>\n",
              "      <th>1</th>\n",
              "      <td>Airpline</td>\n",
              "      <td>Won</td>\n",
              "      <td>5</td>\n",
              "    </tr>\n",
              "    <tr>\n",
              "      <th>2</th>\n",
              "      <td>Automobiles</td>\n",
              "      <td>Lost</td>\n",
              "      <td>112</td>\n",
              "    </tr>\n",
              "    <tr>\n",
              "      <th>3</th>\n",
              "      <td>Automobiles</td>\n",
              "      <td>Won</td>\n",
              "      <td>66</td>\n",
              "    </tr>\n",
              "    <tr>\n",
              "      <th>4</th>\n",
              "      <td>Consulting</td>\n",
              "      <td>Lost</td>\n",
              "      <td>182</td>\n",
              "    </tr>\n",
              "    <tr>\n",
              "      <th>...</th>\n",
              "      <td>...</td>\n",
              "      <td>...</td>\n",
              "      <td>...</td>\n",
              "    </tr>\n",
              "    <tr>\n",
              "      <th>77</th>\n",
              "      <td>Tech</td>\n",
              "      <td>Won</td>\n",
              "      <td>313</td>\n",
              "    </tr>\n",
              "    <tr>\n",
              "      <th>78</th>\n",
              "      <td>Telecom</td>\n",
              "      <td>Lost</td>\n",
              "      <td>192</td>\n",
              "    </tr>\n",
              "    <tr>\n",
              "      <th>79</th>\n",
              "      <td>Telecom</td>\n",
              "      <td>Won</td>\n",
              "      <td>135</td>\n",
              "    </tr>\n",
              "    <tr>\n",
              "      <th>80</th>\n",
              "      <td>e-commerce</td>\n",
              "      <td>Lost</td>\n",
              "      <td>20</td>\n",
              "    </tr>\n",
              "    <tr>\n",
              "      <th>81</th>\n",
              "      <td>e-commerce</td>\n",
              "      <td>Won</td>\n",
              "      <td>12</td>\n",
              "    </tr>\n",
              "  </tbody>\n",
              "</table>\n",
              "<p>82 rows × 3 columns</p>\n",
              "</div>\n",
              "      <button class=\"colab-df-convert\" onclick=\"convertToInteractive('df-7dec7c4f-dbe3-40a8-980f-e5868b0101f2')\"\n",
              "              title=\"Convert this dataframe to an interactive table.\"\n",
              "              style=\"display:none;\">\n",
              "        \n",
              "  <svg xmlns=\"http://www.w3.org/2000/svg\" height=\"24px\"viewBox=\"0 0 24 24\"\n",
              "       width=\"24px\">\n",
              "    <path d=\"M0 0h24v24H0V0z\" fill=\"none\"/>\n",
              "    <path d=\"M18.56 5.44l.94 2.06.94-2.06 2.06-.94-2.06-.94-.94-2.06-.94 2.06-2.06.94zm-11 1L8.5 8.5l.94-2.06 2.06-.94-2.06-.94L8.5 2.5l-.94 2.06-2.06.94zm10 10l.94 2.06.94-2.06 2.06-.94-2.06-.94-.94-2.06-.94 2.06-2.06.94z\"/><path d=\"M17.41 7.96l-1.37-1.37c-.4-.4-.92-.59-1.43-.59-.52 0-1.04.2-1.43.59L10.3 9.45l-7.72 7.72c-.78.78-.78 2.05 0 2.83L4 21.41c.39.39.9.59 1.41.59.51 0 1.02-.2 1.41-.59l7.78-7.78 2.81-2.81c.8-.78.8-2.07 0-2.86zM5.41 20L4 18.59l7.72-7.72 1.47 1.35L5.41 20z\"/>\n",
              "  </svg>\n",
              "      </button>\n",
              "      \n",
              "  <style>\n",
              "    .colab-df-container {\n",
              "      display:flex;\n",
              "      flex-wrap:wrap;\n",
              "      gap: 12px;\n",
              "    }\n",
              "\n",
              "    .colab-df-convert {\n",
              "      background-color: #E8F0FE;\n",
              "      border: none;\n",
              "      border-radius: 50%;\n",
              "      cursor: pointer;\n",
              "      display: none;\n",
              "      fill: #1967D2;\n",
              "      height: 32px;\n",
              "      padding: 0 0 0 0;\n",
              "      width: 32px;\n",
              "    }\n",
              "\n",
              "    .colab-df-convert:hover {\n",
              "      background-color: #E2EBFA;\n",
              "      box-shadow: 0px 1px 2px rgba(60, 64, 67, 0.3), 0px 1px 3px 1px rgba(60, 64, 67, 0.15);\n",
              "      fill: #174EA6;\n",
              "    }\n",
              "\n",
              "    [theme=dark] .colab-df-convert {\n",
              "      background-color: #3B4455;\n",
              "      fill: #D2E3FC;\n",
              "    }\n",
              "\n",
              "    [theme=dark] .colab-df-convert:hover {\n",
              "      background-color: #434B5C;\n",
              "      box-shadow: 0px 1px 3px 1px rgba(0, 0, 0, 0.15);\n",
              "      filter: drop-shadow(0px 1px 2px rgba(0, 0, 0, 0.3));\n",
              "      fill: #FFFFFF;\n",
              "    }\n",
              "  </style>\n",
              "\n",
              "      <script>\n",
              "        const buttonEl =\n",
              "          document.querySelector('#df-7dec7c4f-dbe3-40a8-980f-e5868b0101f2 button.colab-df-convert');\n",
              "        buttonEl.style.display =\n",
              "          google.colab.kernel.accessAllowed ? 'block' : 'none';\n",
              "\n",
              "        async function convertToInteractive(key) {\n",
              "          const element = document.querySelector('#df-7dec7c4f-dbe3-40a8-980f-e5868b0101f2');\n",
              "          const dataTable =\n",
              "            await google.colab.kernel.invokeFunction('convertToInteractive',\n",
              "                                                     [key], {});\n",
              "          if (!dataTable) return;\n",
              "\n",
              "          const docLinkHtml = 'Like what you see? Visit the ' +\n",
              "            '<a target=\"_blank\" href=https://colab.research.google.com/notebooks/data_table.ipynb>data table notebook</a>'\n",
              "            + ' to learn more about interactive tables.';\n",
              "          element.innerHTML = '';\n",
              "          dataTable['output_type'] = 'display_data';\n",
              "          await google.colab.output.renderOutput(dataTable, element);\n",
              "          const docLink = document.createElement('div');\n",
              "          docLink.innerHTML = docLinkHtml;\n",
              "          element.appendChild(docLink);\n",
              "        }\n",
              "      </script>\n",
              "    </div>\n",
              "  </div>\n",
              "  "
            ]
          },
          "metadata": {},
          "execution_count": 115
        }
      ]
    },
    {
      "cell_type": "markdown",
      "source": [
        "Relationship between Solution Type and Deal Status Code"
      ],
      "metadata": {
        "id": "Iy5FL_rUmNYg"
      }
    },
    {
      "cell_type": "code",
      "source": [
        "Solution_Type_cat = newdata[['Solution Type', 'Deal Status Code']].groupby(['Solution Type', 'Deal Status Code']).size().reset_index().rename(columns={0:'Deal Status Code'})"
      ],
      "metadata": {
        "id": "Jrpm_8RGIngJ"
      },
      "execution_count": 116,
      "outputs": []
    },
    {
      "cell_type": "code",
      "source": [
        "Solution_Type_cat"
      ],
      "metadata": {
        "id": "Fv5pnwhjInh4",
        "colab": {
          "base_uri": "https://localhost:8080/",
          "height": 424
        },
        "outputId": "2f77718c-6ec7-4e94-c1c7-2e1f968d0921"
      },
      "execution_count": 117,
      "outputs": [
        {
          "output_type": "execute_result",
          "data": {
            "text/plain": [
              "    Solution Type  Deal Status Code  Deal Status Code\n",
              "0      Solution 1              Lost                 2\n",
              "1      Solution 1               Won                 3\n",
              "2     Solution 10              Lost               690\n",
              "3     Solution 10               Won               326\n",
              "4     Solution 11              Lost                88\n",
              "..            ...               ...               ...\n",
              "111    Solution 7               Won                62\n",
              "112    Solution 8              Lost               190\n",
              "113    Solution 8               Won               184\n",
              "114    Solution 9              Lost              1018\n",
              "115    Solution 9               Won               400\n",
              "\n",
              "[116 rows x 3 columns]"
            ],
            "text/html": [
              "\n",
              "  <div id=\"df-ac8020f0-2a55-4b1a-b213-dfcbcb4ee83b\">\n",
              "    <div class=\"colab-df-container\">\n",
              "      <div>\n",
              "<style scoped>\n",
              "    .dataframe tbody tr th:only-of-type {\n",
              "        vertical-align: middle;\n",
              "    }\n",
              "\n",
              "    .dataframe tbody tr th {\n",
              "        vertical-align: top;\n",
              "    }\n",
              "\n",
              "    .dataframe thead th {\n",
              "        text-align: right;\n",
              "    }\n",
              "</style>\n",
              "<table border=\"1\" class=\"dataframe\">\n",
              "  <thead>\n",
              "    <tr style=\"text-align: right;\">\n",
              "      <th></th>\n",
              "      <th>Solution Type</th>\n",
              "      <th>Deal Status Code</th>\n",
              "      <th>Deal Status Code</th>\n",
              "    </tr>\n",
              "  </thead>\n",
              "  <tbody>\n",
              "    <tr>\n",
              "      <th>0</th>\n",
              "      <td>Solution 1</td>\n",
              "      <td>Lost</td>\n",
              "      <td>2</td>\n",
              "    </tr>\n",
              "    <tr>\n",
              "      <th>1</th>\n",
              "      <td>Solution 1</td>\n",
              "      <td>Won</td>\n",
              "      <td>3</td>\n",
              "    </tr>\n",
              "    <tr>\n",
              "      <th>2</th>\n",
              "      <td>Solution 10</td>\n",
              "      <td>Lost</td>\n",
              "      <td>690</td>\n",
              "    </tr>\n",
              "    <tr>\n",
              "      <th>3</th>\n",
              "      <td>Solution 10</td>\n",
              "      <td>Won</td>\n",
              "      <td>326</td>\n",
              "    </tr>\n",
              "    <tr>\n",
              "      <th>4</th>\n",
              "      <td>Solution 11</td>\n",
              "      <td>Lost</td>\n",
              "      <td>88</td>\n",
              "    </tr>\n",
              "    <tr>\n",
              "      <th>...</th>\n",
              "      <td>...</td>\n",
              "      <td>...</td>\n",
              "      <td>...</td>\n",
              "    </tr>\n",
              "    <tr>\n",
              "      <th>111</th>\n",
              "      <td>Solution 7</td>\n",
              "      <td>Won</td>\n",
              "      <td>62</td>\n",
              "    </tr>\n",
              "    <tr>\n",
              "      <th>112</th>\n",
              "      <td>Solution 8</td>\n",
              "      <td>Lost</td>\n",
              "      <td>190</td>\n",
              "    </tr>\n",
              "    <tr>\n",
              "      <th>113</th>\n",
              "      <td>Solution 8</td>\n",
              "      <td>Won</td>\n",
              "      <td>184</td>\n",
              "    </tr>\n",
              "    <tr>\n",
              "      <th>114</th>\n",
              "      <td>Solution 9</td>\n",
              "      <td>Lost</td>\n",
              "      <td>1018</td>\n",
              "    </tr>\n",
              "    <tr>\n",
              "      <th>115</th>\n",
              "      <td>Solution 9</td>\n",
              "      <td>Won</td>\n",
              "      <td>400</td>\n",
              "    </tr>\n",
              "  </tbody>\n",
              "</table>\n",
              "<p>116 rows × 3 columns</p>\n",
              "</div>\n",
              "      <button class=\"colab-df-convert\" onclick=\"convertToInteractive('df-ac8020f0-2a55-4b1a-b213-dfcbcb4ee83b')\"\n",
              "              title=\"Convert this dataframe to an interactive table.\"\n",
              "              style=\"display:none;\">\n",
              "        \n",
              "  <svg xmlns=\"http://www.w3.org/2000/svg\" height=\"24px\"viewBox=\"0 0 24 24\"\n",
              "       width=\"24px\">\n",
              "    <path d=\"M0 0h24v24H0V0z\" fill=\"none\"/>\n",
              "    <path d=\"M18.56 5.44l.94 2.06.94-2.06 2.06-.94-2.06-.94-.94-2.06-.94 2.06-2.06.94zm-11 1L8.5 8.5l.94-2.06 2.06-.94-2.06-.94L8.5 2.5l-.94 2.06-2.06.94zm10 10l.94 2.06.94-2.06 2.06-.94-2.06-.94-.94-2.06-.94 2.06-2.06.94z\"/><path d=\"M17.41 7.96l-1.37-1.37c-.4-.4-.92-.59-1.43-.59-.52 0-1.04.2-1.43.59L10.3 9.45l-7.72 7.72c-.78.78-.78 2.05 0 2.83L4 21.41c.39.39.9.59 1.41.59.51 0 1.02-.2 1.41-.59l7.78-7.78 2.81-2.81c.8-.78.8-2.07 0-2.86zM5.41 20L4 18.59l7.72-7.72 1.47 1.35L5.41 20z\"/>\n",
              "  </svg>\n",
              "      </button>\n",
              "      \n",
              "  <style>\n",
              "    .colab-df-container {\n",
              "      display:flex;\n",
              "      flex-wrap:wrap;\n",
              "      gap: 12px;\n",
              "    }\n",
              "\n",
              "    .colab-df-convert {\n",
              "      background-color: #E8F0FE;\n",
              "      border: none;\n",
              "      border-radius: 50%;\n",
              "      cursor: pointer;\n",
              "      display: none;\n",
              "      fill: #1967D2;\n",
              "      height: 32px;\n",
              "      padding: 0 0 0 0;\n",
              "      width: 32px;\n",
              "    }\n",
              "\n",
              "    .colab-df-convert:hover {\n",
              "      background-color: #E2EBFA;\n",
              "      box-shadow: 0px 1px 2px rgba(60, 64, 67, 0.3), 0px 1px 3px 1px rgba(60, 64, 67, 0.15);\n",
              "      fill: #174EA6;\n",
              "    }\n",
              "\n",
              "    [theme=dark] .colab-df-convert {\n",
              "      background-color: #3B4455;\n",
              "      fill: #D2E3FC;\n",
              "    }\n",
              "\n",
              "    [theme=dark] .colab-df-convert:hover {\n",
              "      background-color: #434B5C;\n",
              "      box-shadow: 0px 1px 3px 1px rgba(0, 0, 0, 0.15);\n",
              "      filter: drop-shadow(0px 1px 2px rgba(0, 0, 0, 0.3));\n",
              "      fill: #FFFFFF;\n",
              "    }\n",
              "  </style>\n",
              "\n",
              "      <script>\n",
              "        const buttonEl =\n",
              "          document.querySelector('#df-ac8020f0-2a55-4b1a-b213-dfcbcb4ee83b button.colab-df-convert');\n",
              "        buttonEl.style.display =\n",
              "          google.colab.kernel.accessAllowed ? 'block' : 'none';\n",
              "\n",
              "        async function convertToInteractive(key) {\n",
              "          const element = document.querySelector('#df-ac8020f0-2a55-4b1a-b213-dfcbcb4ee83b');\n",
              "          const dataTable =\n",
              "            await google.colab.kernel.invokeFunction('convertToInteractive',\n",
              "                                                     [key], {});\n",
              "          if (!dataTable) return;\n",
              "\n",
              "          const docLinkHtml = 'Like what you see? Visit the ' +\n",
              "            '<a target=\"_blank\" href=https://colab.research.google.com/notebooks/data_table.ipynb>data table notebook</a>'\n",
              "            + ' to learn more about interactive tables.';\n",
              "          element.innerHTML = '';\n",
              "          dataTable['output_type'] = 'display_data';\n",
              "          await google.colab.output.renderOutput(dataTable, element);\n",
              "          const docLink = document.createElement('div');\n",
              "          docLink.innerHTML = docLinkHtml;\n",
              "          element.appendChild(docLink);\n",
              "        }\n",
              "      </script>\n",
              "    </div>\n",
              "  </div>\n",
              "  "
            ]
          },
          "metadata": {},
          "execution_count": 117
        }
      ]
    },
    {
      "cell_type": "markdown",
      "source": [
        "Relationship between VP Name and Deal Status Code"
      ],
      "metadata": {
        "id": "eKiHvJfYokOQ"
      }
    },
    {
      "cell_type": "code",
      "source": [
        "VP_Name_cat = newdata[['VP Name', 'Deal Status Code']].groupby(['VP Name', 'Deal Status Code']).size().reset_index().rename(columns={0:'Deal Status Code'})"
      ],
      "metadata": {
        "id": "4z1IcPIwInnn"
      },
      "execution_count": 118,
      "outputs": []
    },
    {
      "cell_type": "code",
      "source": [
        "VP_Name_cat"
      ],
      "metadata": {
        "id": "vs_ouRlhInqL",
        "colab": {
          "base_uri": "https://localhost:8080/",
          "height": 424
        },
        "outputId": "da44f5cb-8533-4080-f334-12edbb03c79f"
      },
      "execution_count": 119,
      "outputs": [
        {
          "output_type": "execute_result",
          "data": {
            "text/plain": [
              "            VP Name  Deal Status Code  Deal Status Code\n",
              "0         Alam Syed              Lost                62\n",
              "1         Alam Syed               Won                64\n",
              "2   Ankita Aggarwal              Lost               866\n",
              "3   Ankita Aggarwal               Won               277\n",
              "4    Brendon Wycoff              Lost               132\n",
              "..              ...               ...               ...\n",
              "77        md. afsar              Lost                 2\n",
              "78     neeraj kumar              Lost               254\n",
              "79     neeraj kumar               Won               217\n",
              "80         som dutt              Lost               138\n",
              "81         som dutt               Won                82\n",
              "\n",
              "[82 rows x 3 columns]"
            ],
            "text/html": [
              "\n",
              "  <div id=\"df-f503a297-fff4-4bb0-ba13-acaf330cc14f\">\n",
              "    <div class=\"colab-df-container\">\n",
              "      <div>\n",
              "<style scoped>\n",
              "    .dataframe tbody tr th:only-of-type {\n",
              "        vertical-align: middle;\n",
              "    }\n",
              "\n",
              "    .dataframe tbody tr th {\n",
              "        vertical-align: top;\n",
              "    }\n",
              "\n",
              "    .dataframe thead th {\n",
              "        text-align: right;\n",
              "    }\n",
              "</style>\n",
              "<table border=\"1\" class=\"dataframe\">\n",
              "  <thead>\n",
              "    <tr style=\"text-align: right;\">\n",
              "      <th></th>\n",
              "      <th>VP Name</th>\n",
              "      <th>Deal Status Code</th>\n",
              "      <th>Deal Status Code</th>\n",
              "    </tr>\n",
              "  </thead>\n",
              "  <tbody>\n",
              "    <tr>\n",
              "      <th>0</th>\n",
              "      <td>Alam Syed</td>\n",
              "      <td>Lost</td>\n",
              "      <td>62</td>\n",
              "    </tr>\n",
              "    <tr>\n",
              "      <th>1</th>\n",
              "      <td>Alam Syed</td>\n",
              "      <td>Won</td>\n",
              "      <td>64</td>\n",
              "    </tr>\n",
              "    <tr>\n",
              "      <th>2</th>\n",
              "      <td>Ankita Aggarwal</td>\n",
              "      <td>Lost</td>\n",
              "      <td>866</td>\n",
              "    </tr>\n",
              "    <tr>\n",
              "      <th>3</th>\n",
              "      <td>Ankita Aggarwal</td>\n",
              "      <td>Won</td>\n",
              "      <td>277</td>\n",
              "    </tr>\n",
              "    <tr>\n",
              "      <th>4</th>\n",
              "      <td>Brendon Wycoff</td>\n",
              "      <td>Lost</td>\n",
              "      <td>132</td>\n",
              "    </tr>\n",
              "    <tr>\n",
              "      <th>...</th>\n",
              "      <td>...</td>\n",
              "      <td>...</td>\n",
              "      <td>...</td>\n",
              "    </tr>\n",
              "    <tr>\n",
              "      <th>77</th>\n",
              "      <td>md. afsar</td>\n",
              "      <td>Lost</td>\n",
              "      <td>2</td>\n",
              "    </tr>\n",
              "    <tr>\n",
              "      <th>78</th>\n",
              "      <td>neeraj kumar</td>\n",
              "      <td>Lost</td>\n",
              "      <td>254</td>\n",
              "    </tr>\n",
              "    <tr>\n",
              "      <th>79</th>\n",
              "      <td>neeraj kumar</td>\n",
              "      <td>Won</td>\n",
              "      <td>217</td>\n",
              "    </tr>\n",
              "    <tr>\n",
              "      <th>80</th>\n",
              "      <td>som dutt</td>\n",
              "      <td>Lost</td>\n",
              "      <td>138</td>\n",
              "    </tr>\n",
              "    <tr>\n",
              "      <th>81</th>\n",
              "      <td>som dutt</td>\n",
              "      <td>Won</td>\n",
              "      <td>82</td>\n",
              "    </tr>\n",
              "  </tbody>\n",
              "</table>\n",
              "<p>82 rows × 3 columns</p>\n",
              "</div>\n",
              "      <button class=\"colab-df-convert\" onclick=\"convertToInteractive('df-f503a297-fff4-4bb0-ba13-acaf330cc14f')\"\n",
              "              title=\"Convert this dataframe to an interactive table.\"\n",
              "              style=\"display:none;\">\n",
              "        \n",
              "  <svg xmlns=\"http://www.w3.org/2000/svg\" height=\"24px\"viewBox=\"0 0 24 24\"\n",
              "       width=\"24px\">\n",
              "    <path d=\"M0 0h24v24H0V0z\" fill=\"none\"/>\n",
              "    <path d=\"M18.56 5.44l.94 2.06.94-2.06 2.06-.94-2.06-.94-.94-2.06-.94 2.06-2.06.94zm-11 1L8.5 8.5l.94-2.06 2.06-.94-2.06-.94L8.5 2.5l-.94 2.06-2.06.94zm10 10l.94 2.06.94-2.06 2.06-.94-2.06-.94-.94-2.06-.94 2.06-2.06.94z\"/><path d=\"M17.41 7.96l-1.37-1.37c-.4-.4-.92-.59-1.43-.59-.52 0-1.04.2-1.43.59L10.3 9.45l-7.72 7.72c-.78.78-.78 2.05 0 2.83L4 21.41c.39.39.9.59 1.41.59.51 0 1.02-.2 1.41-.59l7.78-7.78 2.81-2.81c.8-.78.8-2.07 0-2.86zM5.41 20L4 18.59l7.72-7.72 1.47 1.35L5.41 20z\"/>\n",
              "  </svg>\n",
              "      </button>\n",
              "      \n",
              "  <style>\n",
              "    .colab-df-container {\n",
              "      display:flex;\n",
              "      flex-wrap:wrap;\n",
              "      gap: 12px;\n",
              "    }\n",
              "\n",
              "    .colab-df-convert {\n",
              "      background-color: #E8F0FE;\n",
              "      border: none;\n",
              "      border-radius: 50%;\n",
              "      cursor: pointer;\n",
              "      display: none;\n",
              "      fill: #1967D2;\n",
              "      height: 32px;\n",
              "      padding: 0 0 0 0;\n",
              "      width: 32px;\n",
              "    }\n",
              "\n",
              "    .colab-df-convert:hover {\n",
              "      background-color: #E2EBFA;\n",
              "      box-shadow: 0px 1px 2px rgba(60, 64, 67, 0.3), 0px 1px 3px 1px rgba(60, 64, 67, 0.15);\n",
              "      fill: #174EA6;\n",
              "    }\n",
              "\n",
              "    [theme=dark] .colab-df-convert {\n",
              "      background-color: #3B4455;\n",
              "      fill: #D2E3FC;\n",
              "    }\n",
              "\n",
              "    [theme=dark] .colab-df-convert:hover {\n",
              "      background-color: #434B5C;\n",
              "      box-shadow: 0px 1px 3px 1px rgba(0, 0, 0, 0.15);\n",
              "      filter: drop-shadow(0px 1px 2px rgba(0, 0, 0, 0.3));\n",
              "      fill: #FFFFFF;\n",
              "    }\n",
              "  </style>\n",
              "\n",
              "      <script>\n",
              "        const buttonEl =\n",
              "          document.querySelector('#df-f503a297-fff4-4bb0-ba13-acaf330cc14f button.colab-df-convert');\n",
              "        buttonEl.style.display =\n",
              "          google.colab.kernel.accessAllowed ? 'block' : 'none';\n",
              "\n",
              "        async function convertToInteractive(key) {\n",
              "          const element = document.querySelector('#df-f503a297-fff4-4bb0-ba13-acaf330cc14f');\n",
              "          const dataTable =\n",
              "            await google.colab.kernel.invokeFunction('convertToInteractive',\n",
              "                                                     [key], {});\n",
              "          if (!dataTable) return;\n",
              "\n",
              "          const docLinkHtml = 'Like what you see? Visit the ' +\n",
              "            '<a target=\"_blank\" href=https://colab.research.google.com/notebooks/data_table.ipynb>data table notebook</a>'\n",
              "            + ' to learn more about interactive tables.';\n",
              "          element.innerHTML = '';\n",
              "          dataTable['output_type'] = 'display_data';\n",
              "          await google.colab.output.renderOutput(dataTable, element);\n",
              "          const docLink = document.createElement('div');\n",
              "          docLink.innerHTML = docLinkHtml;\n",
              "          element.appendChild(docLink);\n",
              "        }\n",
              "      </script>\n",
              "    </div>\n",
              "  </div>\n",
              "  "
            ]
          },
          "metadata": {},
          "execution_count": 119
        }
      ]
    },
    {
      "cell_type": "markdown",
      "source": [
        "Relationship between Manager and Deal Status Code"
      ],
      "metadata": {
        "id": "e5kSco9Pob04"
      }
    },
    {
      "cell_type": "code",
      "source": [
        "Manager_Name_cat = newdata[['Manager Name', 'Deal Status Code']].groupby(['Manager Name', 'Deal Status Code']).size().reset_index().rename(columns={0:'Total Count'})\n",
        "Manager_Name_cat"
      ],
      "metadata": {
        "id": "Ffg4rzylIns4",
        "colab": {
          "base_uri": "https://localhost:8080/",
          "height": 424
        },
        "outputId": "70446b8c-79e1-40a1-c03b-ff87af749cdd"
      },
      "execution_count": 120,
      "outputs": [
        {
          "output_type": "execute_result",
          "data": {
            "text/plain": [
              "         Manager Name Deal Status Code  Total Count\n",
              "0       Aastha Gandhi              Won            1\n",
              "1     Abhinav Warrier             Lost           80\n",
              "2     Abhinav Warrier              Won           15\n",
              "3    Abhishek Singhal             Lost           44\n",
              "4    Abhishek Singhal              Won           23\n",
              "..                ...              ...          ...\n",
              "470       sunder paal              Won            6\n",
              "471         vansu dev             Lost           78\n",
              "472         vansu dev              Won           54\n",
              "473    vinit katariya             Lost           14\n",
              "474    vinit katariya              Won            2\n",
              "\n",
              "[475 rows x 3 columns]"
            ],
            "text/html": [
              "\n",
              "  <div id=\"df-9d0edd78-c69a-4581-ab85-1948dacc7831\">\n",
              "    <div class=\"colab-df-container\">\n",
              "      <div>\n",
              "<style scoped>\n",
              "    .dataframe tbody tr th:only-of-type {\n",
              "        vertical-align: middle;\n",
              "    }\n",
              "\n",
              "    .dataframe tbody tr th {\n",
              "        vertical-align: top;\n",
              "    }\n",
              "\n",
              "    .dataframe thead th {\n",
              "        text-align: right;\n",
              "    }\n",
              "</style>\n",
              "<table border=\"1\" class=\"dataframe\">\n",
              "  <thead>\n",
              "    <tr style=\"text-align: right;\">\n",
              "      <th></th>\n",
              "      <th>Manager Name</th>\n",
              "      <th>Deal Status Code</th>\n",
              "      <th>Total Count</th>\n",
              "    </tr>\n",
              "  </thead>\n",
              "  <tbody>\n",
              "    <tr>\n",
              "      <th>0</th>\n",
              "      <td>Aastha Gandhi</td>\n",
              "      <td>Won</td>\n",
              "      <td>1</td>\n",
              "    </tr>\n",
              "    <tr>\n",
              "      <th>1</th>\n",
              "      <td>Abhinav Warrier</td>\n",
              "      <td>Lost</td>\n",
              "      <td>80</td>\n",
              "    </tr>\n",
              "    <tr>\n",
              "      <th>2</th>\n",
              "      <td>Abhinav Warrier</td>\n",
              "      <td>Won</td>\n",
              "      <td>15</td>\n",
              "    </tr>\n",
              "    <tr>\n",
              "      <th>3</th>\n",
              "      <td>Abhishek Singhal</td>\n",
              "      <td>Lost</td>\n",
              "      <td>44</td>\n",
              "    </tr>\n",
              "    <tr>\n",
              "      <th>4</th>\n",
              "      <td>Abhishek Singhal</td>\n",
              "      <td>Won</td>\n",
              "      <td>23</td>\n",
              "    </tr>\n",
              "    <tr>\n",
              "      <th>...</th>\n",
              "      <td>...</td>\n",
              "      <td>...</td>\n",
              "      <td>...</td>\n",
              "    </tr>\n",
              "    <tr>\n",
              "      <th>470</th>\n",
              "      <td>sunder paal</td>\n",
              "      <td>Won</td>\n",
              "      <td>6</td>\n",
              "    </tr>\n",
              "    <tr>\n",
              "      <th>471</th>\n",
              "      <td>vansu dev</td>\n",
              "      <td>Lost</td>\n",
              "      <td>78</td>\n",
              "    </tr>\n",
              "    <tr>\n",
              "      <th>472</th>\n",
              "      <td>vansu dev</td>\n",
              "      <td>Won</td>\n",
              "      <td>54</td>\n",
              "    </tr>\n",
              "    <tr>\n",
              "      <th>473</th>\n",
              "      <td>vinit katariya</td>\n",
              "      <td>Lost</td>\n",
              "      <td>14</td>\n",
              "    </tr>\n",
              "    <tr>\n",
              "      <th>474</th>\n",
              "      <td>vinit katariya</td>\n",
              "      <td>Won</td>\n",
              "      <td>2</td>\n",
              "    </tr>\n",
              "  </tbody>\n",
              "</table>\n",
              "<p>475 rows × 3 columns</p>\n",
              "</div>\n",
              "      <button class=\"colab-df-convert\" onclick=\"convertToInteractive('df-9d0edd78-c69a-4581-ab85-1948dacc7831')\"\n",
              "              title=\"Convert this dataframe to an interactive table.\"\n",
              "              style=\"display:none;\">\n",
              "        \n",
              "  <svg xmlns=\"http://www.w3.org/2000/svg\" height=\"24px\"viewBox=\"0 0 24 24\"\n",
              "       width=\"24px\">\n",
              "    <path d=\"M0 0h24v24H0V0z\" fill=\"none\"/>\n",
              "    <path d=\"M18.56 5.44l.94 2.06.94-2.06 2.06-.94-2.06-.94-.94-2.06-.94 2.06-2.06.94zm-11 1L8.5 8.5l.94-2.06 2.06-.94-2.06-.94L8.5 2.5l-.94 2.06-2.06.94zm10 10l.94 2.06.94-2.06 2.06-.94-2.06-.94-.94-2.06-.94 2.06-2.06.94z\"/><path d=\"M17.41 7.96l-1.37-1.37c-.4-.4-.92-.59-1.43-.59-.52 0-1.04.2-1.43.59L10.3 9.45l-7.72 7.72c-.78.78-.78 2.05 0 2.83L4 21.41c.39.39.9.59 1.41.59.51 0 1.02-.2 1.41-.59l7.78-7.78 2.81-2.81c.8-.78.8-2.07 0-2.86zM5.41 20L4 18.59l7.72-7.72 1.47 1.35L5.41 20z\"/>\n",
              "  </svg>\n",
              "      </button>\n",
              "      \n",
              "  <style>\n",
              "    .colab-df-container {\n",
              "      display:flex;\n",
              "      flex-wrap:wrap;\n",
              "      gap: 12px;\n",
              "    }\n",
              "\n",
              "    .colab-df-convert {\n",
              "      background-color: #E8F0FE;\n",
              "      border: none;\n",
              "      border-radius: 50%;\n",
              "      cursor: pointer;\n",
              "      display: none;\n",
              "      fill: #1967D2;\n",
              "      height: 32px;\n",
              "      padding: 0 0 0 0;\n",
              "      width: 32px;\n",
              "    }\n",
              "\n",
              "    .colab-df-convert:hover {\n",
              "      background-color: #E2EBFA;\n",
              "      box-shadow: 0px 1px 2px rgba(60, 64, 67, 0.3), 0px 1px 3px 1px rgba(60, 64, 67, 0.15);\n",
              "      fill: #174EA6;\n",
              "    }\n",
              "\n",
              "    [theme=dark] .colab-df-convert {\n",
              "      background-color: #3B4455;\n",
              "      fill: #D2E3FC;\n",
              "    }\n",
              "\n",
              "    [theme=dark] .colab-df-convert:hover {\n",
              "      background-color: #434B5C;\n",
              "      box-shadow: 0px 1px 3px 1px rgba(0, 0, 0, 0.15);\n",
              "      filter: drop-shadow(0px 1px 2px rgba(0, 0, 0, 0.3));\n",
              "      fill: #FFFFFF;\n",
              "    }\n",
              "  </style>\n",
              "\n",
              "      <script>\n",
              "        const buttonEl =\n",
              "          document.querySelector('#df-9d0edd78-c69a-4581-ab85-1948dacc7831 button.colab-df-convert');\n",
              "        buttonEl.style.display =\n",
              "          google.colab.kernel.accessAllowed ? 'block' : 'none';\n",
              "\n",
              "        async function convertToInteractive(key) {\n",
              "          const element = document.querySelector('#df-9d0edd78-c69a-4581-ab85-1948dacc7831');\n",
              "          const dataTable =\n",
              "            await google.colab.kernel.invokeFunction('convertToInteractive',\n",
              "                                                     [key], {});\n",
              "          if (!dataTable) return;\n",
              "\n",
              "          const docLinkHtml = 'Like what you see? Visit the ' +\n",
              "            '<a target=\"_blank\" href=https://colab.research.google.com/notebooks/data_table.ipynb>data table notebook</a>'\n",
              "            + ' to learn more about interactive tables.';\n",
              "          element.innerHTML = '';\n",
              "          dataTable['output_type'] = 'display_data';\n",
              "          await google.colab.output.renderOutput(dataTable, element);\n",
              "          const docLink = document.createElement('div');\n",
              "          docLink.innerHTML = docLinkHtml;\n",
              "          element.appendChild(docLink);\n",
              "        }\n",
              "      </script>\n",
              "    </div>\n",
              "  </div>\n",
              "  "
            ]
          },
          "metadata": {},
          "execution_count": 120
        }
      ]
    },
    {
      "cell_type": "code",
      "source": [
        "pd.pivot_table(newdata, index = 'Deal Status Code', columns = 'Manager Name', values = 'Deal Cost')"
      ],
      "metadata": {
        "colab": {
          "base_uri": "https://localhost:8080/",
          "height": 306
        },
        "id": "ftd5BDSjosxX",
        "outputId": "982a8583-5cf7-4b91-dada-181dab46621f"
      },
      "execution_count": 121,
      "outputs": [
        {
          "output_type": "execute_result",
          "data": {
            "text/plain": [
              "Manager Name      Aastha Gandhi  Abhinav Warrier  Abhishek Singhal  \\\n",
              "Deal Status Code                                                     \n",
              "Lost                        NaN    588808.824000     772860.963182   \n",
              "Won                   242647.06    302235.296667     476956.522609   \n",
              "\n",
              "Manager Name      Abhiskek Kumar   Abhiskhek  D    Abram Fines  Aditya Kumar  \\\n",
              "Deal Status Code                                                               \n",
              "Lost               949894.957857  440767.973889  501764.706000     792647.06   \n",
              "Won                587507.740789  375658.823600  714127.789655     250367.65   \n",
              "\n",
              "Manager Name      Aditya Tondon   Ahdarsha Jha  Ahswini Saini  ...  \\\n",
              "Deal Status Code                                               ...   \n",
              "Lost                 1058823.53  924866.311818     1029411.77  ...   \n",
              "Won                         NaN  351102.940000      601470.59  ...   \n",
              "\n",
              "Manager Name          shafibul  sharat chandran   sheak shakir  shiv kumar  \\\n",
              "Deal Status Code                                                             \n",
              "Lost              2.867647e+06       441176.470  882352.940000   219019.61   \n",
              "Won                        NaN       989411.765  461127.451667         NaN   \n",
              "\n",
              "Manager Name      shiv shakti singh    shyam kumar   som dutt  sunder paal  \\\n",
              "Deal Status Code                                                             \n",
              "Lost                     1470588.24  715250.000000        NaN   882352.940   \n",
              "Won                             NaN  307769.608333  198627.45   371960.785   \n",
              "\n",
              "Manager Name         vansu dev  vinit katariya  \n",
              "Deal Status Code                                \n",
              "Lost              9.687406e+05    1.098739e+06  \n",
              "Won               1.253295e+06    3.917206e+06  \n",
              "\n",
              "[2 rows x 278 columns]"
            ],
            "text/html": [
              "\n",
              "  <div id=\"df-4cac2167-a32e-4f72-89a3-a1a55f61a161\">\n",
              "    <div class=\"colab-df-container\">\n",
              "      <div>\n",
              "<style scoped>\n",
              "    .dataframe tbody tr th:only-of-type {\n",
              "        vertical-align: middle;\n",
              "    }\n",
              "\n",
              "    .dataframe tbody tr th {\n",
              "        vertical-align: top;\n",
              "    }\n",
              "\n",
              "    .dataframe thead th {\n",
              "        text-align: right;\n",
              "    }\n",
              "</style>\n",
              "<table border=\"1\" class=\"dataframe\">\n",
              "  <thead>\n",
              "    <tr style=\"text-align: right;\">\n",
              "      <th>Manager Name</th>\n",
              "      <th>Aastha Gandhi</th>\n",
              "      <th>Abhinav Warrier</th>\n",
              "      <th>Abhishek Singhal</th>\n",
              "      <th>Abhiskek Kumar</th>\n",
              "      <th>Abhiskhek  D</th>\n",
              "      <th>Abram Fines</th>\n",
              "      <th>Aditya Kumar</th>\n",
              "      <th>Aditya Tondon</th>\n",
              "      <th>Ahdarsha Jha</th>\n",
              "      <th>Ahswini Saini</th>\n",
              "      <th>...</th>\n",
              "      <th>shafibul</th>\n",
              "      <th>sharat chandran</th>\n",
              "      <th>sheak shakir</th>\n",
              "      <th>shiv kumar</th>\n",
              "      <th>shiv shakti singh</th>\n",
              "      <th>shyam kumar</th>\n",
              "      <th>som dutt</th>\n",
              "      <th>sunder paal</th>\n",
              "      <th>vansu dev</th>\n",
              "      <th>vinit katariya</th>\n",
              "    </tr>\n",
              "    <tr>\n",
              "      <th>Deal Status Code</th>\n",
              "      <th></th>\n",
              "      <th></th>\n",
              "      <th></th>\n",
              "      <th></th>\n",
              "      <th></th>\n",
              "      <th></th>\n",
              "      <th></th>\n",
              "      <th></th>\n",
              "      <th></th>\n",
              "      <th></th>\n",
              "      <th></th>\n",
              "      <th></th>\n",
              "      <th></th>\n",
              "      <th></th>\n",
              "      <th></th>\n",
              "      <th></th>\n",
              "      <th></th>\n",
              "      <th></th>\n",
              "      <th></th>\n",
              "      <th></th>\n",
              "      <th></th>\n",
              "    </tr>\n",
              "  </thead>\n",
              "  <tbody>\n",
              "    <tr>\n",
              "      <th>Lost</th>\n",
              "      <td>NaN</td>\n",
              "      <td>588808.824000</td>\n",
              "      <td>772860.963182</td>\n",
              "      <td>949894.957857</td>\n",
              "      <td>440767.973889</td>\n",
              "      <td>501764.706000</td>\n",
              "      <td>792647.06</td>\n",
              "      <td>1058823.53</td>\n",
              "      <td>924866.311818</td>\n",
              "      <td>1029411.77</td>\n",
              "      <td>...</td>\n",
              "      <td>2.867647e+06</td>\n",
              "      <td>441176.470</td>\n",
              "      <td>882352.940000</td>\n",
              "      <td>219019.61</td>\n",
              "      <td>1470588.24</td>\n",
              "      <td>715250.000000</td>\n",
              "      <td>NaN</td>\n",
              "      <td>882352.940</td>\n",
              "      <td>9.687406e+05</td>\n",
              "      <td>1.098739e+06</td>\n",
              "    </tr>\n",
              "    <tr>\n",
              "      <th>Won</th>\n",
              "      <td>242647.06</td>\n",
              "      <td>302235.296667</td>\n",
              "      <td>476956.522609</td>\n",
              "      <td>587507.740789</td>\n",
              "      <td>375658.823600</td>\n",
              "      <td>714127.789655</td>\n",
              "      <td>250367.65</td>\n",
              "      <td>NaN</td>\n",
              "      <td>351102.940000</td>\n",
              "      <td>601470.59</td>\n",
              "      <td>...</td>\n",
              "      <td>NaN</td>\n",
              "      <td>989411.765</td>\n",
              "      <td>461127.451667</td>\n",
              "      <td>NaN</td>\n",
              "      <td>NaN</td>\n",
              "      <td>307769.608333</td>\n",
              "      <td>198627.45</td>\n",
              "      <td>371960.785</td>\n",
              "      <td>1.253295e+06</td>\n",
              "      <td>3.917206e+06</td>\n",
              "    </tr>\n",
              "  </tbody>\n",
              "</table>\n",
              "<p>2 rows × 278 columns</p>\n",
              "</div>\n",
              "      <button class=\"colab-df-convert\" onclick=\"convertToInteractive('df-4cac2167-a32e-4f72-89a3-a1a55f61a161')\"\n",
              "              title=\"Convert this dataframe to an interactive table.\"\n",
              "              style=\"display:none;\">\n",
              "        \n",
              "  <svg xmlns=\"http://www.w3.org/2000/svg\" height=\"24px\"viewBox=\"0 0 24 24\"\n",
              "       width=\"24px\">\n",
              "    <path d=\"M0 0h24v24H0V0z\" fill=\"none\"/>\n",
              "    <path d=\"M18.56 5.44l.94 2.06.94-2.06 2.06-.94-2.06-.94-.94-2.06-.94 2.06-2.06.94zm-11 1L8.5 8.5l.94-2.06 2.06-.94-2.06-.94L8.5 2.5l-.94 2.06-2.06.94zm10 10l.94 2.06.94-2.06 2.06-.94-2.06-.94-.94-2.06-.94 2.06-2.06.94z\"/><path d=\"M17.41 7.96l-1.37-1.37c-.4-.4-.92-.59-1.43-.59-.52 0-1.04.2-1.43.59L10.3 9.45l-7.72 7.72c-.78.78-.78 2.05 0 2.83L4 21.41c.39.39.9.59 1.41.59.51 0 1.02-.2 1.41-.59l7.78-7.78 2.81-2.81c.8-.78.8-2.07 0-2.86zM5.41 20L4 18.59l7.72-7.72 1.47 1.35L5.41 20z\"/>\n",
              "  </svg>\n",
              "      </button>\n",
              "      \n",
              "  <style>\n",
              "    .colab-df-container {\n",
              "      display:flex;\n",
              "      flex-wrap:wrap;\n",
              "      gap: 12px;\n",
              "    }\n",
              "\n",
              "    .colab-df-convert {\n",
              "      background-color: #E8F0FE;\n",
              "      border: none;\n",
              "      border-radius: 50%;\n",
              "      cursor: pointer;\n",
              "      display: none;\n",
              "      fill: #1967D2;\n",
              "      height: 32px;\n",
              "      padding: 0 0 0 0;\n",
              "      width: 32px;\n",
              "    }\n",
              "\n",
              "    .colab-df-convert:hover {\n",
              "      background-color: #E2EBFA;\n",
              "      box-shadow: 0px 1px 2px rgba(60, 64, 67, 0.3), 0px 1px 3px 1px rgba(60, 64, 67, 0.15);\n",
              "      fill: #174EA6;\n",
              "    }\n",
              "\n",
              "    [theme=dark] .colab-df-convert {\n",
              "      background-color: #3B4455;\n",
              "      fill: #D2E3FC;\n",
              "    }\n",
              "\n",
              "    [theme=dark] .colab-df-convert:hover {\n",
              "      background-color: #434B5C;\n",
              "      box-shadow: 0px 1px 3px 1px rgba(0, 0, 0, 0.15);\n",
              "      filter: drop-shadow(0px 1px 2px rgba(0, 0, 0, 0.3));\n",
              "      fill: #FFFFFF;\n",
              "    }\n",
              "  </style>\n",
              "\n",
              "      <script>\n",
              "        const buttonEl =\n",
              "          document.querySelector('#df-4cac2167-a32e-4f72-89a3-a1a55f61a161 button.colab-df-convert');\n",
              "        buttonEl.style.display =\n",
              "          google.colab.kernel.accessAllowed ? 'block' : 'none';\n",
              "\n",
              "        async function convertToInteractive(key) {\n",
              "          const element = document.querySelector('#df-4cac2167-a32e-4f72-89a3-a1a55f61a161');\n",
              "          const dataTable =\n",
              "            await google.colab.kernel.invokeFunction('convertToInteractive',\n",
              "                                                     [key], {});\n",
              "          if (!dataTable) return;\n",
              "\n",
              "          const docLinkHtml = 'Like what you see? Visit the ' +\n",
              "            '<a target=\"_blank\" href=https://colab.research.google.com/notebooks/data_table.ipynb>data table notebook</a>'\n",
              "            + ' to learn more about interactive tables.';\n",
              "          element.innerHTML = '';\n",
              "          dataTable['output_type'] = 'display_data';\n",
              "          await google.colab.output.renderOutput(dataTable, element);\n",
              "          const docLink = document.createElement('div');\n",
              "          docLink.innerHTML = docLinkHtml;\n",
              "          element.appendChild(docLink);\n",
              "        }\n",
              "      </script>\n",
              "    </div>\n",
              "  </div>\n",
              "  "
            ]
          },
          "metadata": {},
          "execution_count": 121
        }
      ]
    },
    {
      "cell_type": "code",
      "source": [
        "pd.pivot_table(newdata, index = 'Deal Status Code', columns = 'VP Name', values = 'Deal Cost')"
      ],
      "metadata": {
        "colab": {
          "base_uri": "https://localhost:8080/",
          "height": 289
        },
        "id": "xT1r1dDfosr-",
        "outputId": "5cfe2f92-1a04-4b1e-9ca4-e80df789a2a5"
      },
      "execution_count": 122,
      "outputs": [
        {
          "output_type": "execute_result",
          "data": {
            "text/plain": [
              "VP Name              Alam Syed  Ankita Aggarwal  Brendon Wycoff  \\\n",
              "Deal Status Code                                                  \n",
              "Lost              1.087144e+06     654206.63000    1.096894e+06   \n",
              "Won               1.172937e+06     503528.35065    1.909288e+06   \n",
              "\n",
              "VP Name            Clinton Mani    Dennis Faux  Earline Langton   Ekta Zutshi  \\\n",
              "Deal Status Code                                                                \n",
              "Lost              776755.218548  554656.861667     1.189219e+06  7.912821e+05   \n",
              "Won               600857.843500  315294.120000     6.034314e+05  1.021396e+06   \n",
              "\n",
              "VP Name           Gaurav Sameria  Gayle Molter  Gopa Trilochana  ...  \\\n",
              "Deal Status Code                                                 ...   \n",
              "Lost               554590.017879  7.291971e+05     1.464321e+06  ...   \n",
              "Won                586433.823958  1.282863e+06     8.195701e+05  ...   \n",
              "\n",
              "VP Name           Saurabh Singh  Son Mcconnaughy  Varsha Arora    Vidur Hukle  \\\n",
              "Deal Status Code                                                                \n",
              "Lost              761066.176429     1.517227e+06  7.272255e+05  615517.241724   \n",
              "Won               962863.052187     5.470632e+05  3.454505e+06  540581.233095   \n",
              "\n",
              "VP Name           Vikram Rawat  Visvajeet Das  Waylon Mulder   md. afsar  \\\n",
              "Deal Status Code                                                           \n",
              "Lost              1.681103e+06     1176470.59      235294.12  3235294.12   \n",
              "Won               5.161111e+05     5588235.29       88235.29         NaN   \n",
              "\n",
              "VP Name            neeraj kumar       som dutt  \n",
              "Deal Status Code                                \n",
              "Lost              478943.956142  554650.469710  \n",
              "Won               693700.190092  562977.044756  \n",
              "\n",
              "[2 rows x 43 columns]"
            ],
            "text/html": [
              "\n",
              "  <div id=\"df-cca9cb5f-5d3d-4419-b179-a752b08027b9\">\n",
              "    <div class=\"colab-df-container\">\n",
              "      <div>\n",
              "<style scoped>\n",
              "    .dataframe tbody tr th:only-of-type {\n",
              "        vertical-align: middle;\n",
              "    }\n",
              "\n",
              "    .dataframe tbody tr th {\n",
              "        vertical-align: top;\n",
              "    }\n",
              "\n",
              "    .dataframe thead th {\n",
              "        text-align: right;\n",
              "    }\n",
              "</style>\n",
              "<table border=\"1\" class=\"dataframe\">\n",
              "  <thead>\n",
              "    <tr style=\"text-align: right;\">\n",
              "      <th>VP Name</th>\n",
              "      <th>Alam Syed</th>\n",
              "      <th>Ankita Aggarwal</th>\n",
              "      <th>Brendon Wycoff</th>\n",
              "      <th>Clinton Mani</th>\n",
              "      <th>Dennis Faux</th>\n",
              "      <th>Earline Langton</th>\n",
              "      <th>Ekta Zutshi</th>\n",
              "      <th>Gaurav Sameria</th>\n",
              "      <th>Gayle Molter</th>\n",
              "      <th>Gopa Trilochana</th>\n",
              "      <th>...</th>\n",
              "      <th>Saurabh Singh</th>\n",
              "      <th>Son Mcconnaughy</th>\n",
              "      <th>Varsha Arora</th>\n",
              "      <th>Vidur Hukle</th>\n",
              "      <th>Vikram Rawat</th>\n",
              "      <th>Visvajeet Das</th>\n",
              "      <th>Waylon Mulder</th>\n",
              "      <th>md. afsar</th>\n",
              "      <th>neeraj kumar</th>\n",
              "      <th>som dutt</th>\n",
              "    </tr>\n",
              "    <tr>\n",
              "      <th>Deal Status Code</th>\n",
              "      <th></th>\n",
              "      <th></th>\n",
              "      <th></th>\n",
              "      <th></th>\n",
              "      <th></th>\n",
              "      <th></th>\n",
              "      <th></th>\n",
              "      <th></th>\n",
              "      <th></th>\n",
              "      <th></th>\n",
              "      <th></th>\n",
              "      <th></th>\n",
              "      <th></th>\n",
              "      <th></th>\n",
              "      <th></th>\n",
              "      <th></th>\n",
              "      <th></th>\n",
              "      <th></th>\n",
              "      <th></th>\n",
              "      <th></th>\n",
              "      <th></th>\n",
              "    </tr>\n",
              "  </thead>\n",
              "  <tbody>\n",
              "    <tr>\n",
              "      <th>Lost</th>\n",
              "      <td>1.087144e+06</td>\n",
              "      <td>654206.63000</td>\n",
              "      <td>1.096894e+06</td>\n",
              "      <td>776755.218548</td>\n",
              "      <td>554656.861667</td>\n",
              "      <td>1.189219e+06</td>\n",
              "      <td>7.912821e+05</td>\n",
              "      <td>554590.017879</td>\n",
              "      <td>7.291971e+05</td>\n",
              "      <td>1.464321e+06</td>\n",
              "      <td>...</td>\n",
              "      <td>761066.176429</td>\n",
              "      <td>1.517227e+06</td>\n",
              "      <td>7.272255e+05</td>\n",
              "      <td>615517.241724</td>\n",
              "      <td>1.681103e+06</td>\n",
              "      <td>1176470.59</td>\n",
              "      <td>235294.12</td>\n",
              "      <td>3235294.12</td>\n",
              "      <td>478943.956142</td>\n",
              "      <td>554650.469710</td>\n",
              "    </tr>\n",
              "    <tr>\n",
              "      <th>Won</th>\n",
              "      <td>1.172937e+06</td>\n",
              "      <td>503528.35065</td>\n",
              "      <td>1.909288e+06</td>\n",
              "      <td>600857.843500</td>\n",
              "      <td>315294.120000</td>\n",
              "      <td>6.034314e+05</td>\n",
              "      <td>1.021396e+06</td>\n",
              "      <td>586433.823958</td>\n",
              "      <td>1.282863e+06</td>\n",
              "      <td>8.195701e+05</td>\n",
              "      <td>...</td>\n",
              "      <td>962863.052187</td>\n",
              "      <td>5.470632e+05</td>\n",
              "      <td>3.454505e+06</td>\n",
              "      <td>540581.233095</td>\n",
              "      <td>5.161111e+05</td>\n",
              "      <td>5588235.29</td>\n",
              "      <td>88235.29</td>\n",
              "      <td>NaN</td>\n",
              "      <td>693700.190092</td>\n",
              "      <td>562977.044756</td>\n",
              "    </tr>\n",
              "  </tbody>\n",
              "</table>\n",
              "<p>2 rows × 43 columns</p>\n",
              "</div>\n",
              "      <button class=\"colab-df-convert\" onclick=\"convertToInteractive('df-cca9cb5f-5d3d-4419-b179-a752b08027b9')\"\n",
              "              title=\"Convert this dataframe to an interactive table.\"\n",
              "              style=\"display:none;\">\n",
              "        \n",
              "  <svg xmlns=\"http://www.w3.org/2000/svg\" height=\"24px\"viewBox=\"0 0 24 24\"\n",
              "       width=\"24px\">\n",
              "    <path d=\"M0 0h24v24H0V0z\" fill=\"none\"/>\n",
              "    <path d=\"M18.56 5.44l.94 2.06.94-2.06 2.06-.94-2.06-.94-.94-2.06-.94 2.06-2.06.94zm-11 1L8.5 8.5l.94-2.06 2.06-.94-2.06-.94L8.5 2.5l-.94 2.06-2.06.94zm10 10l.94 2.06.94-2.06 2.06-.94-2.06-.94-.94-2.06-.94 2.06-2.06.94z\"/><path d=\"M17.41 7.96l-1.37-1.37c-.4-.4-.92-.59-1.43-.59-.52 0-1.04.2-1.43.59L10.3 9.45l-7.72 7.72c-.78.78-.78 2.05 0 2.83L4 21.41c.39.39.9.59 1.41.59.51 0 1.02-.2 1.41-.59l7.78-7.78 2.81-2.81c.8-.78.8-2.07 0-2.86zM5.41 20L4 18.59l7.72-7.72 1.47 1.35L5.41 20z\"/>\n",
              "  </svg>\n",
              "      </button>\n",
              "      \n",
              "  <style>\n",
              "    .colab-df-container {\n",
              "      display:flex;\n",
              "      flex-wrap:wrap;\n",
              "      gap: 12px;\n",
              "    }\n",
              "\n",
              "    .colab-df-convert {\n",
              "      background-color: #E8F0FE;\n",
              "      border: none;\n",
              "      border-radius: 50%;\n",
              "      cursor: pointer;\n",
              "      display: none;\n",
              "      fill: #1967D2;\n",
              "      height: 32px;\n",
              "      padding: 0 0 0 0;\n",
              "      width: 32px;\n",
              "    }\n",
              "\n",
              "    .colab-df-convert:hover {\n",
              "      background-color: #E2EBFA;\n",
              "      box-shadow: 0px 1px 2px rgba(60, 64, 67, 0.3), 0px 1px 3px 1px rgba(60, 64, 67, 0.15);\n",
              "      fill: #174EA6;\n",
              "    }\n",
              "\n",
              "    [theme=dark] .colab-df-convert {\n",
              "      background-color: #3B4455;\n",
              "      fill: #D2E3FC;\n",
              "    }\n",
              "\n",
              "    [theme=dark] .colab-df-convert:hover {\n",
              "      background-color: #434B5C;\n",
              "      box-shadow: 0px 1px 3px 1px rgba(0, 0, 0, 0.15);\n",
              "      filter: drop-shadow(0px 1px 2px rgba(0, 0, 0, 0.3));\n",
              "      fill: #FFFFFF;\n",
              "    }\n",
              "  </style>\n",
              "\n",
              "      <script>\n",
              "        const buttonEl =\n",
              "          document.querySelector('#df-cca9cb5f-5d3d-4419-b179-a752b08027b9 button.colab-df-convert');\n",
              "        buttonEl.style.display =\n",
              "          google.colab.kernel.accessAllowed ? 'block' : 'none';\n",
              "\n",
              "        async function convertToInteractive(key) {\n",
              "          const element = document.querySelector('#df-cca9cb5f-5d3d-4419-b179-a752b08027b9');\n",
              "          const dataTable =\n",
              "            await google.colab.kernel.invokeFunction('convertToInteractive',\n",
              "                                                     [key], {});\n",
              "          if (!dataTable) return;\n",
              "\n",
              "          const docLinkHtml = 'Like what you see? Visit the ' +\n",
              "            '<a target=\"_blank\" href=https://colab.research.google.com/notebooks/data_table.ipynb>data table notebook</a>'\n",
              "            + ' to learn more about interactive tables.';\n",
              "          element.innerHTML = '';\n",
              "          dataTable['output_type'] = 'display_data';\n",
              "          await google.colab.output.renderOutput(dataTable, element);\n",
              "          const docLink = document.createElement('div');\n",
              "          docLink.innerHTML = docLinkHtml;\n",
              "          element.appendChild(docLink);\n",
              "        }\n",
              "      </script>\n",
              "    </div>\n",
              "  </div>\n",
              "  "
            ]
          },
          "metadata": {},
          "execution_count": 122
        }
      ]
    },
    {
      "cell_type": "markdown",
      "source": [
        "# Which Year my Revenue is High"
      ],
      "metadata": {
        "id": "VnuqCztky1yr"
      }
    },
    {
      "cell_type": "code",
      "source": [
        "import datetime\n",
        "newdata['Deal_Date_Year'] = newdata['Deal Date'].dt.year # For Year\n",
        "# Like Year wise Report Card"
      ],
      "metadata": {
        "id": "pn4xGcbaospn"
      },
      "execution_count": 123,
      "outputs": []
    },
    {
      "cell_type": "code",
      "source": [
        "newdata.head()"
      ],
      "metadata": {
        "colab": {
          "base_uri": "https://localhost:8080/",
          "height": 206
        },
        "id": "fOBG71EtosnA",
        "outputId": "5aae5ee8-44f2-462a-b91d-7aecc2d2de4a"
      },
      "execution_count": 124,
      "outputs": [
        {
          "output_type": "execute_result",
          "data": {
            "text/plain": [
              "  Client Category Solution Type  Deal Date     Sector Location      VP Name  \\\n",
              "0         Telecom    Solution 7 2012-03-27  Sector 24       L5  Ekta Zutshi   \n",
              "1         Telecom    Solution 7 2012-09-25  Sector 24       L5  Ekta Zutshi   \n",
              "2        Internal   Solution 59 2011-08-01  Sector 20   Others  Ekta Zutshi   \n",
              "3        Internal   Solution 59 2011-04-28  Sector 20   Others  Ekta Zutshi   \n",
              "4        Internal   Solution 32 2011-06-03  Sector 20   Others  Ekta Zutshi   \n",
              "\n",
              "      Manager Name  Deal Cost Deal Status Code  Deal_Date_Year  \n",
              "0  Gopa Trilochana  150000.00              Won            2012  \n",
              "1  Gopa Trilochana  744705.88              Won            2012  \n",
              "2   Russell Dahlen   60000.00             Lost            2011  \n",
              "3   Russell Dahlen   60000.00             Lost            2011  \n",
              "4   Russell Dahlen   80882.35             Lost            2011  "
            ],
            "text/html": [
              "\n",
              "  <div id=\"df-0679aba1-55bf-4d7a-a9ea-a42595631c78\">\n",
              "    <div class=\"colab-df-container\">\n",
              "      <div>\n",
              "<style scoped>\n",
              "    .dataframe tbody tr th:only-of-type {\n",
              "        vertical-align: middle;\n",
              "    }\n",
              "\n",
              "    .dataframe tbody tr th {\n",
              "        vertical-align: top;\n",
              "    }\n",
              "\n",
              "    .dataframe thead th {\n",
              "        text-align: right;\n",
              "    }\n",
              "</style>\n",
              "<table border=\"1\" class=\"dataframe\">\n",
              "  <thead>\n",
              "    <tr style=\"text-align: right;\">\n",
              "      <th></th>\n",
              "      <th>Client Category</th>\n",
              "      <th>Solution Type</th>\n",
              "      <th>Deal Date</th>\n",
              "      <th>Sector</th>\n",
              "      <th>Location</th>\n",
              "      <th>VP Name</th>\n",
              "      <th>Manager Name</th>\n",
              "      <th>Deal Cost</th>\n",
              "      <th>Deal Status Code</th>\n",
              "      <th>Deal_Date_Year</th>\n",
              "    </tr>\n",
              "  </thead>\n",
              "  <tbody>\n",
              "    <tr>\n",
              "      <th>0</th>\n",
              "      <td>Telecom</td>\n",
              "      <td>Solution 7</td>\n",
              "      <td>2012-03-27</td>\n",
              "      <td>Sector 24</td>\n",
              "      <td>L5</td>\n",
              "      <td>Ekta Zutshi</td>\n",
              "      <td>Gopa Trilochana</td>\n",
              "      <td>150000.00</td>\n",
              "      <td>Won</td>\n",
              "      <td>2012</td>\n",
              "    </tr>\n",
              "    <tr>\n",
              "      <th>1</th>\n",
              "      <td>Telecom</td>\n",
              "      <td>Solution 7</td>\n",
              "      <td>2012-09-25</td>\n",
              "      <td>Sector 24</td>\n",
              "      <td>L5</td>\n",
              "      <td>Ekta Zutshi</td>\n",
              "      <td>Gopa Trilochana</td>\n",
              "      <td>744705.88</td>\n",
              "      <td>Won</td>\n",
              "      <td>2012</td>\n",
              "    </tr>\n",
              "    <tr>\n",
              "      <th>2</th>\n",
              "      <td>Internal</td>\n",
              "      <td>Solution 59</td>\n",
              "      <td>2011-08-01</td>\n",
              "      <td>Sector 20</td>\n",
              "      <td>Others</td>\n",
              "      <td>Ekta Zutshi</td>\n",
              "      <td>Russell Dahlen</td>\n",
              "      <td>60000.00</td>\n",
              "      <td>Lost</td>\n",
              "      <td>2011</td>\n",
              "    </tr>\n",
              "    <tr>\n",
              "      <th>3</th>\n",
              "      <td>Internal</td>\n",
              "      <td>Solution 59</td>\n",
              "      <td>2011-04-28</td>\n",
              "      <td>Sector 20</td>\n",
              "      <td>Others</td>\n",
              "      <td>Ekta Zutshi</td>\n",
              "      <td>Russell Dahlen</td>\n",
              "      <td>60000.00</td>\n",
              "      <td>Lost</td>\n",
              "      <td>2011</td>\n",
              "    </tr>\n",
              "    <tr>\n",
              "      <th>4</th>\n",
              "      <td>Internal</td>\n",
              "      <td>Solution 32</td>\n",
              "      <td>2011-06-03</td>\n",
              "      <td>Sector 20</td>\n",
              "      <td>Others</td>\n",
              "      <td>Ekta Zutshi</td>\n",
              "      <td>Russell Dahlen</td>\n",
              "      <td>80882.35</td>\n",
              "      <td>Lost</td>\n",
              "      <td>2011</td>\n",
              "    </tr>\n",
              "  </tbody>\n",
              "</table>\n",
              "</div>\n",
              "      <button class=\"colab-df-convert\" onclick=\"convertToInteractive('df-0679aba1-55bf-4d7a-a9ea-a42595631c78')\"\n",
              "              title=\"Convert this dataframe to an interactive table.\"\n",
              "              style=\"display:none;\">\n",
              "        \n",
              "  <svg xmlns=\"http://www.w3.org/2000/svg\" height=\"24px\"viewBox=\"0 0 24 24\"\n",
              "       width=\"24px\">\n",
              "    <path d=\"M0 0h24v24H0V0z\" fill=\"none\"/>\n",
              "    <path d=\"M18.56 5.44l.94 2.06.94-2.06 2.06-.94-2.06-.94-.94-2.06-.94 2.06-2.06.94zm-11 1L8.5 8.5l.94-2.06 2.06-.94-2.06-.94L8.5 2.5l-.94 2.06-2.06.94zm10 10l.94 2.06.94-2.06 2.06-.94-2.06-.94-.94-2.06-.94 2.06-2.06.94z\"/><path d=\"M17.41 7.96l-1.37-1.37c-.4-.4-.92-.59-1.43-.59-.52 0-1.04.2-1.43.59L10.3 9.45l-7.72 7.72c-.78.78-.78 2.05 0 2.83L4 21.41c.39.39.9.59 1.41.59.51 0 1.02-.2 1.41-.59l7.78-7.78 2.81-2.81c.8-.78.8-2.07 0-2.86zM5.41 20L4 18.59l7.72-7.72 1.47 1.35L5.41 20z\"/>\n",
              "  </svg>\n",
              "      </button>\n",
              "      \n",
              "  <style>\n",
              "    .colab-df-container {\n",
              "      display:flex;\n",
              "      flex-wrap:wrap;\n",
              "      gap: 12px;\n",
              "    }\n",
              "\n",
              "    .colab-df-convert {\n",
              "      background-color: #E8F0FE;\n",
              "      border: none;\n",
              "      border-radius: 50%;\n",
              "      cursor: pointer;\n",
              "      display: none;\n",
              "      fill: #1967D2;\n",
              "      height: 32px;\n",
              "      padding: 0 0 0 0;\n",
              "      width: 32px;\n",
              "    }\n",
              "\n",
              "    .colab-df-convert:hover {\n",
              "      background-color: #E2EBFA;\n",
              "      box-shadow: 0px 1px 2px rgba(60, 64, 67, 0.3), 0px 1px 3px 1px rgba(60, 64, 67, 0.15);\n",
              "      fill: #174EA6;\n",
              "    }\n",
              "\n",
              "    [theme=dark] .colab-df-convert {\n",
              "      background-color: #3B4455;\n",
              "      fill: #D2E3FC;\n",
              "    }\n",
              "\n",
              "    [theme=dark] .colab-df-convert:hover {\n",
              "      background-color: #434B5C;\n",
              "      box-shadow: 0px 1px 3px 1px rgba(0, 0, 0, 0.15);\n",
              "      filter: drop-shadow(0px 1px 2px rgba(0, 0, 0, 0.3));\n",
              "      fill: #FFFFFF;\n",
              "    }\n",
              "  </style>\n",
              "\n",
              "      <script>\n",
              "        const buttonEl =\n",
              "          document.querySelector('#df-0679aba1-55bf-4d7a-a9ea-a42595631c78 button.colab-df-convert');\n",
              "        buttonEl.style.display =\n",
              "          google.colab.kernel.accessAllowed ? 'block' : 'none';\n",
              "\n",
              "        async function convertToInteractive(key) {\n",
              "          const element = document.querySelector('#df-0679aba1-55bf-4d7a-a9ea-a42595631c78');\n",
              "          const dataTable =\n",
              "            await google.colab.kernel.invokeFunction('convertToInteractive',\n",
              "                                                     [key], {});\n",
              "          if (!dataTable) return;\n",
              "\n",
              "          const docLinkHtml = 'Like what you see? Visit the ' +\n",
              "            '<a target=\"_blank\" href=https://colab.research.google.com/notebooks/data_table.ipynb>data table notebook</a>'\n",
              "            + ' to learn more about interactive tables.';\n",
              "          element.innerHTML = '';\n",
              "          dataTable['output_type'] = 'display_data';\n",
              "          await google.colab.output.renderOutput(dataTable, element);\n",
              "          const docLink = document.createElement('div');\n",
              "          docLink.innerHTML = docLinkHtml;\n",
              "          element.appendChild(docLink);\n",
              "        }\n",
              "      </script>\n",
              "    </div>\n",
              "  </div>\n",
              "  "
            ]
          },
          "metadata": {},
          "execution_count": 124
        }
      ]
    },
    {
      "cell_type": "markdown",
      "source": [
        "# Yearly Data"
      ],
      "metadata": {
        "id": "FaBo0zjIFRvL"
      }
    },
    {
      "cell_type": "code",
      "source": [
        "sns.histplot(newdata.Deal_Date_Year, bins=12)\n",
        "plt.show()\n",
        "\n",
        "#Observations: From 2011 to 2019 there is a upward trend moving on."
      ],
      "metadata": {
        "colab": {
          "base_uri": "https://localhost:8080/",
          "height": 450
        },
        "id": "3bTgn-xSosfG",
        "outputId": "a626b531-3774-4fcb-d367-e600dc6fa4c3"
      },
      "execution_count": 125,
      "outputs": [
        {
          "output_type": "display_data",
          "data": {
            "text/plain": [
              "<Figure size 640x480 with 1 Axes>"
            ],
            "image/png": "[encoded data removed]"
          },
          "metadata": {}
        }
      ]
    },
    {
      "cell_type": "markdown",
      "source": [
        "# Monthly Data"
      ],
      "metadata": {
        "id": "dI5xRkHNFUhJ"
      }
    },
    {
      "cell_type": "code",
      "source": [],
      "metadata": {
        "id": "iuX_Btl6BrIq"
      },
      "execution_count": 125,
      "outputs": []
    },
    {
      "cell_type": "code",
      "source": [],
      "metadata": {
        "id": "G4_NXyJxBrFh"
      },
      "execution_count": 125,
      "outputs": []
    },
    {
      "cell_type": "code",
      "source": [],
      "metadata": {
        "id": "jS2PtJl0BrCe"
      },
      "execution_count": 125,
      "outputs": []
    },
    {
      "cell_type": "code",
      "source": [],
      "metadata": {
        "id": "5NArE-VeBqzB"
      },
      "execution_count": 125,
      "outputs": []
    },
    {
      "cell_type": "code",
      "source": [],
      "metadata": {
        "id": "UDOSZvuwBqvk"
      },
      "execution_count": 125,
      "outputs": []
    },
    {
      "cell_type": "code",
      "source": [],
      "metadata": {
        "id": "royWyjbgBqsP"
      },
      "execution_count": 125,
      "outputs": []
    },
    {
      "cell_type": "code",
      "source": [],
      "metadata": {
        "id": "svhAfdbKBqkX"
      },
      "execution_count": 125,
      "outputs": []
    },
    {
      "cell_type": "code",
      "source": [],
      "metadata": {
        "id": "vFSrH8L0BqAg"
      },
      "execution_count": 125,
      "outputs": []
    },
    {
      "cell_type": "code",
      "source": [
        "newdata['Deal_Date_Month'] = newdata['Deal Date'].dt.month # For month"
      ],
      "metadata": {
        "id": "GrXTx6XLoscW"
      },
      "execution_count": 126,
      "outputs": []
    },
    {
      "cell_type": "code",
      "source": [
        "sns.histplot(newdata.Deal_Date_Month, bins=12)\n",
        "plt.show()"
      ],
      "metadata": {
        "colab": {
          "base_uri": "https://localhost:8080/",
          "height": 450
        },
        "id": "7h322jtVosZl",
        "outputId": "88ce838a-aa60-462d-e7a7-7a306f798ee1"
      },
      "execution_count": 127,
      "outputs": [
        {
          "output_type": "display_data",
          "data": {
            "text/plain": [
              "<Figure size 640x480 with 1 Axes>"
            ],
            "image/png": "[encoded data removed]"
          },
          "metadata": {}
        }
      ]
    },
    {
      "cell_type": "markdown",
      "source": [
        "# Quarterly Data"
      ],
      "metadata": {
        "id": "yLU4J3CAGPSf"
      }
    },
    {
      "cell_type": "code",
      "source": [
        "newdata['Deal_Date_quarter'] = newdata['Deal Date'].dt.quarter # For Quarter"
      ],
      "metadata": {
        "id": "3jMR2yabosP7"
      },
      "execution_count": 128,
      "outputs": []
    },
    {
      "cell_type": "code",
      "source": [
        "sns.histplot(newdata.Deal_Date_quarter, bins=4)\n",
        "plt.show()"
      ],
      "metadata": {
        "id": "gAThn1mGInvZ",
        "colab": {
          "base_uri": "https://localhost:8080/",
          "height": 450
        },
        "outputId": "26120366-f0e0-4c0a-b856-827c179a227a"
      },
      "execution_count": 129,
      "outputs": [
        {
          "output_type": "display_data",
          "data": {
            "text/plain": [
              "<Figure size 640x480 with 1 Axes>"
            ],
            "image/png": "[encoded data removed]"
          },
          "metadata": {}
        }
      ]
    },
    {
      "cell_type": "code",
      "source": [],
      "metadata": {
        "id": "XqAepIclBe9H"
      },
      "execution_count": 129,
      "outputs": []
    },
    {
      "cell_type": "code",
      "source": [],
      "metadata": {
        "id": "nzhYR-7XBe6I"
      },
      "execution_count": 129,
      "outputs": []
    },
    {
      "cell_type": "code",
      "source": [],
      "metadata": {
        "id": "6DAYmP-iBe3M"
      },
      "execution_count": 129,
      "outputs": []
    },
    {
      "cell_type": "code",
      "source": [],
      "metadata": {
        "id": "UzxNR8CKBe0M"
      },
      "execution_count": 129,
      "outputs": []
    },
    {
      "cell_type": "code",
      "source": [],
      "metadata": {
        "id": "vhe5l5-uBexQ"
      },
      "execution_count": 129,
      "outputs": []
    },
    {
      "cell_type": "code",
      "source": [],
      "metadata": {
        "id": "1WRm0riiBeuQ"
      },
      "execution_count": 129,
      "outputs": []
    },
    {
      "cell_type": "code",
      "source": [],
      "metadata": {
        "id": "taM7bzHKBerT"
      },
      "execution_count": 129,
      "outputs": []
    },
    {
      "cell_type": "code",
      "source": [],
      "metadata": {
        "id": "J96F1QBcBeik"
      },
      "execution_count": 129,
      "outputs": []
    },
    {
      "cell_type": "code",
      "source": [],
      "metadata": {
        "id": "fhP2njKnBeUG"
      },
      "execution_count": 129,
      "outputs": []
    },
    {
      "cell_type": "markdown",
      "source": [
        "# Heatmap: \n",
        "for checking collinearity like which variable has the strong correlation"
      ],
      "metadata": {
        "id": "K3KOAuU8HQAx"
      }
    },
    {
      "cell_type": "code",
      "source": [
        "sns.heatmap(newdata.corr(), annot=True, cmap='crest_r')"
      ],
      "metadata": {
        "id": "pIq_mV3gInx1",
        "colab": {
          "base_uri": "https://localhost:8080/",
          "height": 569
        },
        "outputId": "b0764733-efbe-4d20-992b-35f8806fea2d"
      },
      "execution_count": 130,
      "outputs": [
        {
          "output_type": "execute_result",
          "data": {
            "text/plain": [
              "<Axes: >"
            ]
          },
          "metadata": {},
          "execution_count": 130
        },
        {
          "output_type": "display_data",
          "data": {
            "text/plain": [
              "<Figure size 640x480 with 2 Axes>"
            ],
            "image/png": "[encoded data removed]"
          },
          "metadata": {}
        }
      ]
    },
    {
      "cell_type": "code",
      "source": [
        "newdata.head(5)"
      ],
      "metadata": {
        "id": "UOQOGRSqIn0Y",
        "colab": {
          "base_uri": "https://localhost:8080/",
          "height": 354
        },
        "outputId": "06862fa6-b000-4f2f-85e9-755538045a7e"
      },
      "execution_count": 131,
      "outputs": [
        {
          "output_type": "execute_result",
          "data": {
            "text/plain": [
              "  Client Category Solution Type  Deal Date     Sector Location      VP Name  \\\n",
              "0         Telecom    Solution 7 2012-03-27  Sector 24       L5  Ekta Zutshi   \n",
              "1         Telecom    Solution 7 2012-09-25  Sector 24       L5  Ekta Zutshi   \n",
              "2        Internal   Solution 59 2011-08-01  Sector 20   Others  Ekta Zutshi   \n",
              "3        Internal   Solution 59 2011-04-28  Sector 20   Others  Ekta Zutshi   \n",
              "4        Internal   Solution 32 2011-06-03  Sector 20   Others  Ekta Zutshi   \n",
              "\n",
              "      Manager Name  Deal Cost Deal Status Code  Deal_Date_Year  \\\n",
              "0  Gopa Trilochana  150000.00              Won            2012   \n",
              "1  Gopa Trilochana  744705.88              Won            2012   \n",
              "2   Russell Dahlen   60000.00             Lost            2011   \n",
              "3   Russell Dahlen   60000.00             Lost            2011   \n",
              "4   Russell Dahlen   80882.35             Lost            2011   \n",
              "\n",
              "   Deal_Date_Month  Deal_Date_quarter  \n",
              "0                3                  1  \n",
              "1                9                  3  \n",
              "2                8                  3  \n",
              "3                4                  2  \n",
              "4                6                  2  "
            ],
            "text/html": [
              "\n",
              "  <div id=\"df-9cf2eb40-726c-45ec-b6e6-ace0f5c7adbf\">\n",
              "    <div class=\"colab-df-container\">\n",
              "      <div>\n",
              "<style scoped>\n",
              "    .dataframe tbody tr th:only-of-type {\n",
              "        vertical-align: middle;\n",
              "    }\n",
              "\n",
              "    .dataframe tbody tr th {\n",
              "        vertical-align: top;\n",
              "    }\n",
              "\n",
              "    .dataframe thead th {\n",
              "        text-align: right;\n",
              "    }\n",
              "</style>\n",
              "<table border=\"1\" class=\"dataframe\">\n",
              "  <thead>\n",
              "    <tr style=\"text-align: right;\">\n",
              "      <th></th>\n",
              "      <th>Client Category</th>\n",
              "      <th>Solution Type</th>\n",
              "      <th>Deal Date</th>\n",
              "      <th>Sector</th>\n",
              "      <th>Location</th>\n",
              "      <th>VP Name</th>\n",
              "      <th>Manager Name</th>\n",
              "      <th>Deal Cost</th>\n",
              "      <th>Deal Status Code</th>\n",
              "      <th>Deal_Date_Year</th>\n",
              "      <th>Deal_Date_Month</th>\n",
              "      <th>Deal_Date_quarter</th>\n",
              "    </tr>\n",
              "  </thead>\n",
              "  <tbody>\n",
              "    <tr>\n",
              "      <th>0</th>\n",
              "      <td>Telecom</td>\n",
              "      <td>Solution 7</td>\n",
              "      <td>2012-03-27</td>\n",
              "      <td>Sector 24</td>\n",
              "      <td>L5</td>\n",
              "      <td>Ekta Zutshi</td>\n",
              "      <td>Gopa Trilochana</td>\n",
              "      <td>150000.00</td>\n",
              "      <td>Won</td>\n",
              "      <td>2012</td>\n",
              "      <td>3</td>\n",
              "      <td>1</td>\n",
              "    </tr>\n",
              "    <tr>\n",
              "      <th>1</th>\n",
              "      <td>Telecom</td>\n",
              "      <td>Solution 7</td>\n",
              "      <td>2012-09-25</td>\n",
              "      <td>Sector 24</td>\n",
              "      <td>L5</td>\n",
              "      <td>Ekta Zutshi</td>\n",
              "      <td>Gopa Trilochana</td>\n",
              "      <td>744705.88</td>\n",
              "      <td>Won</td>\n",
              "      <td>2012</td>\n",
              "      <td>9</td>\n",
              "      <td>3</td>\n",
              "    </tr>\n",
              "    <tr>\n",
              "      <th>2</th>\n",
              "      <td>Internal</td>\n",
              "      <td>Solution 59</td>\n",
              "      <td>2011-08-01</td>\n",
              "      <td>Sector 20</td>\n",
              "      <td>Others</td>\n",
              "      <td>Ekta Zutshi</td>\n",
              "      <td>Russell Dahlen</td>\n",
              "      <td>60000.00</td>\n",
              "      <td>Lost</td>\n",
              "      <td>2011</td>\n",
              "      <td>8</td>\n",
              "      <td>3</td>\n",
              "    </tr>\n",
              "    <tr>\n",
              "      <th>3</th>\n",
              "      <td>Internal</td>\n",
              "      <td>Solution 59</td>\n",
              "      <td>2011-04-28</td>\n",
              "      <td>Sector 20</td>\n",
              "      <td>Others</td>\n",
              "      <td>Ekta Zutshi</td>\n",
              "      <td>Russell Dahlen</td>\n",
              "      <td>60000.00</td>\n",
              "      <td>Lost</td>\n",
              "      <td>2011</td>\n",
              "      <td>4</td>\n",
              "      <td>2</td>\n",
              "    </tr>\n",
              "    <tr>\n",
              "      <th>4</th>\n",
              "      <td>Internal</td>\n",
              "      <td>Solution 32</td>\n",
              "      <td>2011-06-03</td>\n",
              "      <td>Sector 20</td>\n",
              "      <td>Others</td>\n",
              "      <td>Ekta Zutshi</td>\n",
              "      <td>Russell Dahlen</td>\n",
              "      <td>80882.35</td>\n",
              "      <td>Lost</td>\n",
              "      <td>2011</td>\n",
              "      <td>6</td>\n",
              "      <td>2</td>\n",
              "    </tr>\n",
              "  </tbody>\n",
              "</table>\n",
              "</div>\n",
              "      <button class=\"colab-df-convert\" onclick=\"convertToInteractive('df-9cf2eb40-726c-45ec-b6e6-ace0f5c7adbf')\"\n",
              "              title=\"Convert this dataframe to an interactive table.\"\n",
              "              style=\"display:none;\">\n",
              "        \n",
              "  <svg xmlns=\"http://www.w3.org/2000/svg\" height=\"24px\"viewBox=\"0 0 24 24\"\n",
              "       width=\"24px\">\n",
              "    <path d=\"M0 0h24v24H0V0z\" fill=\"none\"/>\n",
              "    <path d=\"M18.56 5.44l.94 2.06.94-2.06 2.06-.94-2.06-.94-.94-2.06-.94 2.06-2.06.94zm-11 1L8.5 8.5l.94-2.06 2.06-.94-2.06-.94L8.5 2.5l-.94 2.06-2.06.94zm10 10l.94 2.06.94-2.06 2.06-.94-2.06-.94-.94-2.06-.94 2.06-2.06.94z\"/><path d=\"M17.41 7.96l-1.37-1.37c-.4-.4-.92-.59-1.43-.59-.52 0-1.04.2-1.43.59L10.3 9.45l-7.72 7.72c-.78.78-.78 2.05 0 2.83L4 21.41c.39.39.9.59 1.41.59.51 0 1.02-.2 1.41-.59l7.78-7.78 2.81-2.81c.8-.78.8-2.07 0-2.86zM5.41 20L4 18.59l7.72-7.72 1.47 1.35L5.41 20z\"/>\n",
              "  </svg>\n",
              "      </button>\n",
              "      \n",
              "  <style>\n",
              "    .colab-df-container {\n",
              "      display:flex;\n",
              "      flex-wrap:wrap;\n",
              "      gap: 12px;\n",
              "    }\n",
              "\n",
              "    .colab-df-convert {\n",
              "      background-color: #E8F0FE;\n",
              "      border: none;\n",
              "      border-radius: 50%;\n",
              "      cursor: pointer;\n",
              "      display: none;\n",
              "      fill: #1967D2;\n",
              "      height: 32px;\n",
              "      padding: 0 0 0 0;\n",
              "      width: 32px;\n",
              "    }\n",
              "\n",
              "    .colab-df-convert:hover {\n",
              "      background-color: #E2EBFA;\n",
              "      box-shadow: 0px 1px 2px rgba(60, 64, 67, 0.3), 0px 1px 3px 1px rgba(60, 64, 67, 0.15);\n",
              "      fill: #174EA6;\n",
              "    }\n",
              "\n",
              "    [theme=dark] .colab-df-convert {\n",
              "      background-color: #3B4455;\n",
              "      fill: #D2E3FC;\n",
              "    }\n",
              "\n",
              "    [theme=dark] .colab-df-convert:hover {\n",
              "      background-color: #434B5C;\n",
              "      box-shadow: 0px 1px 3px 1px rgba(0, 0, 0, 0.15);\n",
              "      filter: drop-shadow(0px 1px 2px rgba(0, 0, 0, 0.3));\n",
              "      fill: #FFFFFF;\n",
              "    }\n",
              "  </style>\n",
              "\n",
              "      <script>\n",
              "        const buttonEl =\n",
              "          document.querySelector('#df-9cf2eb40-726c-45ec-b6e6-ace0f5c7adbf button.colab-df-convert');\n",
              "        buttonEl.style.display =\n",
              "          google.colab.kernel.accessAllowed ? 'block' : 'none';\n",
              "\n",
              "        async function convertToInteractive(key) {\n",
              "          const element = document.querySelector('#df-9cf2eb40-726c-45ec-b6e6-ace0f5c7adbf');\n",
              "          const dataTable =\n",
              "            await google.colab.kernel.invokeFunction('convertToInteractive',\n",
              "                                                     [key], {});\n",
              "          if (!dataTable) return;\n",
              "\n",
              "          const docLinkHtml = 'Like what you see? Visit the ' +\n",
              "            '<a target=\"_blank\" href=https://colab.research.google.com/notebooks/data_table.ipynb>data table notebook</a>'\n",
              "            + ' to learn more about interactive tables.';\n",
              "          element.innerHTML = '';\n",
              "          dataTable['output_type'] = 'display_data';\n",
              "          await google.colab.output.renderOutput(dataTable, element);\n",
              "          const docLink = document.createElement('div');\n",
              "          docLink.innerHTML = docLinkHtml;\n",
              "          element.appendChild(docLink);\n",
              "        }\n",
              "      </script>\n",
              "    </div>\n",
              "  </div>\n",
              "  "
            ]
          },
          "metadata": {},
          "execution_count": 131
        }
      ]
    },
    {
      "cell_type": "code",
      "source": [
        "newdata['Client Category'].value_counts()"
      ],
      "metadata": {
        "id": "idop5LvbIn3R",
        "colab": {
          "base_uri": "https://localhost:8080/",
          "height": 0
        },
        "outputId": "74ba1e25-7338-4107-97c3-ccc3640f6269"
      },
      "execution_count": 132,
      "outputs": [
        {
          "output_type": "execute_result",
          "data": {
            "text/plain": [
              "Others                   1842\n",
              "Internal                 1454\n",
              "Services_based           1202\n",
              "Tech                      913\n",
              "Domestic Public Bank      419\n",
              "International Bank        376\n",
              "Consulting                352\n",
              "Finance                   339\n",
              "Telecom                   327\n",
              "Power ind                 264\n",
              "Domestic Private Bank     262\n",
              "Insurance                 247\n",
              "Consumer Good             185\n",
              "Automobiles               178\n",
              "Infrastructure            152\n",
              "Domestic Bank             134\n",
              "Retail_market             126\n",
              "Govt                      121\n",
              "Hospitality               119\n",
              "Manufacturing             117\n",
              "Pharma                    110\n",
              "Healthcare                 99\n",
              "Electronics                81\n",
              "Media_Journal              71\n",
              "Industries                 66\n",
              "Research Development       63\n",
              "Energy                     57\n",
              "Knowledge                  50\n",
              "Management                 43\n",
              "Govt Bank Special          41\n",
              "Payment                    40\n",
              "Energy                     37\n",
              "e-commerce                 32\n",
              "Airpline                   27\n",
              "Holding                    25\n",
              "International Org          25\n",
              "Logistics                  20\n",
              "Real Estate                19\n",
              "Share_market               14\n",
              "Tax_audit                   7\n",
              "Medical                     5\n",
              "Name: Client Category, dtype: int64"
            ]
          },
          "metadata": {},
          "execution_count": 132
        }
      ]
    },
    {
      "cell_type": "code",
      "source": [
        "newdata.columns"
      ],
      "metadata": {
        "colab": {
          "base_uri": "https://localhost:8080/",
          "height": 0
        },
        "id": "QnpADpxHHtsn",
        "outputId": "469364b3-4e06-40e5-9f41-77eb52145b50"
      },
      "execution_count": 133,
      "outputs": [
        {
          "output_type": "execute_result",
          "data": {
            "text/plain": [
              "Index(['Client Category', 'Solution Type', 'Deal Date', 'Sector', 'Location',\n",
              "       'VP Name', 'Manager Name', 'Deal Cost', 'Deal Status Code',\n",
              "       'Deal_Date_Year', 'Deal_Date_Month', 'Deal_Date_quarter'],\n",
              "      dtype='object')"
            ]
          },
          "metadata": {},
          "execution_count": 133
        }
      ]
    },
    {
      "cell_type": "code",
      "source": [
        "newdata = newdata.drop(['Deal Date'], axis=1)"
      ],
      "metadata": {
        "id": "-K-QfeGKHtvm"
      },
      "execution_count": 134,
      "outputs": []
    },
    {
      "cell_type": "code",
      "source": [
        "newdata.columns"
      ],
      "metadata": {
        "colab": {
          "base_uri": "https://localhost:8080/",
          "height": 0
        },
        "id": "ICa0XB-GLdEq",
        "outputId": "3010e436-efe6-4a4b-f7eb-c68f259c4758"
      },
      "execution_count": 135,
      "outputs": [
        {
          "output_type": "execute_result",
          "data": {
            "text/plain": [
              "Index(['Client Category', 'Solution Type', 'Sector', 'Location', 'VP Name',\n",
              "       'Manager Name', 'Deal Cost', 'Deal Status Code', 'Deal_Date_Year',\n",
              "       'Deal_Date_Month', 'Deal_Date_quarter'],\n",
              "      dtype='object')"
            ]
          },
          "metadata": {},
          "execution_count": 135
        }
      ]
    },
    {
      "cell_type": "code",
      "source": [
        "newdata['Client Category'] = newdata['Client Category'].astype('category')\n",
        "newdata['Client Category'] = newdata['Client Category'].cat.codes\n",
        "\n",
        "newdata['Solution Type'] = newdata['Solution Type'].astype('category')\n",
        "newdata['Solution Type'] = newdata['Solution Type'].cat.codes\n",
        "\n",
        "newdata['Sector'] = newdata['Sector'].astype('category')\n",
        "newdata['Sector'] = newdata['Sector'].cat.codes\n",
        "\n",
        "newdata['Location'] = newdata['Location'].astype('category')\n",
        "newdata['Location'] = newdata['Location'].cat.codes\n",
        "\n",
        "newdata['VP Name'] = newdata['VP Name'].astype('category')\n",
        "newdata['VP Name'] = newdata['VP Name'].cat.codes\n",
        "\n",
        "newdata['Manager Name'] = newdata['Manager Name'].astype('category')\n",
        "newdata['Manager Name'] = newdata['Manager Name'].cat.codes\n",
        "\n",
        "newdata['Deal Status Code'] = newdata['Deal Status Code'].astype('category')\n",
        "newdata['Deal Status Code'] = newdata['Deal Status Code'].cat.codes"
      ],
      "metadata": {
        "id": "XxqsZL26Htzs"
      },
      "execution_count": 136,
      "outputs": []
    },
    {
      "cell_type": "code",
      "source": [
        "newdata.head(5)"
      ],
      "metadata": {
        "colab": {
          "base_uri": "https://localhost:8080/",
          "height": 206
        },
        "id": "yWMP_ZuxHt3A",
        "outputId": "e15ddd73-6517-487d-937e-14103fd9f074"
      },
      "execution_count": 137,
      "outputs": [
        {
          "output_type": "execute_result",
          "data": {
            "text/plain": [
              "   Client Category  Solution Type  Sector  Location  VP Name  Manager Name  \\\n",
              "0               39             64      16         7        6            82   \n",
              "1               39             64      16         7        6            82   \n",
              "2               19             54      12        12        6           183   \n",
              "3               19             54      12        12        6           183   \n",
              "4               19             25      12        12        6           183   \n",
              "\n",
              "   Deal Cost  Deal Status Code  Deal_Date_Year  Deal_Date_Month  \\\n",
              "0  150000.00                 1            2012                3   \n",
              "1  744705.88                 1            2012                9   \n",
              "2   60000.00                 0            2011                8   \n",
              "3   60000.00                 0            2011                4   \n",
              "4   80882.35                 0            2011                6   \n",
              "\n",
              "   Deal_Date_quarter  \n",
              "0                  1  \n",
              "1                  3  \n",
              "2                  3  \n",
              "3                  2  \n",
              "4                  2  "
            ],
            "text/html": [
              "\n",
              "  <div id=\"df-8927f5f9-1c8e-4f9a-8008-4943a1775ae6\">\n",
              "    <div class=\"colab-df-container\">\n",
              "      <div>\n",
              "<style scoped>\n",
              "    .dataframe tbody tr th:only-of-type {\n",
              "        vertical-align: middle;\n",
              "    }\n",
              "\n",
              "    .dataframe tbody tr th {\n",
              "        vertical-align: top;\n",
              "    }\n",
              "\n",
              "    .dataframe thead th {\n",
              "        text-align: right;\n",
              "    }\n",
              "</style>\n",
              "<table border=\"1\" class=\"dataframe\">\n",
              "  <thead>\n",
              "    <tr style=\"text-align: right;\">\n",
              "      <th></th>\n",
              "      <th>Client Category</th>\n",
              "      <th>Solution Type</th>\n",
              "      <th>Sector</th>\n",
              "      <th>Location</th>\n",
              "      <th>VP Name</th>\n",
              "      <th>Manager Name</th>\n",
              "      <th>Deal Cost</th>\n",
              "      <th>Deal Status Code</th>\n",
              "      <th>Deal_Date_Year</th>\n",
              "      <th>Deal_Date_Month</th>\n",
              "      <th>Deal_Date_quarter</th>\n",
              "    </tr>\n",
              "  </thead>\n",
              "  <tbody>\n",
              "    <tr>\n",
              "      <th>0</th>\n",
              "      <td>39</td>\n",
              "      <td>64</td>\n",
              "      <td>16</td>\n",
              "      <td>7</td>\n",
              "      <td>6</td>\n",
              "      <td>82</td>\n",
              "      <td>150000.00</td>\n",
              "      <td>1</td>\n",
              "      <td>2012</td>\n",
              "      <td>3</td>\n",
              "      <td>1</td>\n",
              "    </tr>\n",
              "    <tr>\n",
              "      <th>1</th>\n",
              "      <td>39</td>\n",
              "      <td>64</td>\n",
              "      <td>16</td>\n",
              "      <td>7</td>\n",
              "      <td>6</td>\n",
              "      <td>82</td>\n",
              "      <td>744705.88</td>\n",
              "      <td>1</td>\n",
              "      <td>2012</td>\n",
              "      <td>9</td>\n",
              "      <td>3</td>\n",
              "    </tr>\n",
              "    <tr>\n",
              "      <th>2</th>\n",
              "      <td>19</td>\n",
              "      <td>54</td>\n",
              "      <td>12</td>\n",
              "      <td>12</td>\n",
              "      <td>6</td>\n",
              "      <td>183</td>\n",
              "      <td>60000.00</td>\n",
              "      <td>0</td>\n",
              "      <td>2011</td>\n",
              "      <td>8</td>\n",
              "      <td>3</td>\n",
              "    </tr>\n",
              "    <tr>\n",
              "      <th>3</th>\n",
              "      <td>19</td>\n",
              "      <td>54</td>\n",
              "      <td>12</td>\n",
              "      <td>12</td>\n",
              "      <td>6</td>\n",
              "      <td>183</td>\n",
              "      <td>60000.00</td>\n",
              "      <td>0</td>\n",
              "      <td>2011</td>\n",
              "      <td>4</td>\n",
              "      <td>2</td>\n",
              "    </tr>\n",
              "    <tr>\n",
              "      <th>4</th>\n",
              "      <td>19</td>\n",
              "      <td>25</td>\n",
              "      <td>12</td>\n",
              "      <td>12</td>\n",
              "      <td>6</td>\n",
              "      <td>183</td>\n",
              "      <td>80882.35</td>\n",
              "      <td>0</td>\n",
              "      <td>2011</td>\n",
              "      <td>6</td>\n",
              "      <td>2</td>\n",
              "    </tr>\n",
              "  </tbody>\n",
              "</table>\n",
              "</div>\n",
              "      <button class=\"colab-df-convert\" onclick=\"convertToInteractive('df-8927f5f9-1c8e-4f9a-8008-4943a1775ae6')\"\n",
              "              title=\"Convert this dataframe to an interactive table.\"\n",
              "              style=\"display:none;\">\n",
              "        \n",
              "  <svg xmlns=\"http://www.w3.org/2000/svg\" height=\"24px\"viewBox=\"0 0 24 24\"\n",
              "       width=\"24px\">\n",
              "    <path d=\"M0 0h24v24H0V0z\" fill=\"none\"/>\n",
              "    <path d=\"M18.56 5.44l.94 2.06.94-2.06 2.06-.94-2.06-.94-.94-2.06-.94 2.06-2.06.94zm-11 1L8.5 8.5l.94-2.06 2.06-.94-2.06-.94L8.5 2.5l-.94 2.06-2.06.94zm10 10l.94 2.06.94-2.06 2.06-.94-2.06-.94-.94-2.06-.94 2.06-2.06.94z\"/><path d=\"M17.41 7.96l-1.37-1.37c-.4-.4-.92-.59-1.43-.59-.52 0-1.04.2-1.43.59L10.3 9.45l-7.72 7.72c-.78.78-.78 2.05 0 2.83L4 21.41c.39.39.9.59 1.41.59.51 0 1.02-.2 1.41-.59l7.78-7.78 2.81-2.81c.8-.78.8-2.07 0-2.86zM5.41 20L4 18.59l7.72-7.72 1.47 1.35L5.41 20z\"/>\n",
              "  </svg>\n",
              "      </button>\n",
              "      \n",
              "  <style>\n",
              "    .colab-df-container {\n",
              "      display:flex;\n",
              "      flex-wrap:wrap;\n",
              "      gap: 12px;\n",
              "    }\n",
              "\n",
              "    .colab-df-convert {\n",
              "      background-color: #E8F0FE;\n",
              "      border: none;\n",
              "      border-radius: 50%;\n",
              "      cursor: pointer;\n",
              "      display: none;\n",
              "      fill: #1967D2;\n",
              "      height: 32px;\n",
              "      padding: 0 0 0 0;\n",
              "      width: 32px;\n",
              "    }\n",
              "\n",
              "    .colab-df-convert:hover {\n",
              "      background-color: #E2EBFA;\n",
              "      box-shadow: 0px 1px 2px rgba(60, 64, 67, 0.3), 0px 1px 3px 1px rgba(60, 64, 67, 0.15);\n",
              "      fill: #174EA6;\n",
              "    }\n",
              "\n",
              "    [theme=dark] .colab-df-convert {\n",
              "      background-color: #3B4455;\n",
              "      fill: #D2E3FC;\n",
              "    }\n",
              "\n",
              "    [theme=dark] .colab-df-convert:hover {\n",
              "      background-color: #434B5C;\n",
              "      box-shadow: 0px 1px 3px 1px rgba(0, 0, 0, 0.15);\n",
              "      filter: drop-shadow(0px 1px 2px rgba(0, 0, 0, 0.3));\n",
              "      fill: #FFFFFF;\n",
              "    }\n",
              "  </style>\n",
              "\n",
              "      <script>\n",
              "        const buttonEl =\n",
              "          document.querySelector('#df-8927f5f9-1c8e-4f9a-8008-4943a1775ae6 button.colab-df-convert');\n",
              "        buttonEl.style.display =\n",
              "          google.colab.kernel.accessAllowed ? 'block' : 'none';\n",
              "\n",
              "        async function convertToInteractive(key) {\n",
              "          const element = document.querySelector('#df-8927f5f9-1c8e-4f9a-8008-4943a1775ae6');\n",
              "          const dataTable =\n",
              "            await google.colab.kernel.invokeFunction('convertToInteractive',\n",
              "                                                     [key], {});\n",
              "          if (!dataTable) return;\n",
              "\n",
              "          const docLinkHtml = 'Like what you see? Visit the ' +\n",
              "            '<a target=\"_blank\" href=https://colab.research.google.com/notebooks/data_table.ipynb>data table notebook</a>'\n",
              "            + ' to learn more about interactive tables.';\n",
              "          element.innerHTML = '';\n",
              "          dataTable['output_type'] = 'display_data';\n",
              "          await google.colab.output.renderOutput(dataTable, element);\n",
              "          const docLink = document.createElement('div');\n",
              "          docLink.innerHTML = docLinkHtml;\n",
              "          element.appendChild(docLink);\n",
              "        }\n",
              "      </script>\n",
              "    </div>\n",
              "  </div>\n",
              "  "
            ]
          },
          "metadata": {},
          "execution_count": 137
        }
      ]
    },
    {
      "cell_type": "code",
      "source": [
        "# We can remove Deal_Date_Year, Deal_Date_Month, Deal_Date_quarter as these were needed only for EDA.\n",
        "\n",
        "newdata = newdata.iloc[:,0:8]"
      ],
      "metadata": {
        "id": "vgieTzTtHuCB"
      },
      "execution_count": 138,
      "outputs": []
    },
    {
      "cell_type": "code",
      "source": [
        "newdata"
      ],
      "metadata": {
        "colab": {
          "base_uri": "https://localhost:8080/",
          "height": 424
        },
        "id": "XOB0qhD5HuFA",
        "outputId": "584427f4-c612-451e-8d01-c4a5d51dd968"
      },
      "execution_count": 139,
      "outputs": [
        {
          "output_type": "execute_result",
          "data": {
            "text/plain": [
              "       Client Category  Solution Type  Sector  Location  VP Name  \\\n",
              "0                   39             64      16         7        6   \n",
              "1                   39             64      16         7        6   \n",
              "2                   19             54      12        12        6   \n",
              "3                   19             54      12        12        6   \n",
              "4                   19             25      12        12        6   \n",
              "...                ...            ...     ...       ...      ...   \n",
              "10056               31             66      24         7       29   \n",
              "10057               19             55      12        12       29   \n",
              "10058               31             66      24         7       29   \n",
              "10059               31             58      24         7       19   \n",
              "10060               28             66       3         1       34   \n",
              "\n",
              "       Manager Name   Deal Cost  Deal Status Code  \n",
              "0                82   150000.00                 1  \n",
              "1                82   744705.88                 1  \n",
              "2               183    60000.00                 0  \n",
              "3               183    60000.00                 0  \n",
              "4               183    80882.35                 0  \n",
              "...             ...         ...               ...  \n",
              "10056           182   588235.29                 0  \n",
              "10057           198   777058.82                 1  \n",
              "10058           182   588235.29                 0  \n",
              "10059            50  3042058.82                 1  \n",
              "10060           216   147058.82                 0  \n",
              "\n",
              "[10061 rows x 8 columns]"
            ],
            "text/html": [
              "\n",
              "  <div id=\"df-8236168e-399f-4c80-95a0-fc16aa631286\">\n",
              "    <div class=\"colab-df-container\">\n",
              "      <div>\n",
              "<style scoped>\n",
              "    .dataframe tbody tr th:only-of-type {\n",
              "        vertical-align: middle;\n",
              "    }\n",
              "\n",
              "    .dataframe tbody tr th {\n",
              "        vertical-align: top;\n",
              "    }\n",
              "\n",
              "    .dataframe thead th {\n",
              "        text-align: right;\n",
              "    }\n",
              "</style>\n",
              "<table border=\"1\" class=\"dataframe\">\n",
              "  <thead>\n",
              "    <tr style=\"text-align: right;\">\n",
              "      <th></th>\n",
              "      <th>Client Category</th>\n",
              "      <th>Solution Type</th>\n",
              "      <th>Sector</th>\n",
              "      <th>Location</th>\n",
              "      <th>VP Name</th>\n",
              "      <th>Manager Name</th>\n",
              "      <th>Deal Cost</th>\n",
              "      <th>Deal Status Code</th>\n",
              "    </tr>\n",
              "  </thead>\n",
              "  <tbody>\n",
              "    <tr>\n",
              "      <th>0</th>\n",
              "      <td>39</td>\n",
              "      <td>64</td>\n",
              "      <td>16</td>\n",
              "      <td>7</td>\n",
              "      <td>6</td>\n",
              "      <td>82</td>\n",
              "      <td>150000.00</td>\n",
              "      <td>1</td>\n",
              "    </tr>\n",
              "    <tr>\n",
              "      <th>1</th>\n",
              "      <td>39</td>\n",
              "      <td>64</td>\n",
              "      <td>16</td>\n",
              "      <td>7</td>\n",
              "      <td>6</td>\n",
              "      <td>82</td>\n",
              "      <td>744705.88</td>\n",
              "      <td>1</td>\n",
              "    </tr>\n",
              "    <tr>\n",
              "      <th>2</th>\n",
              "      <td>19</td>\n",
              "      <td>54</td>\n",
              "      <td>12</td>\n",
              "      <td>12</td>\n",
              "      <td>6</td>\n",
              "      <td>183</td>\n",
              "      <td>60000.00</td>\n",
              "      <td>0</td>\n",
              "    </tr>\n",
              "    <tr>\n",
              "      <th>3</th>\n",
              "      <td>19</td>\n",
              "      <td>54</td>\n",
              "      <td>12</td>\n",
              "      <td>12</td>\n",
              "      <td>6</td>\n",
              "      <td>183</td>\n",
              "      <td>60000.00</td>\n",
              "      <td>0</td>\n",
              "    </tr>\n",
              "    <tr>\n",
              "      <th>4</th>\n",
              "      <td>19</td>\n",
              "      <td>25</td>\n",
              "      <td>12</td>\n",
              "      <td>12</td>\n",
              "      <td>6</td>\n",
              "      <td>183</td>\n",
              "      <td>80882.35</td>\n",
              "      <td>0</td>\n",
              "    </tr>\n",
              "    <tr>\n",
              "      <th>...</th>\n",
              "      <td>...</td>\n",
              "      <td>...</td>\n",
              "      <td>...</td>\n",
              "      <td>...</td>\n",
              "      <td>...</td>\n",
              "      <td>...</td>\n",
              "      <td>...</td>\n",
              "      <td>...</td>\n",
              "    </tr>\n",
              "    <tr>\n",
              "      <th>10056</th>\n",
              "      <td>31</td>\n",
              "      <td>66</td>\n",
              "      <td>24</td>\n",
              "      <td>7</td>\n",
              "      <td>29</td>\n",
              "      <td>182</td>\n",
              "      <td>588235.29</td>\n",
              "      <td>0</td>\n",
              "    </tr>\n",
              "    <tr>\n",
              "      <th>10057</th>\n",
              "      <td>19</td>\n",
              "      <td>55</td>\n",
              "      <td>12</td>\n",
              "      <td>12</td>\n",
              "      <td>29</td>\n",
              "      <td>198</td>\n",
              "      <td>777058.82</td>\n",
              "      <td>1</td>\n",
              "    </tr>\n",
              "    <tr>\n",
              "      <th>10058</th>\n",
              "      <td>31</td>\n",
              "      <td>66</td>\n",
              "      <td>24</td>\n",
              "      <td>7</td>\n",
              "      <td>29</td>\n",
              "      <td>182</td>\n",
              "      <td>588235.29</td>\n",
              "      <td>0</td>\n",
              "    </tr>\n",
              "    <tr>\n",
              "      <th>10059</th>\n",
              "      <td>31</td>\n",
              "      <td>58</td>\n",
              "      <td>24</td>\n",
              "      <td>7</td>\n",
              "      <td>19</td>\n",
              "      <td>50</td>\n",
              "      <td>3042058.82</td>\n",
              "      <td>1</td>\n",
              "    </tr>\n",
              "    <tr>\n",
              "      <th>10060</th>\n",
              "      <td>28</td>\n",
              "      <td>66</td>\n",
              "      <td>3</td>\n",
              "      <td>1</td>\n",
              "      <td>34</td>\n",
              "      <td>216</td>\n",
              "      <td>147058.82</td>\n",
              "      <td>0</td>\n",
              "    </tr>\n",
              "  </tbody>\n",
              "</table>\n",
              "<p>10061 rows × 8 columns</p>\n",
              "</div>\n",
              "      <button class=\"colab-df-convert\" onclick=\"convertToInteractive('df-8236168e-399f-4c80-95a0-fc16aa631286')\"\n",
              "              title=\"Convert this dataframe to an interactive table.\"\n",
              "              style=\"display:none;\">\n",
              "        \n",
              "  <svg xmlns=\"http://www.w3.org/2000/svg\" height=\"24px\"viewBox=\"0 0 24 24\"\n",
              "       width=\"24px\">\n",
              "    <path d=\"M0 0h24v24H0V0z\" fill=\"none\"/>\n",
              "    <path d=\"M18.56 5.44l.94 2.06.94-2.06 2.06-.94-2.06-.94-.94-2.06-.94 2.06-2.06.94zm-11 1L8.5 8.5l.94-2.06 2.06-.94-2.06-.94L8.5 2.5l-.94 2.06-2.06.94zm10 10l.94 2.06.94-2.06 2.06-.94-2.06-.94-.94-2.06-.94 2.06-2.06.94z\"/><path d=\"M17.41 7.96l-1.37-1.37c-.4-.4-.92-.59-1.43-.59-.52 0-1.04.2-1.43.59L10.3 9.45l-7.72 7.72c-.78.78-.78 2.05 0 2.83L4 21.41c.39.39.9.59 1.41.59.51 0 1.02-.2 1.41-.59l7.78-7.78 2.81-2.81c.8-.78.8-2.07 0-2.86zM5.41 20L4 18.59l7.72-7.72 1.47 1.35L5.41 20z\"/>\n",
              "  </svg>\n",
              "      </button>\n",
              "      \n",
              "  <style>\n",
              "    .colab-df-container {\n",
              "      display:flex;\n",
              "      flex-wrap:wrap;\n",
              "      gap: 12px;\n",
              "    }\n",
              "\n",
              "    .colab-df-convert {\n",
              "      background-color: #E8F0FE;\n",
              "      border: none;\n",
              "      border-radius: 50%;\n",
              "      cursor: pointer;\n",
              "      display: none;\n",
              "      fill: #1967D2;\n",
              "      height: 32px;\n",
              "      padding: 0 0 0 0;\n",
              "      width: 32px;\n",
              "    }\n",
              "\n",
              "    .colab-df-convert:hover {\n",
              "      background-color: #E2EBFA;\n",
              "      box-shadow: 0px 1px 2px rgba(60, 64, 67, 0.3), 0px 1px 3px 1px rgba(60, 64, 67, 0.15);\n",
              "      fill: #174EA6;\n",
              "    }\n",
              "\n",
              "    [theme=dark] .colab-df-convert {\n",
              "      background-color: #3B4455;\n",
              "      fill: #D2E3FC;\n",
              "    }\n",
              "\n",
              "    [theme=dark] .colab-df-convert:hover {\n",
              "      background-color: #434B5C;\n",
              "      box-shadow: 0px 1px 3px 1px rgba(0, 0, 0, 0.15);\n",
              "      filter: drop-shadow(0px 1px 2px rgba(0, 0, 0, 0.3));\n",
              "      fill: #FFFFFF;\n",
              "    }\n",
              "  </style>\n",
              "\n",
              "      <script>\n",
              "        const buttonEl =\n",
              "          document.querySelector('#df-8236168e-399f-4c80-95a0-fc16aa631286 button.colab-df-convert');\n",
              "        buttonEl.style.display =\n",
              "          google.colab.kernel.accessAllowed ? 'block' : 'none';\n",
              "\n",
              "        async function convertToInteractive(key) {\n",
              "          const element = document.querySelector('#df-8236168e-399f-4c80-95a0-fc16aa631286');\n",
              "          const dataTable =\n",
              "            await google.colab.kernel.invokeFunction('convertToInteractive',\n",
              "                                                     [key], {});\n",
              "          if (!dataTable) return;\n",
              "\n",
              "          const docLinkHtml = 'Like what you see? Visit the ' +\n",
              "            '<a target=\"_blank\" href=https://colab.research.google.com/notebooks/data_table.ipynb>data table notebook</a>'\n",
              "            + ' to learn more about interactive tables.';\n",
              "          element.innerHTML = '';\n",
              "          dataTable['output_type'] = 'display_data';\n",
              "          await google.colab.output.renderOutput(dataTable, element);\n",
              "          const docLink = document.createElement('div');\n",
              "          docLink.innerHTML = docLinkHtml;\n",
              "          element.appendChild(docLink);\n",
              "        }\n",
              "      </script>\n",
              "    </div>\n",
              "  </div>\n",
              "  "
            ]
          },
          "metadata": {},
          "execution_count": 139
        }
      ]
    },
    {
      "cell_type": "markdown",
      "source": [
        "# Split the data into X and Y"
      ],
      "metadata": {
        "id": "c8GH-0evQBGR"
      }
    },
    {
      "cell_type": "code",
      "source": [
        "x = newdata.iloc[:,0:-1].values\n",
        "y = newdata['Deal Status Code'].values"
      ],
      "metadata": {
        "id": "HRt-JO43HuHz"
      },
      "execution_count": 140,
      "outputs": []
    },
    {
      "cell_type": "markdown",
      "source": [
        "#Feature Scaling: \n",
        "\n",
        "Since the 'Deal Cost' column is too much compared to other values, we need to do 'Feature Scaling'.\n"
      ],
      "metadata": {
        "id": "HltSLofnRu9W"
      }
    },
    {
      "cell_type": "code",
      "source": [
        "from sklearn.preprocessing import StandardScaler\n",
        "sc = StandardScaler()\n",
        "x1 = sc.fit_transform(x)"
      ],
      "metadata": {
        "id": "-DDGmcQ8HuKv"
      },
      "execution_count": 141,
      "outputs": []
    },
    {
      "cell_type": "code",
      "source": [
        "x1"
      ],
      "metadata": {
        "colab": {
          "base_uri": "https://localhost:8080/",
          "height": 0
        },
        "id": "NFJdua5jHuPT",
        "outputId": "a6500c67-cc85-4c5c-b552-4da965937905"
      },
      "execution_count": 142,
      "outputs": [
        {
          "output_type": "execute_result",
          "data": {
            "text/plain": [
              "array([[ 1.40299487,  1.29765094,  0.78535088, ..., -1.11119992,\n",
              "        -0.71544412, -0.38084443],\n",
              "       [ 1.40299487,  1.29765094,  0.78535088, ..., -1.11119992,\n",
              "        -0.71544412, -0.01369972],\n",
              "       [-0.33339304,  0.86106354,  0.01663725, ..., -1.11119992,\n",
              "         0.60004268, -0.43640639],\n",
              "       ...,\n",
              "       [ 0.70843971,  1.38496843,  2.32277814, ...,  0.79154462,\n",
              "         0.58701806, -0.11029764],\n",
              "       [ 0.70843971,  1.0356985 ,  2.32277814, ..., -0.03573561,\n",
              "        -1.13223202,  1.40458284],\n",
              "       [ 0.44798152,  1.38496843, -1.71296842, ...,  1.20518474,\n",
              "         1.0298552 , -0.38266018]])"
            ]
          },
          "metadata": {},
          "execution_count": 142
        }
      ]
    },
    {
      "cell_type": "markdown",
      "source": [
        "# Splitting the Data into Train & Test"
      ],
      "metadata": {
        "id": "WY3P7ZIWT7Ql"
      }
    },
    {
      "cell_type": "code",
      "source": [
        "from sklearn.model_selection import train_test_split\n",
        "x_train, x_test, y_train, y_test = train_test_split(x1, y, train_size=0.70, random_state=101 )"
      ],
      "metadata": {
        "id": "2XuBFSgJHuSd"
      },
      "execution_count": 143,
      "outputs": []
    },
    {
      "cell_type": "markdown",
      "source": [
        "# Deep Neural Network 1:30"
      ],
      "metadata": {
        "id": "b_M2zDCGfxDn"
      }
    },
    {
      "cell_type": "code",
      "source": [
        "import tensorflow as tf\n",
        "from tensorflow import keras"
      ],
      "metadata": {
        "id": "brtnoZK9HuVL"
      },
      "execution_count": 144,
      "outputs": []
    },
    {
      "cell_type": "code",
      "source": [
        "# Architecture - 1) Sequential (If its going in sequence) 2) Functional (No sequence; for image processing)\n",
        "\n",
        "dnn = tf.keras.models.Sequential()  # API\n",
        "dnn.add(tf.keras.layers.Dense(units=20, activation='relu'))   # 1st Hidden layer ==> Dense means my model is fully connected\n",
        "dnn.add(tf.keras.layers.Dense(units=20, activation='relu'))   # 2nd Hidden layer\n",
        "dnn.add(tf.keras.layers.Dense(units=1, activation='sigmoid'))  # Output ==> Classification problem, 1 answer/output, sigmoid(logistic Regression)\n",
        "dnn.compile(optimizer='adam', loss='binary_crossentropy', metrics=['accuracy']) # compilation ;Connector; learn as why adam is the best one; loss = error (classification problem)\n",
        "dnn.fit(x_train, y_train, batch_size=32, epochs=100) # batch_size means split_data ,its not the full data, convert it to 32 size; epoch = forward propagation & backward propagation\n",
        "\n",
        "# Accuracy keep on increasing. This is called back propagation # At the 100th run, the final accuarcy is accuracy: 0.6779\n",
        "\n",
        "\n",
        "\n",
        "\n"
      ],
      "metadata": {
        "id": "_yJY0QLBHuXq",
        "colab": {
          "base_uri": "https://localhost:8080/",
          "height": 0
        },
        "outputId": "dd07fa10-5c6f-4df5-af5a-4ad38fcf07ab"
      },
      "execution_count": 145,
      "outputs": [
        {
          "output_type": "stream",
          "name": "stdout",
          "text": [
            "Epoch 1/100\n",
            "221/221 [==============================] - 1s 2ms/step - loss: 0.6849 - accuracy: 0.5869\n",
            "Epoch 2/100\n",
            "221/221 [==============================] - 0s 2ms/step - loss: 0.6602 - accuracy: 0.6176\n",
            "Epoch 3/100\n",
            "221/221 [==============================] - 0s 2ms/step - loss: 0.6553 - accuracy: 0.6190\n",
            "Epoch 4/100\n",
            "221/221 [==============================] - 0s 2ms/step - loss: 0.6527 - accuracy: 0.6187\n",
            "Epoch 5/100\n",
            "221/221 [==============================] - 0s 2ms/step - loss: 0.6502 - accuracy: 0.6197\n",
            "Epoch 6/100\n",
            "221/221 [==============================] - 0s 2ms/step - loss: 0.6479 - accuracy: 0.6203\n",
            "Epoch 7/100\n",
            "221/221 [==============================] - 0s 2ms/step - loss: 0.6459 - accuracy: 0.6237\n",
            "Epoch 8/100\n",
            "221/221 [==============================] - 0s 2ms/step - loss: 0.6432 - accuracy: 0.6264\n",
            "Epoch 9/100\n",
            "221/221 [==============================] - 0s 2ms/step - loss: 0.6412 - accuracy: 0.6302\n",
            "Epoch 10/100\n",
            "221/221 [==============================] - 0s 2ms/step - loss: 0.6400 - accuracy: 0.6311\n",
            "Epoch 11/100\n",
            "221/221 [==============================] - 0s 2ms/step - loss: 0.6371 - accuracy: 0.6390\n",
            "Epoch 12/100\n",
            "221/221 [==============================] - 0s 2ms/step - loss: 0.6372 - accuracy: 0.6412\n",
            "Epoch 13/100\n",
            "221/221 [==============================] - 0s 2ms/step - loss: 0.6352 - accuracy: 0.6400\n",
            "Epoch 14/100\n",
            "221/221 [==============================] - 0s 2ms/step - loss: 0.6339 - accuracy: 0.6458\n",
            "Epoch 15/100\n",
            "221/221 [==============================] - 0s 2ms/step - loss: 0.6334 - accuracy: 0.6447\n",
            "Epoch 16/100\n",
            "221/221 [==============================] - 0s 2ms/step - loss: 0.6318 - accuracy: 0.6460\n",
            "Epoch 17/100\n",
            "221/221 [==============================] - 0s 2ms/step - loss: 0.6306 - accuracy: 0.6487\n",
            "Epoch 18/100\n",
            "221/221 [==============================] - 0s 2ms/step - loss: 0.6300 - accuracy: 0.6458\n",
            "Epoch 19/100\n",
            "221/221 [==============================] - 0s 2ms/step - loss: 0.6300 - accuracy: 0.6461\n",
            "Epoch 20/100\n",
            "221/221 [==============================] - 0s 2ms/step - loss: 0.6282 - accuracy: 0.6512\n",
            "Epoch 21/100\n",
            "221/221 [==============================] - 0s 2ms/step - loss: 0.6277 - accuracy: 0.6502\n",
            "Epoch 22/100\n",
            "221/221 [==============================] - 1s 3ms/step - loss: 0.6274 - accuracy: 0.6536\n",
            "Epoch 23/100\n",
            "221/221 [==============================] - 1s 3ms/step - loss: 0.6260 - accuracy: 0.6538\n",
            "Epoch 24/100\n",
            "221/221 [==============================] - 1s 3ms/step - loss: 0.6248 - accuracy: 0.6532\n",
            "Epoch 25/100\n",
            "221/221 [==============================] - 1s 2ms/step - loss: 0.6245 - accuracy: 0.6500\n",
            "Epoch 26/100\n",
            "221/221 [==============================] - 1s 2ms/step - loss: 0.6245 - accuracy: 0.6525\n",
            "Epoch 27/100\n",
            "221/221 [==============================] - 1s 2ms/step - loss: 0.6232 - accuracy: 0.6551\n",
            "Epoch 28/100\n",
            "221/221 [==============================] - 1s 2ms/step - loss: 0.6232 - accuracy: 0.6538\n",
            "Epoch 29/100\n",
            "221/221 [==============================] - 1s 3ms/step - loss: 0.6216 - accuracy: 0.6579\n",
            "Epoch 30/100\n",
            "221/221 [==============================] - 0s 2ms/step - loss: 0.6218 - accuracy: 0.6539\n",
            "Epoch 31/100\n",
            "221/221 [==============================] - 0s 2ms/step - loss: 0.6210 - accuracy: 0.6575\n",
            "Epoch 32/100\n",
            "221/221 [==============================] - 0s 2ms/step - loss: 0.6200 - accuracy: 0.6573\n",
            "Epoch 33/100\n",
            "221/221 [==============================] - 0s 2ms/step - loss: 0.6202 - accuracy: 0.6592\n",
            "Epoch 34/100\n",
            "221/221 [==============================] - 0s 2ms/step - loss: 0.6194 - accuracy: 0.6583\n",
            "Epoch 35/100\n",
            "221/221 [==============================] - 0s 2ms/step - loss: 0.6183 - accuracy: 0.6617\n",
            "Epoch 36/100\n",
            "221/221 [==============================] - 0s 2ms/step - loss: 0.6181 - accuracy: 0.6575\n",
            "Epoch 37/100\n",
            "221/221 [==============================] - 0s 2ms/step - loss: 0.6187 - accuracy: 0.6552\n",
            "Epoch 38/100\n",
            "221/221 [==============================] - 0s 2ms/step - loss: 0.6179 - accuracy: 0.6606\n",
            "Epoch 39/100\n",
            "221/221 [==============================] - 0s 2ms/step - loss: 0.6169 - accuracy: 0.6607\n",
            "Epoch 40/100\n",
            "221/221 [==============================] - 0s 2ms/step - loss: 0.6166 - accuracy: 0.6623\n",
            "Epoch 41/100\n",
            "221/221 [==============================] - 0s 2ms/step - loss: 0.6159 - accuracy: 0.6595\n",
            "Epoch 42/100\n",
            "221/221 [==============================] - 0s 2ms/step - loss: 0.6164 - accuracy: 0.6595\n",
            "Epoch 43/100\n",
            "221/221 [==============================] - 0s 2ms/step - loss: 0.6155 - accuracy: 0.6599\n",
            "Epoch 44/100\n",
            "221/221 [==============================] - 0s 2ms/step - loss: 0.6152 - accuracy: 0.6622\n",
            "Epoch 45/100\n",
            "221/221 [==============================] - 0s 2ms/step - loss: 0.6149 - accuracy: 0.6599\n",
            "Epoch 46/100\n",
            "221/221 [==============================] - 0s 2ms/step - loss: 0.6137 - accuracy: 0.6634\n",
            "Epoch 47/100\n",
            "221/221 [==============================] - 0s 2ms/step - loss: 0.6140 - accuracy: 0.6633\n",
            "Epoch 48/100\n",
            "221/221 [==============================] - 0s 2ms/step - loss: 0.6128 - accuracy: 0.6637\n",
            "Epoch 49/100\n",
            "221/221 [==============================] - 0s 2ms/step - loss: 0.6134 - accuracy: 0.6654\n",
            "Epoch 50/100\n",
            "221/221 [==============================] - 0s 2ms/step - loss: 0.6126 - accuracy: 0.6630\n",
            "Epoch 51/100\n",
            "221/221 [==============================] - 0s 2ms/step - loss: 0.6117 - accuracy: 0.6656\n",
            "Epoch 52/100\n",
            "221/221 [==============================] - 0s 2ms/step - loss: 0.6121 - accuracy: 0.6626\n",
            "Epoch 53/100\n",
            "221/221 [==============================] - 0s 2ms/step - loss: 0.6129 - accuracy: 0.6647\n",
            "Epoch 54/100\n",
            "221/221 [==============================] - 0s 2ms/step - loss: 0.6113 - accuracy: 0.6640\n",
            "Epoch 55/100\n",
            "221/221 [==============================] - 0s 2ms/step - loss: 0.6107 - accuracy: 0.6666\n",
            "Epoch 56/100\n",
            "221/221 [==============================] - 1s 2ms/step - loss: 0.6106 - accuracy: 0.6646\n",
            "Epoch 57/100\n",
            "221/221 [==============================] - 1s 2ms/step - loss: 0.6112 - accuracy: 0.6642\n",
            "Epoch 58/100\n",
            "221/221 [==============================] - 1s 2ms/step - loss: 0.6088 - accuracy: 0.6657\n",
            "Epoch 59/100\n",
            "221/221 [==============================] - 0s 2ms/step - loss: 0.6088 - accuracy: 0.6660\n",
            "Epoch 60/100\n",
            "221/221 [==============================] - 1s 3ms/step - loss: 0.6089 - accuracy: 0.6674\n",
            "Epoch 61/100\n",
            "221/221 [==============================] - 1s 2ms/step - loss: 0.6089 - accuracy: 0.6666\n",
            "Epoch 62/100\n",
            "221/221 [==============================] - 1s 3ms/step - loss: 0.6091 - accuracy: 0.6640\n",
            "Epoch 63/100\n",
            "221/221 [==============================] - 1s 2ms/step - loss: 0.6083 - accuracy: 0.6679\n",
            "Epoch 64/100\n",
            "221/221 [==============================] - 0s 2ms/step - loss: 0.6069 - accuracy: 0.6687\n",
            "Epoch 65/100\n",
            "221/221 [==============================] - 0s 2ms/step - loss: 0.6076 - accuracy: 0.6690\n",
            "Epoch 66/100\n",
            "221/221 [==============================] - 0s 2ms/step - loss: 0.6074 - accuracy: 0.6680\n",
            "Epoch 67/100\n",
            "221/221 [==============================] - 0s 2ms/step - loss: 0.6063 - accuracy: 0.6663\n",
            "Epoch 68/100\n",
            "221/221 [==============================] - 0s 2ms/step - loss: 0.6064 - accuracy: 0.6683\n",
            "Epoch 69/100\n",
            "221/221 [==============================] - 0s 2ms/step - loss: 0.6068 - accuracy: 0.6701\n",
            "Epoch 70/100\n",
            "221/221 [==============================] - 0s 2ms/step - loss: 0.6061 - accuracy: 0.6677\n",
            "Epoch 71/100\n",
            "221/221 [==============================] - 0s 2ms/step - loss: 0.6050 - accuracy: 0.6713\n",
            "Epoch 72/100\n",
            "221/221 [==============================] - 0s 2ms/step - loss: 0.6052 - accuracy: 0.6714\n",
            "Epoch 73/100\n",
            "221/221 [==============================] - 0s 2ms/step - loss: 0.6050 - accuracy: 0.6677\n",
            "Epoch 74/100\n",
            "221/221 [==============================] - 0s 2ms/step - loss: 0.6055 - accuracy: 0.6676\n",
            "Epoch 75/100\n",
            "221/221 [==============================] - 0s 2ms/step - loss: 0.6052 - accuracy: 0.6705\n",
            "Epoch 76/100\n",
            "221/221 [==============================] - 0s 2ms/step - loss: 0.6048 - accuracy: 0.6754\n",
            "Epoch 77/100\n",
            "221/221 [==============================] - 0s 2ms/step - loss: 0.6042 - accuracy: 0.6687\n",
            "Epoch 78/100\n",
            "221/221 [==============================] - 0s 2ms/step - loss: 0.6036 - accuracy: 0.6741\n",
            "Epoch 79/100\n",
            "221/221 [==============================] - 0s 2ms/step - loss: 0.6032 - accuracy: 0.6762\n",
            "Epoch 80/100\n",
            "221/221 [==============================] - 0s 2ms/step - loss: 0.6027 - accuracy: 0.6727\n",
            "Epoch 81/100\n",
            "221/221 [==============================] - 0s 2ms/step - loss: 0.6026 - accuracy: 0.6728\n",
            "Epoch 82/100\n",
            "221/221 [==============================] - 0s 2ms/step - loss: 0.6025 - accuracy: 0.6718\n",
            "Epoch 83/100\n",
            "221/221 [==============================] - 0s 2ms/step - loss: 0.6015 - accuracy: 0.6752\n",
            "Epoch 84/100\n",
            "221/221 [==============================] - 0s 2ms/step - loss: 0.6014 - accuracy: 0.6732\n",
            "Epoch 85/100\n",
            "221/221 [==============================] - 0s 2ms/step - loss: 0.6020 - accuracy: 0.6755\n",
            "Epoch 86/100\n",
            "221/221 [==============================] - 0s 2ms/step - loss: 0.6014 - accuracy: 0.6737\n",
            "Epoch 87/100\n",
            "221/221 [==============================] - 0s 2ms/step - loss: 0.6019 - accuracy: 0.6721\n",
            "Epoch 88/100\n",
            "221/221 [==============================] - 0s 2ms/step - loss: 0.6014 - accuracy: 0.6762\n",
            "Epoch 89/100\n",
            "221/221 [==============================] - 0s 2ms/step - loss: 0.6003 - accuracy: 0.6731\n",
            "Epoch 90/100\n",
            "221/221 [==============================] - 1s 3ms/step - loss: 0.6002 - accuracy: 0.6789\n",
            "Epoch 91/100\n",
            "221/221 [==============================] - 1s 2ms/step - loss: 0.6002 - accuracy: 0.6781\n",
            "Epoch 92/100\n",
            "221/221 [==============================] - 1s 2ms/step - loss: 0.6013 - accuracy: 0.6776\n",
            "Epoch 93/100\n",
            "221/221 [==============================] - 1s 2ms/step - loss: 0.5998 - accuracy: 0.6803\n",
            "Epoch 94/100\n",
            "221/221 [==============================] - 0s 2ms/step - loss: 0.5985 - accuracy: 0.6750\n",
            "Epoch 95/100\n",
            "221/221 [==============================] - 1s 2ms/step - loss: 0.5981 - accuracy: 0.6771\n",
            "Epoch 96/100\n",
            "221/221 [==============================] - 0s 2ms/step - loss: 0.5984 - accuracy: 0.6785\n",
            "Epoch 97/100\n",
            "221/221 [==============================] - 1s 2ms/step - loss: 0.5983 - accuracy: 0.6781\n",
            "Epoch 98/100\n",
            "221/221 [==============================] - 1s 2ms/step - loss: 0.5986 - accuracy: 0.6775\n",
            "Epoch 99/100\n",
            "221/221 [==============================] - 0s 2ms/step - loss: 0.5981 - accuracy: 0.6721\n",
            "Epoch 100/100\n",
            "221/221 [==============================] - 0s 2ms/step - loss: 0.5970 - accuracy: 0.6779\n"
          ]
        },
        {
          "output_type": "execute_result",
          "data": {
            "text/plain": [
              "<keras.callbacks.History at 0x7fd9efbc8f70>"
            ]
          },
          "metadata": {},
          "execution_count": 145
        }
      ]
    },
    {
      "cell_type": "markdown",
      "source": [
        "To Improve the accuracy, we are increasing the count as epochs=50, the best part is it will restart from where it left (ex: accuracy: 0.6779); & not from the beginning."
      ],
      "metadata": {
        "id": "YR8lRizu8Tli"
      }
    },
    {
      "cell_type": "code",
      "source": [
        "dnn.fit(x_train, y_train, batch_size=32, epochs=50) "
      ],
      "metadata": {
        "id": "ssJhIAHkHuak",
        "colab": {
          "base_uri": "https://localhost:8080/",
          "height": 0
        },
        "outputId": "36d7cb63-39d9-4e4b-a7de-20f731b43f6c"
      },
      "execution_count": 146,
      "outputs": [
        {
          "output_type": "stream",
          "name": "stdout",
          "text": [
            "Epoch 1/50\n",
            "221/221 [==============================] - 0s 2ms/step - loss: 0.5980 - accuracy: 0.6772\n",
            "Epoch 2/50\n",
            "221/221 [==============================] - 0s 2ms/step - loss: 0.5967 - accuracy: 0.6805\n",
            "Epoch 3/50\n",
            "221/221 [==============================] - 0s 2ms/step - loss: 0.5986 - accuracy: 0.6792\n",
            "Epoch 4/50\n",
            "221/221 [==============================] - 0s 2ms/step - loss: 0.5962 - accuracy: 0.6788\n",
            "Epoch 5/50\n",
            "221/221 [==============================] - 0s 2ms/step - loss: 0.5957 - accuracy: 0.6782\n",
            "Epoch 6/50\n",
            "221/221 [==============================] - 0s 2ms/step - loss: 0.5957 - accuracy: 0.6778\n",
            "Epoch 7/50\n",
            "221/221 [==============================] - 0s 2ms/step - loss: 0.5959 - accuracy: 0.6799\n",
            "Epoch 8/50\n",
            "221/221 [==============================] - 0s 2ms/step - loss: 0.5951 - accuracy: 0.6823\n",
            "Epoch 9/50\n",
            "221/221 [==============================] - 0s 2ms/step - loss: 0.5947 - accuracy: 0.6798\n",
            "Epoch 10/50\n",
            "221/221 [==============================] - 0s 2ms/step - loss: 0.5951 - accuracy: 0.6798\n",
            "Epoch 11/50\n",
            "221/221 [==============================] - 0s 2ms/step - loss: 0.5940 - accuracy: 0.6792\n",
            "Epoch 12/50\n",
            "221/221 [==============================] - 0s 2ms/step - loss: 0.5939 - accuracy: 0.6829\n",
            "Epoch 13/50\n",
            "221/221 [==============================] - 0s 2ms/step - loss: 0.5933 - accuracy: 0.6830\n",
            "Epoch 14/50\n",
            "221/221 [==============================] - 0s 2ms/step - loss: 0.5939 - accuracy: 0.6798\n",
            "Epoch 15/50\n",
            "221/221 [==============================] - 0s 2ms/step - loss: 0.5935 - accuracy: 0.6813\n",
            "Epoch 16/50\n",
            "221/221 [==============================] - 0s 2ms/step - loss: 0.5914 - accuracy: 0.6828\n",
            "Epoch 17/50\n",
            "221/221 [==============================] - 0s 2ms/step - loss: 0.5941 - accuracy: 0.6784\n",
            "Epoch 18/50\n",
            "221/221 [==============================] - 0s 2ms/step - loss: 0.5921 - accuracy: 0.6835\n",
            "Epoch 19/50\n",
            "221/221 [==============================] - 0s 2ms/step - loss: 0.5919 - accuracy: 0.6863\n",
            "Epoch 20/50\n",
            "221/221 [==============================] - 0s 2ms/step - loss: 0.5910 - accuracy: 0.6789\n",
            "Epoch 21/50\n",
            "221/221 [==============================] - 0s 2ms/step - loss: 0.5914 - accuracy: 0.6826\n",
            "Epoch 22/50\n",
            "221/221 [==============================] - 0s 2ms/step - loss: 0.5917 - accuracy: 0.6836\n",
            "Epoch 23/50\n",
            "221/221 [==============================] - 0s 2ms/step - loss: 0.5900 - accuracy: 0.6836\n",
            "Epoch 24/50\n",
            "221/221 [==============================] - 1s 3ms/step - loss: 0.5910 - accuracy: 0.6867\n",
            "Epoch 25/50\n",
            "221/221 [==============================] - 1s 2ms/step - loss: 0.5904 - accuracy: 0.6839\n",
            "Epoch 26/50\n",
            "221/221 [==============================] - 1s 3ms/step - loss: 0.5906 - accuracy: 0.6847\n",
            "Epoch 27/50\n",
            "221/221 [==============================] - 1s 4ms/step - loss: 0.5905 - accuracy: 0.6867\n",
            "Epoch 28/50\n",
            "221/221 [==============================] - 1s 3ms/step - loss: 0.5900 - accuracy: 0.6846\n",
            "Epoch 29/50\n",
            "221/221 [==============================] - 1s 4ms/step - loss: 0.5881 - accuracy: 0.6884\n",
            "Epoch 30/50\n",
            "221/221 [==============================] - 1s 3ms/step - loss: 0.5898 - accuracy: 0.6862\n",
            "Epoch 31/50\n",
            "221/221 [==============================] - 1s 3ms/step - loss: 0.5890 - accuracy: 0.6839\n",
            "Epoch 32/50\n",
            "221/221 [==============================] - 1s 4ms/step - loss: 0.5888 - accuracy: 0.6853\n",
            "Epoch 33/50\n",
            "221/221 [==============================] - 1s 3ms/step - loss: 0.5887 - accuracy: 0.6855\n",
            "Epoch 34/50\n",
            "221/221 [==============================] - 1s 2ms/step - loss: 0.5886 - accuracy: 0.6876\n",
            "Epoch 35/50\n",
            "221/221 [==============================] - 1s 2ms/step - loss: 0.5886 - accuracy: 0.6882\n",
            "Epoch 36/50\n",
            "221/221 [==============================] - 1s 2ms/step - loss: 0.5878 - accuracy: 0.6869\n",
            "Epoch 37/50\n",
            "221/221 [==============================] - 0s 2ms/step - loss: 0.5874 - accuracy: 0.6918\n",
            "Epoch 38/50\n",
            "221/221 [==============================] - 0s 2ms/step - loss: 0.5882 - accuracy: 0.6838\n",
            "Epoch 39/50\n",
            "221/221 [==============================] - 0s 2ms/step - loss: 0.5871 - accuracy: 0.6882\n",
            "Epoch 40/50\n",
            "221/221 [==============================] - 0s 2ms/step - loss: 0.5875 - accuracy: 0.6835\n",
            "Epoch 41/50\n",
            "221/221 [==============================] - 0s 2ms/step - loss: 0.5868 - accuracy: 0.6876\n",
            "Epoch 42/50\n",
            "221/221 [==============================] - 0s 2ms/step - loss: 0.5868 - accuracy: 0.6872\n",
            "Epoch 43/50\n",
            "221/221 [==============================] - 0s 2ms/step - loss: 0.5871 - accuracy: 0.6867\n",
            "Epoch 44/50\n",
            "221/221 [==============================] - 0s 2ms/step - loss: 0.5864 - accuracy: 0.6887\n",
            "Epoch 45/50\n",
            "221/221 [==============================] - 0s 2ms/step - loss: 0.5872 - accuracy: 0.6870\n",
            "Epoch 46/50\n",
            "221/221 [==============================] - 0s 2ms/step - loss: 0.5855 - accuracy: 0.6910\n",
            "Epoch 47/50\n",
            "221/221 [==============================] - 0s 2ms/step - loss: 0.5857 - accuracy: 0.6896\n",
            "Epoch 48/50\n",
            "221/221 [==============================] - 0s 2ms/step - loss: 0.5857 - accuracy: 0.6906\n",
            "Epoch 49/50\n",
            "221/221 [==============================] - 0s 2ms/step - loss: 0.5839 - accuracy: 0.6906\n",
            "Epoch 50/50\n",
            "221/221 [==============================] - 0s 2ms/step - loss: 0.5842 - accuracy: 0.6877\n"
          ]
        },
        {
          "output_type": "execute_result",
          "data": {
            "text/plain": [
              "<keras.callbacks.History at 0x7fd9effa5ff0>"
            ]
          },
          "metadata": {},
          "execution_count": 146
        }
      ]
    },
    {
      "cell_type": "code",
      "source": [
        "dnn.fit(x_train, y_train, batch_size=32, epochs=50) "
      ],
      "metadata": {
        "id": "mFITM9dyHuc6",
        "colab": {
          "base_uri": "https://localhost:8080/",
          "height": 0
        },
        "outputId": "c49fef22-36d0-4587-e37d-53b49e0922f2"
      },
      "execution_count": 147,
      "outputs": [
        {
          "output_type": "stream",
          "name": "stdout",
          "text": [
            "Epoch 1/50\n",
            "221/221 [==============================] - 0s 2ms/step - loss: 0.5858 - accuracy: 0.6901\n",
            "Epoch 2/50\n",
            "221/221 [==============================] - 0s 2ms/step - loss: 0.5855 - accuracy: 0.6897\n",
            "Epoch 3/50\n",
            "221/221 [==============================] - 0s 2ms/step - loss: 0.5839 - accuracy: 0.6945\n",
            "Epoch 4/50\n",
            "221/221 [==============================] - 0s 2ms/step - loss: 0.5852 - accuracy: 0.6896\n",
            "Epoch 5/50\n",
            "221/221 [==============================] - 0s 2ms/step - loss: 0.5836 - accuracy: 0.6945\n",
            "Epoch 6/50\n",
            "221/221 [==============================] - 0s 2ms/step - loss: 0.5840 - accuracy: 0.6909\n",
            "Epoch 7/50\n",
            "221/221 [==============================] - 0s 2ms/step - loss: 0.5835 - accuracy: 0.6916\n",
            "Epoch 8/50\n",
            "221/221 [==============================] - 0s 2ms/step - loss: 0.5843 - accuracy: 0.6938\n",
            "Epoch 9/50\n",
            "221/221 [==============================] - 0s 2ms/step - loss: 0.5824 - accuracy: 0.6918\n",
            "Epoch 10/50\n",
            "221/221 [==============================] - 0s 2ms/step - loss: 0.5829 - accuracy: 0.6909\n",
            "Epoch 11/50\n",
            "221/221 [==============================] - 0s 2ms/step - loss: 0.5834 - accuracy: 0.6890\n",
            "Epoch 12/50\n",
            "221/221 [==============================] - 0s 2ms/step - loss: 0.5836 - accuracy: 0.6916\n",
            "Epoch 13/50\n",
            "221/221 [==============================] - 0s 2ms/step - loss: 0.5813 - accuracy: 0.6947\n",
            "Epoch 14/50\n",
            "221/221 [==============================] - 0s 2ms/step - loss: 0.5824 - accuracy: 0.6894\n",
            "Epoch 15/50\n",
            "221/221 [==============================] - 0s 2ms/step - loss: 0.5818 - accuracy: 0.6950\n",
            "Epoch 16/50\n",
            "221/221 [==============================] - 0s 2ms/step - loss: 0.5822 - accuracy: 0.6948\n",
            "Epoch 17/50\n",
            "221/221 [==============================] - 0s 2ms/step - loss: 0.5821 - accuracy: 0.6934\n",
            "Epoch 18/50\n",
            "221/221 [==============================] - 0s 2ms/step - loss: 0.5819 - accuracy: 0.6918\n",
            "Epoch 19/50\n",
            "221/221 [==============================] - 0s 2ms/step - loss: 0.5822 - accuracy: 0.6906\n",
            "Epoch 20/50\n",
            "221/221 [==============================] - 0s 2ms/step - loss: 0.5800 - accuracy: 0.6899\n",
            "Epoch 21/50\n",
            "221/221 [==============================] - 0s 2ms/step - loss: 0.5816 - accuracy: 0.6936\n",
            "Epoch 22/50\n",
            "221/221 [==============================] - 0s 2ms/step - loss: 0.5802 - accuracy: 0.6943\n",
            "Epoch 23/50\n",
            "221/221 [==============================] - 0s 2ms/step - loss: 0.5808 - accuracy: 0.6933\n",
            "Epoch 24/50\n",
            "221/221 [==============================] - 0s 2ms/step - loss: 0.5796 - accuracy: 0.6943\n",
            "Epoch 25/50\n",
            "221/221 [==============================] - 1s 2ms/step - loss: 0.5811 - accuracy: 0.6893\n",
            "Epoch 26/50\n",
            "221/221 [==============================] - 1s 3ms/step - loss: 0.5806 - accuracy: 0.6965\n",
            "Epoch 27/50\n",
            "221/221 [==============================] - 1s 2ms/step - loss: 0.5802 - accuracy: 0.6913\n",
            "Epoch 28/50\n",
            "221/221 [==============================] - 1s 3ms/step - loss: 0.5800 - accuracy: 0.6940\n",
            "Epoch 29/50\n",
            "221/221 [==============================] - 1s 3ms/step - loss: 0.5801 - accuracy: 0.6960\n",
            "Epoch 30/50\n",
            "221/221 [==============================] - 1s 2ms/step - loss: 0.5796 - accuracy: 0.6950\n",
            "Epoch 31/50\n",
            "221/221 [==============================] - 1s 3ms/step - loss: 0.5796 - accuracy: 0.6928\n",
            "Epoch 32/50\n",
            "221/221 [==============================] - 0s 2ms/step - loss: 0.5805 - accuracy: 0.6955\n",
            "Epoch 33/50\n",
            "221/221 [==============================] - 0s 2ms/step - loss: 0.5806 - accuracy: 0.6945\n",
            "Epoch 34/50\n",
            "221/221 [==============================] - 0s 2ms/step - loss: 0.5817 - accuracy: 0.6924\n",
            "Epoch 35/50\n",
            "221/221 [==============================] - 0s 2ms/step - loss: 0.5798 - accuracy: 0.6897\n",
            "Epoch 36/50\n",
            "221/221 [==============================] - 0s 2ms/step - loss: 0.5779 - accuracy: 0.6961\n",
            "Epoch 37/50\n",
            "221/221 [==============================] - 0s 2ms/step - loss: 0.5788 - accuracy: 0.6994\n",
            "Epoch 38/50\n",
            "221/221 [==============================] - 0s 2ms/step - loss: 0.5788 - accuracy: 0.6944\n",
            "Epoch 39/50\n",
            "221/221 [==============================] - 0s 2ms/step - loss: 0.5802 - accuracy: 0.6901\n",
            "Epoch 40/50\n",
            "221/221 [==============================] - 0s 2ms/step - loss: 0.5794 - accuracy: 0.6921\n",
            "Epoch 41/50\n",
            "221/221 [==============================] - 0s 2ms/step - loss: 0.5779 - accuracy: 0.6967\n",
            "Epoch 42/50\n",
            "221/221 [==============================] - 0s 2ms/step - loss: 0.5793 - accuracy: 0.6916\n",
            "Epoch 43/50\n",
            "221/221 [==============================] - 0s 2ms/step - loss: 0.5793 - accuracy: 0.6941\n",
            "Epoch 44/50\n",
            "221/221 [==============================] - 0s 2ms/step - loss: 0.5785 - accuracy: 0.6970\n",
            "Epoch 45/50\n",
            "221/221 [==============================] - 0s 2ms/step - loss: 0.5782 - accuracy: 0.6951\n",
            "Epoch 46/50\n",
            "221/221 [==============================] - 0s 2ms/step - loss: 0.5786 - accuracy: 0.6957\n",
            "Epoch 47/50\n",
            "221/221 [==============================] - 0s 2ms/step - loss: 0.5778 - accuracy: 0.6954\n",
            "Epoch 48/50\n",
            "221/221 [==============================] - 0s 2ms/step - loss: 0.5775 - accuracy: 0.6945\n",
            "Epoch 49/50\n",
            "221/221 [==============================] - 0s 2ms/step - loss: 0.5782 - accuracy: 0.6963\n",
            "Epoch 50/50\n",
            "221/221 [==============================] - 0s 2ms/step - loss: 0.5784 - accuracy: 0.6954\n"
          ]
        },
        {
          "output_type": "execute_result",
          "data": {
            "text/plain": [
              "<keras.callbacks.History at 0x7fd9effe6080>"
            ]
          },
          "metadata": {},
          "execution_count": 147
        }
      ]
    },
    {
      "cell_type": "code",
      "source": [
        "y_pred = dnn.predict(x_test)\n",
        "y_pred = (y_pred > 0.5)\n",
        "y_pred"
      ],
      "metadata": {
        "id": "WSulsiDQHuhL",
        "colab": {
          "base_uri": "https://localhost:8080/",
          "height": 0
        },
        "outputId": "fb561aab-69ec-4c66-8c6e-b4fba35e0a30"
      },
      "execution_count": 148,
      "outputs": [
        {
          "output_type": "stream",
          "name": "stdout",
          "text": [
            "95/95 [==============================] - 0s 1ms/step\n"
          ]
        },
        {
          "output_type": "execute_result",
          "data": {
            "text/plain": [
              "array([[False],\n",
              "       [ True],\n",
              "       [False],\n",
              "       ...,\n",
              "       [False],\n",
              "       [False],\n",
              "       [False]])"
            ]
          },
          "metadata": {},
          "execution_count": 148
        }
      ]
    },
    {
      "cell_type": "code",
      "source": [
        "from sklearn.metrics  import confusion_matrix, classification_report, accuracy_score"
      ],
      "metadata": {
        "id": "_7aZmiwE-v3M"
      },
      "execution_count": 149,
      "outputs": []
    },
    {
      "cell_type": "code",
      "source": [
        "print(confusion_matrix(y_test, y_pred))"
      ],
      "metadata": {
        "colab": {
          "base_uri": "https://localhost:8080/",
          "height": 0
        },
        "id": "vUq4ck46-v5w",
        "outputId": "d6d50cca-09fe-4719-cd82-317556b82db7"
      },
      "execution_count": 150,
      "outputs": [
        {
          "output_type": "stream",
          "name": "stdout",
          "text": [
            "[[1470  485]\n",
            " [ 557  507]]\n"
          ]
        }
      ]
    },
    {
      "cell_type": "code",
      "source": [
        "print(classification_report(y_test, y_pred))"
      ],
      "metadata": {
        "colab": {
          "base_uri": "https://localhost:8080/",
          "height": 0
        },
        "id": "7evolR9s-v8f",
        "outputId": "ef1e683e-0beb-447b-995a-9ed3338b7e91"
      },
      "execution_count": 151,
      "outputs": [
        {
          "output_type": "stream",
          "name": "stdout",
          "text": [
            "              precision    recall  f1-score   support\n",
            "\n",
            "           0       0.73      0.75      0.74      1955\n",
            "           1       0.51      0.48      0.49      1064\n",
            "\n",
            "    accuracy                           0.65      3019\n",
            "   macro avg       0.62      0.61      0.62      3019\n",
            "weighted avg       0.65      0.65      0.65      3019\n",
            "\n"
          ]
        }
      ]
    },
    {
      "cell_type": "code",
      "source": [
        "print(accuracy_score(y_test, y_pred)) # so we need improvement as the accuracy score is only 0.667108"
      ],
      "metadata": {
        "colab": {
          "base_uri": "https://localhost:8080/",
          "height": 0
        },
        "id": "KfZvp66N-v-0",
        "outputId": "078fbd40-a6f5-4459-e33c-c635141b0035"
      },
      "execution_count": 152,
      "outputs": [
        {
          "output_type": "stream",
          "name": "stdout",
          "text": [
            "0.6548526001987413\n"
          ]
        }
      ]
    },
    {
      "cell_type": "code",
      "source": [],
      "metadata": {
        "id": "RNFrRWh7-wBV"
      },
      "execution_count": 152,
      "outputs": []
    },
    {
      "cell_type": "code",
      "source": [],
      "metadata": {
        "id": "Za5-55Oy-wDn"
      },
      "execution_count": 152,
      "outputs": []
    },
    {
      "cell_type": "code",
      "source": [],
      "metadata": {
        "id": "rm6R6Woz-wUt"
      },
      "execution_count": 152,
      "outputs": []
    },
    {
      "cell_type": "code",
      "source": [],
      "metadata": {
        "id": "fMDOLzLH-wYY"
      },
      "execution_count": 152,
      "outputs": []
    },
    {
      "cell_type": "code",
      "source": [],
      "metadata": {
        "id": "zW2xD4Sf-wam"
      },
      "execution_count": 152,
      "outputs": []
    },
    {
      "cell_type": "code",
      "source": [],
      "metadata": {
        "id": "GMP8NVrc-wcz"
      },
      "execution_count": 152,
      "outputs": []
    }
  ]
}